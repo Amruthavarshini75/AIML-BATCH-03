{
  "nbformat": 4,
  "nbformat_minor": 0,
  "metadata": {
    "colab": {
      "provenance": [],
      "authorship_tag": "ABX9TyO0ebtSRTtmNxU3pWrJGgDk",
      "include_colab_link": true
    },
    "kernelspec": {
      "name": "python3",
      "display_name": "Python 3"
    },
    "language_info": {
      "name": "python"
    }
  },
  "cells": [
    {
      "cell_type": "markdown",
      "metadata": {
        "id": "view-in-github",
        "colab_type": "text"
      },
      "source": [
        "<a href=\"https://colab.research.google.com/github/Amruthavarshini75/AIML-BATCH-03/blob/main/Assignment_5ipynb.ipynb\" target=\"_parent\"><img src=\"https://colab.research.google.com/assets/colab-badge.svg\" alt=\"Open In Colab\"/></a>"
      ]
    },
    {
      "cell_type": "markdown",
      "source": [
        "1.Implement a Hidden Markov Model (HMM) for weather forecasting, taking scenario where we have hidden weather states (e.g., \"Sunny\" and \"Rainy\") and observable events (e.g., \"Dry\", \"Damp\", \"Wet\"). The goal is to predict the sequence of weather states based on the observations. [CO2]\n"
      ],
      "metadata": {
        "id": "kr45F3Rbff2i"
      }
    },
    {
      "cell_type": "code",
      "source": [
        "!pip install hmmlearn"
      ],
      "metadata": {
        "colab": {
          "base_uri": "https://localhost:8080/"
        },
        "id": "5Jw_qs2reHQt",
        "outputId": "344874a8-8a20-4495-ca5b-a8ffbd15f1d0"
      },
      "execution_count": 25,
      "outputs": [
        {
          "output_type": "stream",
          "name": "stdout",
          "text": [
            "Requirement already satisfied: hmmlearn in /usr/local/lib/python3.10/dist-packages (0.3.2)\n",
            "Requirement already satisfied: numpy>=1.10 in /usr/local/lib/python3.10/dist-packages (from hmmlearn) (1.26.4)\n",
            "Requirement already satisfied: scikit-learn!=0.22.0,>=0.16 in /usr/local/lib/python3.10/dist-packages (from hmmlearn) (1.3.2)\n",
            "Requirement already satisfied: scipy>=0.19 in /usr/local/lib/python3.10/dist-packages (from hmmlearn) (1.13.1)\n",
            "Requirement already satisfied: joblib>=1.1.1 in /usr/local/lib/python3.10/dist-packages (from scikit-learn!=0.22.0,>=0.16->hmmlearn) (1.4.2)\n",
            "Requirement already satisfied: threadpoolctl>=2.0.0 in /usr/local/lib/python3.10/dist-packages (from scikit-learn!=0.22.0,>=0.16->hmmlearn) (3.5.0)\n"
          ]
        }
      ]
    },
    {
      "cell_type": "code",
      "source": [
        "import numpy as np\n",
        "\n",
        "states = [\"Sunny\", \"Rainy\"]\n",
        "observations = [\"Dry\", \"Damp\", \"Wet\"]\n",
        "\n",
        "state_map = {state: i for i, state in enumerate(states)}\n",
        "obs_map = {obs: i for i, obs in enumerate(observations)}\n",
        "\n",
        "transition_prob = np.array([\n",
        "    [0.7, 0.3],\n",
        "    [0.4, 0.6]\n",
        "])\n",
        "\n",
        "emission_prob = np.array([\n",
        "    [0.6, 0.3, 0.1],\n",
        "    [0.2, 0.4, 0.4]\n",
        "])\n",
        "\n",
        "start_prob = np.array([0.8, 0.2])\n",
        "\n",
        "def viterbi(obs_sequence, start_prob, trans_prob, emit_prob):\n",
        "    n_states = len(start_prob)\n",
        "    n_obs = len(obs_sequence)\n",
        "\n",
        "    viterbi_matrix = np.zeros((n_states, n_obs))\n",
        "    backpointer = np.zeros((n_states, n_obs), dtype=int)\n",
        "\n",
        "    viterbi_matrix[:, 0] = start_prob * emit_prob[:, obs_map[obs_sequence[0]]]\n",
        "\n",
        "    for t in range(1, n_obs):\n",
        "        for s in range(n_states):\n",
        "            prob = viterbi_matrix[:, t - 1] * trans_prob[:, s] * emit_prob[s, obs_map[obs_sequence[t]]]\n",
        "            viterbi_matrix[s, t] = np.max(prob)\n",
        "            backpointer[s, t] = np.argmax(prob)\n",
        "\n",
        "    best_path = np.zeros(n_obs, dtype=int)\n",
        "    best_path[-1] = np.argmax(viterbi_matrix[:, -1])\n",
        "\n",
        "    for t in range(n_obs - 2, -1, -1):\n",
        "        best_path[t] = backpointer[best_path[t + 1], t + 1]\n",
        "\n",
        "    best_state_sequence = [states[state] for state in best_path]\n",
        "\n",
        "    return best_state_sequence, viterbi_matrix\n",
        "\n",
        "obs_sequence = [\"Dry\", \"Damp\", \"Wet\"]\n",
        "\n",
        "best_state_sequence, viterbi_matrix = viterbi(obs_sequence, start_prob, transition_prob, emission_prob)\n",
        "\n",
        "print(\"Observation Sequence:\", obs_sequence)\n",
        "print(\"Best State Sequence:\", best_state_sequence)\n",
        "print(\"Viterbi Matrix:\\n\", viterbi_matrix)"
      ],
      "metadata": {
        "colab": {
          "base_uri": "https://localhost:8080/"
        },
        "id": "QnAPomiveVDL",
        "outputId": "57ffd0ad-5244-4000-d25b-561151ef87fb"
      },
      "execution_count": 26,
      "outputs": [
        {
          "output_type": "stream",
          "name": "stdout",
          "text": [
            "Observation Sequence: ['Dry', 'Damp', 'Wet']\n",
            "Best State Sequence: ['Sunny', 'Rainy', 'Rainy']\n",
            "Viterbi Matrix:\n",
            " [[0.48     0.1008   0.007056]\n",
            " [0.04     0.0576   0.013824]]\n"
          ]
        }
      ]
    },
    {
      "cell_type": "markdown",
      "source": [],
      "metadata": {
        "id": "7HXN4z4dfejJ"
      }
    },
    {
      "cell_type": "markdown",
      "source": [
        "2.Problem Setup States (S): Hidden states representing the weather (e.g., \"Sunny\", \"Rainy\"). Observations (O): Observable events that we can measure (e.g., \"Dry\", \"Damp\", \"Wet\")."
      ],
      "metadata": {
        "id": "mS572-LqfGOp"
      }
    },
    {
      "cell_type": "code",
      "source": [
        "import numpy as np\n",
        "from hmmlearn import hmm\n",
        "\n",
        "states = [\"Sunny\", \"Rainy\"]\n",
        "n_states = len(states)\n",
        "\n",
        "observations = [\"Dry\", \"Damp\", \"Wet\"]\n",
        "n_observations = len(observations)\n",
        "print(\"States:\", states)\n",
        "print(\"Number of States:\", n_states)\n",
        "print(\"Observations:\", observations)\n",
        "print(\"Number of Observations:\", n_observations)"
      ],
      "metadata": {
        "colab": {
          "base_uri": "https://localhost:8080/"
        },
        "id": "dIJt8Q3ZeZIw",
        "outputId": "f8766b5b-5ade-4ae7-cece-709d98dcbf32"
      },
      "execution_count": 27,
      "outputs": [
        {
          "output_type": "stream",
          "name": "stdout",
          "text": [
            "States: ['Sunny', 'Rainy']\n",
            "Number of States: 2\n",
            "Observations: ['Dry', 'Damp', 'Wet']\n",
            "Number of Observations: 3\n"
          ]
        }
      ]
    },
    {
      "cell_type": "markdown",
      "source": [
        "Transition Probabilities (A): The probability of transitioning from one weather state to another.bold text"
      ],
      "metadata": {
        "id": "0PG-rSIDfLnc"
      }
    },
    {
      "cell_type": "code",
      "source": [
        "import numpy as np\n",
        "from hmmlearn import hmm\n",
        "states = [\"Sunny\", \"Rainy\"]\n",
        "n_states = len(states)\n",
        "observations = [\"Dry\", \"Damp\", \"Wet\"]\n",
        "n_observations = len(observations)\n",
        "transition_prob = np.array([\n",
        "    [0.7, 0.3],  # Sunny -> Sunny, Sunny -> Rainy\n",
        "    [0.4, 0.6]   # Rainy -> Sunny, Rainy -> Rainy\n",
        "])\n",
        "print(\"Transition Probabilities (A):\")\n",
        "print(transition_prob)"
      ],
      "metadata": {
        "colab": {
          "base_uri": "https://localhost:8080/"
        },
        "id": "09pH--46ecc6",
        "outputId": "a1ed760d-8518-4a97-f22a-8be713dd6ed8"
      },
      "execution_count": 28,
      "outputs": [
        {
          "output_type": "stream",
          "name": "stdout",
          "text": [
            "Transition Probabilities (A):\n",
            "[[0.7 0.3]\n",
            " [0.4 0.6]]\n"
          ]
        }
      ]
    },
    {
      "cell_type": "markdown",
      "source": [
        "Emission Probabilities (B): The probability of observing a certain event given the weather state.bold text"
      ],
      "metadata": {
        "id": "m0njaBC3fQqY"
      }
    },
    {
      "cell_type": "code",
      "source": [
        "import numpy as np\n",
        "from hmmlearn import hmm\n",
        "\n",
        "states = [\"Sunny\", \"Rainy\"]\n",
        "n_states = len(states)\n",
        "\n",
        "observations = [\"Dry\", \"Damp\", \"Wet\"]\n",
        "n_observations = len(observations)\n",
        "emission_prob = np.array([\n",
        "    [0.8, 0.15, 0.05],  # Sunny -> Dry, Sunny -> Damp, Sunny -> Wet\n",
        "    [0.1, 0.35, 0.55]   # Rainy -> Dry, Rainy -> Damp, Rainy -> Wet\n",
        "])\n",
        "print(\"Emission Probabilities (B):\")\n",
        "print(emission_prob)\n"
      ],
      "metadata": {
        "colab": {
          "base_uri": "https://localhost:8080/"
        },
        "id": "GbVELCIlefm9",
        "outputId": "914e351e-de2b-4e1d-a8d1-00af07e35c15"
      },
      "execution_count": 29,
      "outputs": [
        {
          "output_type": "stream",
          "name": "stdout",
          "text": [
            "Emission Probabilities (B):\n",
            "[[0.8  0.15 0.05]\n",
            " [0.1  0.35 0.55]]\n"
          ]
        }
      ]
    },
    {
      "cell_type": "markdown",
      "source": [
        "Initial Probabilities (π): The probability distribution over the initial states. bold text"
      ],
      "metadata": {
        "id": "G3xiD7yVfSnV"
      }
    },
    {
      "cell_type": "code",
      "source": [
        "import numpy as np\n",
        "states = [\"Sunny\", \"Rainy\"]\n",
        "n_states = len(states)\n",
        "start_prob = np.array([0.6, 0.4])  # Initial probability of being Sunny or Rainy\n",
        "print(\"Initial Probabilities (π):\")\n",
        "print(start_prob)\n"
      ],
      "metadata": {
        "colab": {
          "base_uri": "https://localhost:8080/"
        },
        "id": "LUaijfS7ejhc",
        "outputId": "c12f43ac-d983-4bb0-f126-ec7cf8c6b1de"
      },
      "execution_count": 30,
      "outputs": [
        {
          "output_type": "stream",
          "name": "stdout",
          "text": [
            "Initial Probabilities (π):\n",
            "[0.6 0.4]\n"
          ]
        }
      ]
    },
    {
      "cell_type": "markdown",
      "source": [
        "Take different transition and emission probabilities or observation sequences on above problem and see how the model's predictions change. [CO2]bold text\n",
        "\n"
      ],
      "metadata": {
        "id": "8OpGCRzyfXxB"
      }
    },
    {
      "cell_type": "code",
      "source": [
        "import numpy as np\n",
        "from hmmlearn import hmm\n",
        "\n",
        "states = [\"Sunny\", \"Rainy\"]\n",
        "n_states = len(states)\n",
        "\n",
        "transition_prob = np.array([\n",
        "    [0.6, 0.4],\n",
        "    [0.5, 0.5]\n",
        "])\n",
        "\n",
        "means = np.array([\n",
        "    [1.2],\n",
        "    [2.8]\n",
        "])\n",
        "covariances = np.array([\n",
        "    [0.4],\n",
        "    [0.6]\n",
        "])\n",
        "\n",
        "start_prob = np.array([0.7, 0.3])\n",
        "\n",
        "model = hmm.GaussianHMM(n_components=n_states, covariance_type='diag')\n",
        "\n",
        "model.startprob_ = start_prob\n",
        "model.transmat_ = transition_prob\n",
        "model.means_ = means\n",
        "model.covars_ = covariances\n",
        "\n",
        "observation_sequences = [\n",
        "    np.array([1, 2, 3, 1, 2]).reshape(-1, 1),\n",
        "    np.array([3, 3, 2, 1]).reshape(-1, 1)\n",
        "]\n",
        "\n",
        "for i, observation_sequence in enumerate(observation_sequences):\n",
        "\n",
        "    logprob, hidden_states = model.decode(observation_sequence, algorithm=\"viterbi\")\n",
        "    print(f\"\\nObservation Sequence {i + 1}: {[observations[j-1] for j in observation_sequence.flatten()]}\")\n",
        "    print(\"Predicted Hidden States:\", [states[i] for i in hidden_states])"
      ],
      "metadata": {
        "colab": {
          "base_uri": "https://localhost:8080/"
        },
        "id": "QjM6ibg5erYP",
        "outputId": "c71693e1-914d-41c9-f5a5-e92a842a256a"
      },
      "execution_count": 31,
      "outputs": [
        {
          "output_type": "stream",
          "name": "stdout",
          "text": [
            "\n",
            "Observation Sequence 1: ['Dry', 'Damp', 'Wet', 'Dry', 'Damp']\n",
            "Predicted Hidden States: ['Sunny', 'Sunny', 'Rainy', 'Sunny', 'Sunny']\n",
            "\n",
            "Observation Sequence 2: ['Wet', 'Wet', 'Damp', 'Dry']\n",
            "Predicted Hidden States: ['Rainy', 'Rainy', 'Sunny', 'Sunny']\n"
          ]
        }
      ]
    }
  ]
}