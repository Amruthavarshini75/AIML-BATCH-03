{
  "nbformat": 4,
  "nbformat_minor": 0,
  "metadata": {
    "colab": {
      "provenance": [],
      "authorship_tag": "ABX9TyNioc90OMAoXWm/nv1pNdlx",
      "include_colab_link": true
    },
    "kernelspec": {
      "name": "python3",
      "display_name": "Python 3"
    },
    "language_info": {
      "name": "python"
    }
  },
  "cells": [
    {
      "cell_type": "markdown",
      "metadata": {
        "id": "view-in-github",
        "colab_type": "text"
      },
      "source": [
        "<a href=\"https://colab.research.google.com/github/Amruthavarshini75/AIML-BATCH-03/blob/main/assignment_3_part_3.ipynb\" target=\"_parent\"><img src=\"https://colab.research.google.com/assets/colab-badge.svg\" alt=\"Open In Colab\"/></a>"
      ]
    },
    {
      "cell_type": "markdown",
      "source": [],
      "metadata": {
        "id": "X7qQ8Z1F9t9U"
      }
    },
    {
      "cell_type": "markdown",
      "source": [
        "implementation the game strategy using tictactoe\n"
      ],
      "metadata": {
        "id": "926bOBvY9v7Y"
      }
    },
    {
      "cell_type": "code",
      "source": [
        "class TicTacToe(Game):\n",
        "      \"\"\"Play TicTacToe on an `height` by `width` board, needing `k` in a row to win.\n",
        "      'X' plays first against 'O'.\"\"\"\n",
        "\n",
        "      def __init__(self, height=3, width=3, k=3):\n",
        "          self.k = k # k in a row\n",
        "          self.squares = {(x, y) for x in range(width) for y in range(height)}\n",
        "          self.initial = Board(height=height, width=width, to_move='X', utility=0)\n",
        "\n",
        "      def actions(self, board):\n",
        "         \"\"\"Legal moves are any square not yet taken.\"\"\"\n",
        "         return self.squares - set(board)\n",
        "\n",
        "      def result(self, board, square):\n",
        "         \"\"\"Place a marker for current player on square.\"\"\"\n",
        "         player = board.to_move\n",
        "         board = board.new({square: player}, to_move=('O' if player == 'X' else 'X'))\n",
        "         win = k_in_row(board, player, square, self.k)\n",
        "         board.utility = (0 if not win else +1 if player == 'X' else -1)\n",
        "         return board\n",
        "\n",
        "      def utility(self, board, player):\n",
        "         \"\"\"Return the value to player; 1 for win, -1 for loss, 0 otherwise.\"\"\"\n",
        "         return board.utility if player == 'X' else -board.utility\n",
        "\n",
        "      def is_terminal(self, board):\n",
        "         \"\"\"A board is a terminal state if it is won or there are no empty squares.\"\"\"\n",
        "         return board.utility != 0 or len(self.squares) == len(board)\n",
        "\n",
        "      def display(self, board): print(board)\n",
        "\n",
        "\n",
        "def k_in_row(board, player, square, k):\n",
        "     \"\"\"True if player has k pieces in a line through square.\"\"\"\n",
        "     def in_row(x, y, dx, dy): return 0 if board[x, y] != player else 1 + in_row(x + dx, y + dy, dx, dy)\n",
        "     return any(in_row(*square, dx, dy) + in_row(*square, -dx, -dy)-1>=k\n",
        "               for (dx, dy) in ((0, 1), (1, 0), (1, 1), (1, -1)))\n",
        "\n"
      ],
      "metadata": {
        "id": "mVlcCLOb97eG"
      },
      "execution_count": null,
      "outputs": []
    }
  ]
}