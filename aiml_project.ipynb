{
  "nbformat": 4,
  "nbformat_minor": 0,
  "metadata": {
    "colab": {
      "provenance": [],
      "authorship_tag": "ABX9TyNBxZ/VdOyI5dxGHj3w8oWT",
      "include_colab_link": true
    },
    "kernelspec": {
      "name": "python3",
      "display_name": "Python 3"
    },
    "language_info": {
      "name": "python"
    }
  },
  "cells": [
    {
      "cell_type": "markdown",
      "metadata": {
        "id": "view-in-github",
        "colab_type": "text"
      },
      "source": [
        "<a href=\"https://colab.research.google.com/github/Amruthavarshini75/AIML-BATCH-03/blob/main/aiml_project.ipynb\" target=\"_parent\"><img src=\"https://colab.research.google.com/assets/colab-badge.svg\" alt=\"Open In Colab\"/></a>"
      ]
    },
    {
      "cell_type": "code",
      "source": [
        "import pandas as pd\n",
        "d=pd.read_csv('/content/district.csv')\n",
        "print(d)"
      ],
      "metadata": {
        "colab": {
          "base_uri": "https://localhost:8080/"
        },
        "id": "MUOR0Zpt28oH",
        "outputId": "a9f402ae-80cc-4390-c396-548f2298cb97"
      },
      "execution_count": 5,
      "outputs": [
        {
          "output_type": "stream",
          "name": "stdout",
          "text": [
            "                   STATE_UT_NAME        DISTRICT    JAN   FEB    MAR    APR  \\\n",
            "0    ANDAMAN And NICOBAR ISLANDS         NICOBAR  107.3  57.9   65.2  117.0   \n",
            "1    ANDAMAN And NICOBAR ISLANDS   SOUTH ANDAMAN   43.7  26.0   18.6   90.5   \n",
            "2    ANDAMAN And NICOBAR ISLANDS   N & M ANDAMAN   32.7  15.9    8.6   53.4   \n",
            "3              ARUNACHAL PRADESH           LOHIT   42.2  80.8  176.4  358.5   \n",
            "4              ARUNACHAL PRADESH      EAST SIANG   33.3  79.5  105.9  216.5   \n",
            "..                           ...             ...    ...   ...    ...    ...   \n",
            "636                       KERALA          IDUKKI   13.4  22.1   43.6  150.4   \n",
            "637                       KERALA        KASARGOD    2.3   1.0    8.4   46.9   \n",
            "638                       KERALA  PATHANAMTHITTA   19.8  45.2   73.9  184.9   \n",
            "639                       KERALA         WAYANAD    4.8   8.3   17.5   83.3   \n",
            "640                  LAKSHADWEEP     LAKSHADWEEP   20.8  14.7   11.8   48.9   \n",
            "\n",
            "       MAY    JUN     JUL    AUG    SEP    OCT    NOV    DEC  ANNUAL  Jan-Feb  \\\n",
            "0    358.5  295.5   285.0  271.9  354.8  326.0  315.2  250.9  2805.2    165.2   \n",
            "1    374.4  457.2   421.3  423.1  455.6  301.2  275.8  128.3  3015.7     69.7   \n",
            "2    343.6  503.3   465.4  460.9  454.8  276.1  198.6  100.0  2913.3     48.6   \n",
            "3    306.4  447.0   660.1  427.8  313.6  167.1   34.1   29.8  3043.8    123.0   \n",
            "4    323.0  738.3   990.9  711.2  568.0  206.9   29.5   31.7  4034.7    112.8   \n",
            "..     ...    ...     ...    ...    ...    ...    ...    ...     ...      ...   \n",
            "636  232.6  651.6   788.9  527.3  308.4  343.2  172.9   48.1  3302.5     35.5   \n",
            "637  217.6  999.6  1108.5  636.3  263.1  234.9   84.6   18.4  3621.6      3.3   \n",
            "638  294.7  556.9   539.9  352.7  266.2  359.4  213.5   51.3  2958.4     65.0   \n",
            "639  174.6  698.1  1110.4  592.9  230.7  213.1   93.6   25.8  3253.1     13.1   \n",
            "640  171.7  330.2   287.7  217.5  163.1  157.1  117.7   58.8  1600.0     35.5   \n",
            "\n",
            "     Mar-May  Jun-Sep  Oct-Dec  \n",
            "0      540.7   1207.2    892.1  \n",
            "1      483.5   1757.2    705.3  \n",
            "2      405.6   1884.4    574.7  \n",
            "3      841.3   1848.5    231.0  \n",
            "4      645.4   3008.4    268.1  \n",
            "..       ...      ...      ...  \n",
            "636    426.6   2276.2    564.2  \n",
            "637    272.9   3007.5    337.9  \n",
            "638    553.5   1715.7    624.2  \n",
            "639    275.4   2632.1    332.5  \n",
            "640    232.4    998.5    333.6  \n",
            "\n",
            "[641 rows x 19 columns]\n"
          ]
        }
      ]
    },
    {
      "cell_type": "code",
      "source": [
        "y=d['ANNUAL']\n",
        "print(y)"
      ],
      "metadata": {
        "colab": {
          "base_uri": "https://localhost:8080/"
        },
        "id": "1iRn_iMd3ene",
        "outputId": "f23c5419-d278-4227-e06b-07802e8aa6ac"
      },
      "execution_count": 6,
      "outputs": [
        {
          "output_type": "stream",
          "name": "stdout",
          "text": [
            "0      2805.2\n",
            "1      3015.7\n",
            "2      2913.3\n",
            "3      3043.8\n",
            "4      4034.7\n",
            "        ...  \n",
            "636    3302.5\n",
            "637    3621.6\n",
            "638    2958.4\n",
            "639    3253.1\n",
            "640    1600.0\n",
            "Name: ANNUAL, Length: 641, dtype: float64\n"
          ]
        }
      ]
    },
    {
      "cell_type": "code",
      "source": [
        "x=d.drop(columns=['ANNUAL'])\n",
        "print(x)\n",
        "x=x.drop(columns=['STATE_UT_NAME'])"
      ],
      "metadata": {
        "colab": {
          "base_uri": "https://localhost:8080/"
        },
        "id": "GxPGQFlY3oj0",
        "outputId": "a09a3f65-bf58-4691-cb9c-f262c71a68ef"
      },
      "execution_count": 7,
      "outputs": [
        {
          "output_type": "stream",
          "name": "stdout",
          "text": [
            "                   STATE_UT_NAME        DISTRICT    JAN   FEB    MAR    APR  \\\n",
            "0    ANDAMAN And NICOBAR ISLANDS         NICOBAR  107.3  57.9   65.2  117.0   \n",
            "1    ANDAMAN And NICOBAR ISLANDS   SOUTH ANDAMAN   43.7  26.0   18.6   90.5   \n",
            "2    ANDAMAN And NICOBAR ISLANDS   N & M ANDAMAN   32.7  15.9    8.6   53.4   \n",
            "3              ARUNACHAL PRADESH           LOHIT   42.2  80.8  176.4  358.5   \n",
            "4              ARUNACHAL PRADESH      EAST SIANG   33.3  79.5  105.9  216.5   \n",
            "..                           ...             ...    ...   ...    ...    ...   \n",
            "636                       KERALA          IDUKKI   13.4  22.1   43.6  150.4   \n",
            "637                       KERALA        KASARGOD    2.3   1.0    8.4   46.9   \n",
            "638                       KERALA  PATHANAMTHITTA   19.8  45.2   73.9  184.9   \n",
            "639                       KERALA         WAYANAD    4.8   8.3   17.5   83.3   \n",
            "640                  LAKSHADWEEP     LAKSHADWEEP   20.8  14.7   11.8   48.9   \n",
            "\n",
            "       MAY    JUN     JUL    AUG    SEP    OCT    NOV    DEC  Jan-Feb  \\\n",
            "0    358.5  295.5   285.0  271.9  354.8  326.0  315.2  250.9    165.2   \n",
            "1    374.4  457.2   421.3  423.1  455.6  301.2  275.8  128.3     69.7   \n",
            "2    343.6  503.3   465.4  460.9  454.8  276.1  198.6  100.0     48.6   \n",
            "3    306.4  447.0   660.1  427.8  313.6  167.1   34.1   29.8    123.0   \n",
            "4    323.0  738.3   990.9  711.2  568.0  206.9   29.5   31.7    112.8   \n",
            "..     ...    ...     ...    ...    ...    ...    ...    ...      ...   \n",
            "636  232.6  651.6   788.9  527.3  308.4  343.2  172.9   48.1     35.5   \n",
            "637  217.6  999.6  1108.5  636.3  263.1  234.9   84.6   18.4      3.3   \n",
            "638  294.7  556.9   539.9  352.7  266.2  359.4  213.5   51.3     65.0   \n",
            "639  174.6  698.1  1110.4  592.9  230.7  213.1   93.6   25.8     13.1   \n",
            "640  171.7  330.2   287.7  217.5  163.1  157.1  117.7   58.8     35.5   \n",
            "\n",
            "     Mar-May  Jun-Sep  Oct-Dec  \n",
            "0      540.7   1207.2    892.1  \n",
            "1      483.5   1757.2    705.3  \n",
            "2      405.6   1884.4    574.7  \n",
            "3      841.3   1848.5    231.0  \n",
            "4      645.4   3008.4    268.1  \n",
            "..       ...      ...      ...  \n",
            "636    426.6   2276.2    564.2  \n",
            "637    272.9   3007.5    337.9  \n",
            "638    553.5   1715.7    624.2  \n",
            "639    275.4   2632.1    332.5  \n",
            "640    232.4    998.5    333.6  \n",
            "\n",
            "[641 rows x 18 columns]\n"
          ]
        }
      ]
    },
    {
      "cell_type": "code",
      "source": [
        "x=x.drop(columns=['DISTRICT'])\n",
        "print(x)"
      ],
      "metadata": {
        "colab": {
          "base_uri": "https://localhost:8080/"
        },
        "id": "jH959e6u3wNq",
        "outputId": "90b8d87b-694f-4161-a94d-8598418cf181"
      },
      "execution_count": 8,
      "outputs": [
        {
          "output_type": "stream",
          "name": "stdout",
          "text": [
            "       JAN   FEB    MAR    APR    MAY    JUN     JUL    AUG    SEP    OCT  \\\n",
            "0    107.3  57.9   65.2  117.0  358.5  295.5   285.0  271.9  354.8  326.0   \n",
            "1     43.7  26.0   18.6   90.5  374.4  457.2   421.3  423.1  455.6  301.2   \n",
            "2     32.7  15.9    8.6   53.4  343.6  503.3   465.4  460.9  454.8  276.1   \n",
            "3     42.2  80.8  176.4  358.5  306.4  447.0   660.1  427.8  313.6  167.1   \n",
            "4     33.3  79.5  105.9  216.5  323.0  738.3   990.9  711.2  568.0  206.9   \n",
            "..     ...   ...    ...    ...    ...    ...     ...    ...    ...    ...   \n",
            "636   13.4  22.1   43.6  150.4  232.6  651.6   788.9  527.3  308.4  343.2   \n",
            "637    2.3   1.0    8.4   46.9  217.6  999.6  1108.5  636.3  263.1  234.9   \n",
            "638   19.8  45.2   73.9  184.9  294.7  556.9   539.9  352.7  266.2  359.4   \n",
            "639    4.8   8.3   17.5   83.3  174.6  698.1  1110.4  592.9  230.7  213.1   \n",
            "640   20.8  14.7   11.8   48.9  171.7  330.2   287.7  217.5  163.1  157.1   \n",
            "\n",
            "       NOV    DEC  Jan-Feb  Mar-May  Jun-Sep  Oct-Dec  \n",
            "0    315.2  250.9    165.2    540.7   1207.2    892.1  \n",
            "1    275.8  128.3     69.7    483.5   1757.2    705.3  \n",
            "2    198.6  100.0     48.6    405.6   1884.4    574.7  \n",
            "3     34.1   29.8    123.0    841.3   1848.5    231.0  \n",
            "4     29.5   31.7    112.8    645.4   3008.4    268.1  \n",
            "..     ...    ...      ...      ...      ...      ...  \n",
            "636  172.9   48.1     35.5    426.6   2276.2    564.2  \n",
            "637   84.6   18.4      3.3    272.9   3007.5    337.9  \n",
            "638  213.5   51.3     65.0    553.5   1715.7    624.2  \n",
            "639   93.6   25.8     13.1    275.4   2632.1    332.5  \n",
            "640  117.7   58.8     35.5    232.4    998.5    333.6  \n",
            "\n",
            "[641 rows x 16 columns]\n"
          ]
        }
      ]
    },
    {
      "cell_type": "code",
      "source": [
        "print(x)\n",
        "print(y)"
      ],
      "metadata": {
        "colab": {
          "base_uri": "https://localhost:8080/"
        },
        "id": "5cOIzQCy34gA",
        "outputId": "75b5e7ff-1490-4866-d360-8d441456cee9"
      },
      "execution_count": 9,
      "outputs": [
        {
          "output_type": "stream",
          "name": "stdout",
          "text": [
            "       JAN   FEB    MAR    APR    MAY    JUN     JUL    AUG    SEP    OCT  \\\n",
            "0    107.3  57.9   65.2  117.0  358.5  295.5   285.0  271.9  354.8  326.0   \n",
            "1     43.7  26.0   18.6   90.5  374.4  457.2   421.3  423.1  455.6  301.2   \n",
            "2     32.7  15.9    8.6   53.4  343.6  503.3   465.4  460.9  454.8  276.1   \n",
            "3     42.2  80.8  176.4  358.5  306.4  447.0   660.1  427.8  313.6  167.1   \n",
            "4     33.3  79.5  105.9  216.5  323.0  738.3   990.9  711.2  568.0  206.9   \n",
            "..     ...   ...    ...    ...    ...    ...     ...    ...    ...    ...   \n",
            "636   13.4  22.1   43.6  150.4  232.6  651.6   788.9  527.3  308.4  343.2   \n",
            "637    2.3   1.0    8.4   46.9  217.6  999.6  1108.5  636.3  263.1  234.9   \n",
            "638   19.8  45.2   73.9  184.9  294.7  556.9   539.9  352.7  266.2  359.4   \n",
            "639    4.8   8.3   17.5   83.3  174.6  698.1  1110.4  592.9  230.7  213.1   \n",
            "640   20.8  14.7   11.8   48.9  171.7  330.2   287.7  217.5  163.1  157.1   \n",
            "\n",
            "       NOV    DEC  Jan-Feb  Mar-May  Jun-Sep  Oct-Dec  \n",
            "0    315.2  250.9    165.2    540.7   1207.2    892.1  \n",
            "1    275.8  128.3     69.7    483.5   1757.2    705.3  \n",
            "2    198.6  100.0     48.6    405.6   1884.4    574.7  \n",
            "3     34.1   29.8    123.0    841.3   1848.5    231.0  \n",
            "4     29.5   31.7    112.8    645.4   3008.4    268.1  \n",
            "..     ...    ...      ...      ...      ...      ...  \n",
            "636  172.9   48.1     35.5    426.6   2276.2    564.2  \n",
            "637   84.6   18.4      3.3    272.9   3007.5    337.9  \n",
            "638  213.5   51.3     65.0    553.5   1715.7    624.2  \n",
            "639   93.6   25.8     13.1    275.4   2632.1    332.5  \n",
            "640  117.7   58.8     35.5    232.4    998.5    333.6  \n",
            "\n",
            "[641 rows x 16 columns]\n",
            "0      2805.2\n",
            "1      3015.7\n",
            "2      2913.3\n",
            "3      3043.8\n",
            "4      4034.7\n",
            "        ...  \n",
            "636    3302.5\n",
            "637    3621.6\n",
            "638    2958.4\n",
            "639    3253.1\n",
            "640    1600.0\n",
            "Name: ANNUAL, Length: 641, dtype: float64\n"
          ]
        }
      ]
    },
    {
      "cell_type": "code",
      "source": [
        "from sklearn.model_selection import train_test_split"
      ],
      "metadata": {
        "id": "BrCY0gUZ4DVf"
      },
      "execution_count": 10,
      "outputs": []
    },
    {
      "cell_type": "code",
      "source": [
        "print(x.shape)\n",
        "x_train,x_test,y_train,y_test=train_test_split(x,y,random_state=True,test_size=0.20)"
      ],
      "metadata": {
        "colab": {
          "base_uri": "https://localhost:8080/"
        },
        "id": "r_THdCga4JnT",
        "outputId": "3ecdb3f7-9095-4468-e27a-67ff5f31177c"
      },
      "execution_count": 11,
      "outputs": [
        {
          "output_type": "stream",
          "name": "stdout",
          "text": [
            "(641, 16)\n"
          ]
        }
      ]
    },
    {
      "cell_type": "code",
      "source": [
        "from sklearn.linear_model import LinearRegression"
      ],
      "metadata": {
        "id": "u-g3U0Uq4itF"
      },
      "execution_count": 12,
      "outputs": []
    },
    {
      "cell_type": "code",
      "source": [
        "lr=LinearRegression()"
      ],
      "metadata": {
        "id": "NR9IR_pC4pGp"
      },
      "execution_count": 13,
      "outputs": []
    },
    {
      "cell_type": "code",
      "source": [
        "mm=lr.fit(x_train,y_train)"
      ],
      "metadata": {
        "id": "oJ2NrLLA4t3G"
      },
      "execution_count": 14,
      "outputs": []
    },
    {
      "cell_type": "code",
      "source": [
        "yp=mm.predict(x_test)\n"
      ],
      "metadata": {
        "id": "OOXNiQNJ4zqg"
      },
      "execution_count": 16,
      "outputs": []
    },
    {
      "cell_type": "code",
      "source": [
        "print(yp)"
      ],
      "metadata": {
        "colab": {
          "base_uri": "https://localhost:8080/"
        },
        "id": "0cr_3RuG49iE",
        "outputId": "bffe3393-7644-4cb7-dd0b-367dd606fe95"
      },
      "execution_count": 17,
      "outputs": [
        {
          "output_type": "stream",
          "name": "stdout",
          "text": [
            "[1233.9 1223.4 1327.9 1057.6 2641.8  646.5  961.1 1070.6  485.7 1122.9\n",
            " 1029.6 3470.6 1209.3  308.1 2958.4  498.  2814.4 1796.5 1068.5  646.1\n",
            " 2440.7 1973.9 1081.4 2859.3 1293.1 3468.3  898.2  992.9 1235.7 1535.5\n",
            " 3094.5  966.7  793.4  449.2  747.1  544.  1803.2  818.   508.1 3218.7\n",
            "  746.9 2480.6  839.2 1336.5  460.6 1533.5 6379.9 1003.3  837.  1087.7\n",
            " 2127.5  622.8 1123.6  685.6 1366.2 1680.7 1481.6  788.4  777.  2512.6\n",
            "  992.2  747.1 1336.5  388.8  863.6 2805.2 1416.2  708.4 1293.3  902.6\n",
            "  974.9  747.1 1474.3  613.9  449.4  700.4 2731.1 1921.1  807.8 2123.9\n",
            " 1528.2  655.  1091.6 1618.3 3302.5  572.  1146.8 1385.5 1148.6 1109.9\n",
            " 2374.1  886.1 2116.9  818.7  897.4 2098.  1005.6  419.5  714.4 1363.3\n",
            " 1448.3  936.2 1155.4 1062.7  871.5  720.  1008.4  455.6 1192.2 1191.5\n",
            " 2814.4  986.3  963.9  252.9  850.1 1229.  1104.7  301.6 1474.1 3399.4\n",
            " 1010.8 1504.4 1530.9 1392.7 1584.9 1462.1  692.7 2556.6 1206.7]\n"
          ]
        }
      ]
    },
    {
      "cell_type": "code",
      "source": [
        "from sklearn.metrics import mean_squared_error\n",
        "print(mean_squared_error(yp,y_test))"
      ],
      "metadata": {
        "colab": {
          "base_uri": "https://localhost:8080/"
        },
        "id": "qW2EEPrm5FZT",
        "outputId": "4b94b1c8-1dcb-4e0b-f98d-5fc3dbc9d4c7"
      },
      "execution_count": 18,
      "outputs": [
        {
          "output_type": "stream",
          "name": "stdout",
          "text": [
            "2.862281872213113e-25\n"
          ]
        }
      ]
    },
    {
      "cell_type": "code",
      "source": [
        "from sklearn.metrics import mean_absolute_error\n",
        "print(mean_absolute_error(yp,y_test))"
      ],
      "metadata": {
        "colab": {
          "base_uri": "https://localhost:8080/"
        },
        "id": "34I3jekr5J8X",
        "outputId": "50f9c61e-6f62-401c-b16d-3a7d569f8063"
      },
      "execution_count": 19,
      "outputs": [
        {
          "output_type": "stream",
          "name": "stdout",
          "text": [
            "3.615505827542091e-13\n"
          ]
        }
      ]
    },
    {
      "cell_type": "code",
      "source": [
        "mse = mean_squared_error(y_test, yp)\n",
        "print(\"Mean Squared Error:\", mse)"
      ],
      "metadata": {
        "colab": {
          "base_uri": "https://localhost:8080/"
        },
        "id": "M2aGIG7m5OFu",
        "outputId": "980ec7e7-761b-404c-e26e-a5be8bc07335"
      },
      "execution_count": 20,
      "outputs": [
        {
          "output_type": "stream",
          "name": "stdout",
          "text": [
            "Mean Squared Error: 2.862281872213113e-25\n"
          ]
        }
      ]
    },
    {
      "cell_type": "code",
      "source": [
        "mae = mean_absolute_error(y_test, yp)\n",
        "print(\"Mean Absolute Error:\", mae)"
      ],
      "metadata": {
        "colab": {
          "base_uri": "https://localhost:8080/"
        },
        "id": "047H3Hzx5TOs",
        "outputId": "9cb23ba0-1e4e-4eef-a611-aa974928ffc3"
      },
      "execution_count": 21,
      "outputs": [
        {
          "output_type": "stream",
          "name": "stdout",
          "text": [
            "Mean Absolute Error: 3.615505827542091e-13\n"
          ]
        }
      ]
    },
    {
      "cell_type": "code",
      "source": [
        "from sklearn.tree import DecisionTreeRegressor"
      ],
      "metadata": {
        "id": "vIidsBfH5X4o"
      },
      "execution_count": 22,
      "outputs": []
    },
    {
      "cell_type": "code",
      "source": [
        "dt = DecisionTreeRegressor()"
      ],
      "metadata": {
        "id": "gMZAlb2D5dMk"
      },
      "execution_count": 23,
      "outputs": []
    },
    {
      "cell_type": "code",
      "source": [
        "dt.fit(x_train,y_train)"
      ],
      "metadata": {
        "colab": {
          "base_uri": "https://localhost:8080/",
          "height": 74
        },
        "id": "XK0__JsO5zm1",
        "outputId": "3b08c965-563e-44fc-ff7d-e3259402c4bf"
      },
      "execution_count": 25,
      "outputs": [
        {
          "output_type": "execute_result",
          "data": {
            "text/plain": [
              "DecisionTreeRegressor()"
            ],
            "text/html": [
              "<style>#sk-container-id-1 {color: black;background-color: white;}#sk-container-id-1 pre{padding: 0;}#sk-container-id-1 div.sk-toggleable {background-color: white;}#sk-container-id-1 label.sk-toggleable__label {cursor: pointer;display: block;width: 100%;margin-bottom: 0;padding: 0.3em;box-sizing: border-box;text-align: center;}#sk-container-id-1 label.sk-toggleable__label-arrow:before {content: \"▸\";float: left;margin-right: 0.25em;color: #696969;}#sk-container-id-1 label.sk-toggleable__label-arrow:hover:before {color: black;}#sk-container-id-1 div.sk-estimator:hover label.sk-toggleable__label-arrow:before {color: black;}#sk-container-id-1 div.sk-toggleable__content {max-height: 0;max-width: 0;overflow: hidden;text-align: left;background-color: #f0f8ff;}#sk-container-id-1 div.sk-toggleable__content pre {margin: 0.2em;color: black;border-radius: 0.25em;background-color: #f0f8ff;}#sk-container-id-1 input.sk-toggleable__control:checked~div.sk-toggleable__content {max-height: 200px;max-width: 100%;overflow: auto;}#sk-container-id-1 input.sk-toggleable__control:checked~label.sk-toggleable__label-arrow:before {content: \"▾\";}#sk-container-id-1 div.sk-estimator input.sk-toggleable__control:checked~label.sk-toggleable__label {background-color: #d4ebff;}#sk-container-id-1 div.sk-label input.sk-toggleable__control:checked~label.sk-toggleable__label {background-color: #d4ebff;}#sk-container-id-1 input.sk-hidden--visually {border: 0;clip: rect(1px 1px 1px 1px);clip: rect(1px, 1px, 1px, 1px);height: 1px;margin: -1px;overflow: hidden;padding: 0;position: absolute;width: 1px;}#sk-container-id-1 div.sk-estimator {font-family: monospace;background-color: #f0f8ff;border: 1px dotted black;border-radius: 0.25em;box-sizing: border-box;margin-bottom: 0.5em;}#sk-container-id-1 div.sk-estimator:hover {background-color: #d4ebff;}#sk-container-id-1 div.sk-parallel-item::after {content: \"\";width: 100%;border-bottom: 1px solid gray;flex-grow: 1;}#sk-container-id-1 div.sk-label:hover label.sk-toggleable__label {background-color: #d4ebff;}#sk-container-id-1 div.sk-serial::before {content: \"\";position: absolute;border-left: 1px solid gray;box-sizing: border-box;top: 0;bottom: 0;left: 50%;z-index: 0;}#sk-container-id-1 div.sk-serial {display: flex;flex-direction: column;align-items: center;background-color: white;padding-right: 0.2em;padding-left: 0.2em;position: relative;}#sk-container-id-1 div.sk-item {position: relative;z-index: 1;}#sk-container-id-1 div.sk-parallel {display: flex;align-items: stretch;justify-content: center;background-color: white;position: relative;}#sk-container-id-1 div.sk-item::before, #sk-container-id-1 div.sk-parallel-item::before {content: \"\";position: absolute;border-left: 1px solid gray;box-sizing: border-box;top: 0;bottom: 0;left: 50%;z-index: -1;}#sk-container-id-1 div.sk-parallel-item {display: flex;flex-direction: column;z-index: 1;position: relative;background-color: white;}#sk-container-id-1 div.sk-parallel-item:first-child::after {align-self: flex-end;width: 50%;}#sk-container-id-1 div.sk-parallel-item:last-child::after {align-self: flex-start;width: 50%;}#sk-container-id-1 div.sk-parallel-item:only-child::after {width: 0;}#sk-container-id-1 div.sk-dashed-wrapped {border: 1px dashed gray;margin: 0 0.4em 0.5em 0.4em;box-sizing: border-box;padding-bottom: 0.4em;background-color: white;}#sk-container-id-1 div.sk-label label {font-family: monospace;font-weight: bold;display: inline-block;line-height: 1.2em;}#sk-container-id-1 div.sk-label-container {text-align: center;}#sk-container-id-1 div.sk-container {/* jupyter's `normalize.less` sets `[hidden] { display: none; }` but bootstrap.min.css set `[hidden] { display: none !important; }` so we also need the `!important` here to be able to override the default hidden behavior on the sphinx rendered scikit-learn.org. See: https://github.com/scikit-learn/scikit-learn/issues/21755 */display: inline-block !important;position: relative;}#sk-container-id-1 div.sk-text-repr-fallback {display: none;}</style><div id=\"sk-container-id-1\" class=\"sk-top-container\"><div class=\"sk-text-repr-fallback\"><pre>DecisionTreeRegressor()</pre><b>In a Jupyter environment, please rerun this cell to show the HTML representation or trust the notebook. <br />On GitHub, the HTML representation is unable to render, please try loading this page with nbviewer.org.</b></div><div class=\"sk-container\" hidden><div class=\"sk-item\"><div class=\"sk-estimator sk-toggleable\"><input class=\"sk-toggleable__control sk-hidden--visually\" id=\"sk-estimator-id-1\" type=\"checkbox\" checked><label for=\"sk-estimator-id-1\" class=\"sk-toggleable__label sk-toggleable__label-arrow\">DecisionTreeRegressor</label><div class=\"sk-toggleable__content\"><pre>DecisionTreeRegressor()</pre></div></div></div></div></div>"
            ]
          },
          "metadata": {},
          "execution_count": 25
        }
      ]
    },
    {
      "cell_type": "code",
      "source": [
        "yp = dt.predict(x_test)"
      ],
      "metadata": {
        "id": "U7bTau9d50-R"
      },
      "execution_count": 26,
      "outputs": []
    },
    {
      "cell_type": "code",
      "source": [
        "mae = mean_absolute_error(y_test, yp)\n",
        "print(\"Mean Absolute Error:\", mae)"
      ],
      "metadata": {
        "colab": {
          "base_uri": "https://localhost:8080/"
        },
        "id": "dqLjmUhe5-ze",
        "outputId": "2ea9df45-fe2a-499a-a0c5-b13d6b239c2b"
      },
      "execution_count": 27,
      "outputs": [
        {
          "output_type": "stream",
          "name": "stdout",
          "text": [
            "Mean Absolute Error: 88.12635658914729\n"
          ]
        }
      ]
    },
    {
      "cell_type": "code",
      "source": [
        "mse = mean_squared_error(y_test, yp)\n",
        "print(\"Mean Squared Error:\", mse)"
      ],
      "metadata": {
        "colab": {
          "base_uri": "https://localhost:8080/"
        },
        "id": "YvzqhmPy6DYw",
        "outputId": "9b4d9ef8-8784-47b3-c356-6379f35bc06f"
      },
      "execution_count": 28,
      "outputs": [
        {
          "output_type": "stream",
          "name": "stdout",
          "text": [
            "Mean Squared Error: 28413.699302325596\n"
          ]
        }
      ]
    },
    {
      "cell_type": "code",
      "source": [
        "from sklearn.metrics import mean_absolute_error\n",
        "print(mean_absolute_error(yp,y_test))"
      ],
      "metadata": {
        "colab": {
          "base_uri": "https://localhost:8080/"
        },
        "id": "ffzrkrbI6Umz",
        "outputId": "3f6f8efa-aed9-4e88-c296-3288c30847de"
      },
      "execution_count": 29,
      "outputs": [
        {
          "output_type": "stream",
          "name": "stdout",
          "text": [
            "88.12635658914729\n"
          ]
        }
      ]
    },
    {
      "cell_type": "code",
      "source": [
        "from sklearn.metrics import mean_squared_error\n",
        "print(mean_squared_error(yp,y_test))"
      ],
      "metadata": {
        "colab": {
          "base_uri": "https://localhost:8080/"
        },
        "id": "pvWqjJAq6Y3u",
        "outputId": "32c4d7d8-d4ec-43ea-fe5f-36dad77cf281"
      },
      "execution_count": 31,
      "outputs": [
        {
          "output_type": "stream",
          "name": "stdout",
          "text": [
            "28413.699302325596\n"
          ]
        }
      ]
    },
    {
      "cell_type": "code",
      "source": [
        "from sklearn.tree import DecisionTreeRegressor\n",
        "model=DecisionTreeRegressor()\n",
        "model.fit(x_train,y_train)\n",
        "yp=model.predict(x_test)\n",
        "print(yp)\n",
        "from sklearn.metrics import mean_squared_error\n",
        "print(mean_squared_error(y_test,yp))\n",
        "from sklearn import tree\n",
        "tree.plot_tree(model,filled=True)"
      ],
      "metadata": {
        "colab": {
          "base_uri": "https://localhost:8080/",
          "height": 1000
        },
        "id": "TviX2DCe6jHX",
        "outputId": "19ecc7cb-ed5a-43e9-9056-049ab316243e"
      },
      "execution_count": 32,
      "outputs": [
        {
          "output_type": "stream",
          "name": "stdout",
          "text": [
            "[1146.8 1176.5 1273.8 1083.1 2575.3  779.3  982.8 1112.5  554.5 1121.3\n",
            "  959.3 3772.2 1164.6  268.6 2290.   394.1 2814.4 2150.9 1095.9  624.1\n",
            " 2497.7 1997.1 1084.8 2859.3 1293.1 3443.7  887.4  949.6 1313.9 1600.\n",
            " 3094.5 1013.3  850.7  415.6  747.1  554.5 1335.5  820.1  554.5 3218.7\n",
            "  815.4 2557.6  791.7 1336.5  509.1 1533.5 6166.1  975.4  870.  1084.8\n",
            " 2582.2  641.2 1144.4  722.1 1197.4 1977.5 1544.4  731.1  763.4 1957.8\n",
            "  959.3  747.1 1336.5  394.1  903.6 2221.5 1436.7  779.3 1273.8  921.2\n",
            "  968.1  747.1 1472.   644.2  415.6  671.7 2814.4 2030.9  861.9 1660.5\n",
            " 1536.   820.1 1139.6 2150.9 2930.5  554.5 1146.8 1404.5 1148.6 1143.9\n",
            " 2374.1  830.4 1743.5  902.1  885.9 2168.6  933.1  401.4  722.1 1482.8\n",
            " 1448.3  930.7 1191.8 1058.3  805.9  836.4  968.1  415.6 1192.4 1196.\n",
            " 2814.4 1013.3  949.6  274.   816.3 1292.7 1116.2  274.  1088.1 3399.4\n",
            "  975.4 1393.3 1977.5 1338.3 1632.2 1304.5  752.7 2582.2 1173.3]\n",
            "25725.340852713176\n"
          ]
        },
        {
          "output_type": "execute_result",
          "data": {
            "text/plain": [
              "[Text(0.7186974426940247, 0.9772727272727273, 'x[5] <= 372.45\\nsquared_error = 686458.553\\nsamples = 512\\nvalue = 1344.987'),\n",
              " Text(0.48445532494848903, 0.9318181818181818, 'x[14] <= 954.1\\nsquared_error = 154738.636\\nsamples = 441\\nvalue = 1073.055'),\n",
              " Text(0.18721422132554946, 0.8863636363636364, 'x[9] <= 24.0\\nsquared_error = 55951.954\\nsamples = 283\\nvalue = 851.129'),\n",
              " Text(0.05739010989010989, 0.8409090909090909, 'x[14] <= 507.0\\nsquared_error = 36249.362\\nsamples = 66\\nvalue = 588.702'),\n",
              " Text(0.016153846153846154, 0.7954545454545454, 'x[8] <= 29.4\\nsquared_error = 12837.215\\nsamples = 27\\nvalue = 405.404'),\n",
              " Text(0.0035164835164835165, 0.75, 'x[7] <= 19.05\\nsquared_error = 2870.629\\nsamples = 3\\nvalue = 166.367'),\n",
              " Text(0.0017582417582417582, 0.7045454545454546, 'squared_error = 0.0\\nsamples = 1\\nvalue = 94.6'),\n",
              " Text(0.005274725274725275, 0.7045454545454546, 'x[6] <= 35.45\\nsquared_error = 443.102\\nsamples = 2\\nvalue = 202.25'),\n",
              " Text(0.0035164835164835165, 0.6590909090909091, 'squared_error = 0.0\\nsamples = 1\\nvalue = 223.3'),\n",
              " Text(0.007032967032967033, 0.6590909090909091, 'squared_error = 0.0\\nsamples = 1\\nvalue = 181.2'),\n",
              " Text(0.02879120879120879, 0.75, 'x[7] <= 133.1\\nsquared_error = 6047.908\\nsamples = 24\\nvalue = 435.283'),\n",
              " Text(0.014065934065934066, 0.7045454545454546, 'x[15] <= 11.3\\nsquared_error = 3907.095\\nsamples = 13\\nvalue = 381.562'),\n",
              " Text(0.01054945054945055, 0.6590909090909091, 'x[12] <= 7.4\\nsquared_error = 7.29\\nsamples = 2\\nvalue = 271.3'),\n",
              " Text(0.008791208791208791, 0.6136363636363636, 'squared_error = 0.0\\nsamples = 1\\nvalue = 268.6'),\n",
              " Text(0.012307692307692308, 0.6136363636363636, 'squared_error = 0.0\\nsamples = 1\\nvalue = 274.0'),\n",
              " Text(0.017582417582417582, 0.6590909090909091, 'x[14] <= 196.75\\nsquared_error = 2003.772\\nsamples = 11\\nvalue = 401.609'),\n",
              " Text(0.015824175824175824, 0.6136363636363636, 'squared_error = 0.0\\nsamples = 1\\nvalue = 504.6'),\n",
              " Text(0.01934065934065934, 0.6136363636363636, 'x[7] <= 102.75\\nsquared_error = 1037.365\\nsamples = 10\\nvalue = 391.31'),\n",
              " Text(0.014945054945054945, 0.5681818181818182, 'x[1] <= 11.3\\nsquared_error = 642.602\\nsamples = 3\\nvalue = 349.233'),\n",
              " Text(0.013186813186813187, 0.5227272727272727, 'x[14] <= 298.35\\nsquared_error = 6.25\\nsamples = 2\\nvalue = 367.1'),\n",
              " Text(0.011428571428571429, 0.4772727272727273, 'squared_error = 0.0\\nsamples = 1\\nvalue = 364.6'),\n",
              " Text(0.014945054945054945, 0.4772727272727273, 'squared_error = 0.0\\nsamples = 1\\nvalue = 369.6'),\n",
              " Text(0.016703296703296705, 0.5227272727272727, 'squared_error = 0.0\\nsamples = 1\\nvalue = 313.5'),\n",
              " Text(0.023736263736263738, 0.5681818181818182, 'x[8] <= 63.9\\nsquared_error = 122.602\\nsamples = 7\\nvalue = 409.343'),\n",
              " Text(0.02021978021978022, 0.5227272727272727, 'x[8] <= 61.3\\nsquared_error = 24.332\\nsamples = 4\\nvalue = 400.725'),\n",
              " Text(0.018461538461538463, 0.4772727272727273, 'x[2] <= 6.2\\nsquared_error = 9.562\\nsamples = 3\\nvalue = 398.333'),\n",
              " Text(0.016703296703296705, 0.4318181818181818, 'squared_error = 0.0\\nsamples = 1\\nvalue = 394.1'),\n",
              " Text(0.02021978021978022, 0.4318181818181818, 'x[2] <= 13.95\\nsquared_error = 0.902\\nsamples = 2\\nvalue = 400.45'),\n",
              " Text(0.018461538461538463, 0.38636363636363635, 'squared_error = 0.0\\nsamples = 1\\nvalue = 401.4'),\n",
              " Text(0.02197802197802198, 0.38636363636363635, 'squared_error = -0.0\\nsamples = 1\\nvalue = 399.5'),\n",
              " Text(0.02197802197802198, 0.4772727272727273, 'squared_error = -0.0\\nsamples = 1\\nvalue = 407.9'),\n",
              " Text(0.027252747252747254, 0.5227272727272727, 'x[12] <= 16.65\\nsquared_error = 22.576\\nsamples = 3\\nvalue = 420.833'),\n",
              " Text(0.025494505494505496, 0.4772727272727273, 'squared_error = 0.0\\nsamples = 1\\nvalue = 427.1'),\n",
              " Text(0.029010989010989013, 0.4772727272727273, 'x[11] <= 6.9\\nsquared_error = 4.41\\nsamples = 2\\nvalue = 417.7'),\n",
              " Text(0.027252747252747254, 0.4318181818181818, 'squared_error = 0.0\\nsamples = 1\\nvalue = 419.8'),\n",
              " Text(0.03076923076923077, 0.4318181818181818, 'squared_error = -0.0\\nsamples = 1\\nvalue = 415.6'),\n",
              " Text(0.04351648351648352, 0.7045454545454546, 'x[14] <= 436.3\\nsquared_error = 1136.293\\nsamples = 11\\nvalue = 498.773'),\n",
              " Text(0.036923076923076927, 0.6590909090909091, 'x[5] <= 41.45\\nsquared_error = 231.702\\nsamples = 8\\nvalue = 480.0'),\n",
              " Text(0.03076923076923077, 0.6136363636363636, 'x[14] <= 416.45\\nsquared_error = 77.762\\nsamples = 3\\nvalue = 496.767'),\n",
              " Text(0.029010989010989013, 0.5681818181818182, 'squared_error = 0.0\\nsamples = 1\\nvalue = 509.1'),\n",
              " Text(0.032527472527472526, 0.5681818181818182, 'x[9] <= 12.1\\nsquared_error = 2.56\\nsamples = 2\\nvalue = 490.6'),\n",
              " Text(0.03076923076923077, 0.5227272727272727, 'squared_error = 0.0\\nsamples = 1\\nvalue = 489.0'),\n",
              " Text(0.03428571428571429, 0.5227272727272727, 'squared_error = -0.0\\nsamples = 1\\nvalue = 492.2'),\n",
              " Text(0.043076923076923075, 0.6136363636363636, 'x[13] <= 30.0\\nsquared_error = 54.19\\nsamples = 5\\nvalue = 469.94'),\n",
              " Text(0.03956043956043956, 0.5681818181818182, 'x[2] <= 8.35\\nsquared_error = 3.149\\nsamples = 3\\nvalue = 464.167'),\n",
              " Text(0.037802197802197804, 0.5227272727272727, 'x[5] <= 45.9\\nsquared_error = 0.64\\nsamples = 2\\nvalue = 463.0'),\n",
              " Text(0.03604395604395604, 0.4772727272727273, 'squared_error = 0.0\\nsamples = 1\\nvalue = 462.2'),\n",
              " Text(0.03956043956043956, 0.4772727272727273, 'squared_error = 0.0\\nsamples = 1\\nvalue = 463.8'),\n",
              " Text(0.04131868131868132, 0.5227272727272727, 'squared_error = 0.0\\nsamples = 1\\nvalue = 466.5'),\n",
              " Text(0.04659340659340659, 0.5681818181818182, 'x[5] <= 48.2\\nsquared_error = 5.76\\nsamples = 2\\nvalue = 478.6'),\n",
              " Text(0.04483516483516484, 0.5227272727272727, 'squared_error = 0.0\\nsamples = 1\\nvalue = 476.2'),\n",
              " Text(0.04835164835164835, 0.5227272727272727, 'squared_error = -0.0\\nsamples = 1\\nvalue = 481.0'),\n",
              " Text(0.05010989010989011, 0.6590909090909091, 'x[13] <= 11.85\\nsquared_error = 102.696\\nsamples = 3\\nvalue = 548.833'),\n",
              " Text(0.04835164835164835, 0.6136363636363636, 'squared_error = 0.0\\nsamples = 1\\nvalue = 534.6'),\n",
              " Text(0.05186813186813187, 0.6136363636363636, 'x[4] <= 15.5\\nsquared_error = 2.102\\nsamples = 2\\nvalue = 555.95'),\n",
              " Text(0.05010989010989011, 0.5681818181818182, 'squared_error = 0.0\\nsamples = 1\\nvalue = 554.5'),\n",
              " Text(0.053626373626373625, 0.5681818181818182, 'squared_error = -0.0\\nsamples = 1\\nvalue = 557.4'),\n",
              " Text(0.09862637362637362, 0.7954545454545454, 'x[14] <= 722.05\\nsquared_error = 13094.331\\nsamples = 39\\nvalue = 715.6'),\n",
              " Text(0.08472527472527472, 0.75, 'x[14] <= 613.65\\nsquared_error = 4438.555\\nsamples = 33\\nvalue = 679.227'),\n",
              " Text(0.0745054945054945, 0.7045454545454546, 'x[3] <= 9.7\\nsquared_error = 2072.287\\nsamples = 19\\nvalue = 633.821'),\n",
              " Text(0.06637362637362637, 0.6590909090909091, 'x[11] <= 1.65\\nsquared_error = 1194.884\\nsamples = 15\\nvalue = 616.76'),\n",
              " Text(0.0589010989010989, 0.6136363636363636, 'x[15] <= 21.65\\nsquared_error = 455.782\\nsamples = 4\\nvalue = 573.85'),\n",
              " Text(0.05714285714285714, 0.5681818181818182, 'squared_error = 0.0\\nsamples = 1\\nvalue = 539.6'),\n",
              " Text(0.06065934065934066, 0.5681818181818182, 'x[9] <= 19.45\\nsquared_error = 86.349\\nsamples = 3\\nvalue = 585.267'),\n",
              " Text(0.0589010989010989, 0.5227272727272727, 'squared_error = 0.0\\nsamples = 1\\nvalue = 598.4'),\n",
              " Text(0.06241758241758242, 0.5227272727272727, 'x[3] <= 0.25\\nsquared_error = 0.16\\nsamples = 2\\nvalue = 578.7'),\n",
              " Text(0.06065934065934066, 0.4772727272727273, 'squared_error = 0.0\\nsamples = 1\\nvalue = 578.3'),\n",
              " Text(0.06417582417582418, 0.4772727272727273, 'squared_error = -0.0\\nsamples = 1\\nvalue = 579.1'),\n",
              " Text(0.07384615384615385, 0.6136363636363636, 'x[15] <= 20.25\\nsquared_error = 550.622\\nsamples = 11\\nvalue = 632.364'),\n",
              " Text(0.07208791208791208, 0.5681818181818182, 'squared_error = 0.0\\nsamples = 1\\nvalue = 577.2'),\n",
              " Text(0.07560439560439561, 0.5681818181818182, 'x[6] <= 226.2\\nsquared_error = 270.952\\nsamples = 10\\nvalue = 637.88'),\n",
              " Text(0.07384615384615385, 0.5227272727272727, 'x[6] <= 194.25\\nsquared_error = 132.775\\nsamples = 9\\nvalue = 633.778'),\n",
              " Text(0.06769230769230769, 0.4772727272727273, 'x[8] <= 77.55\\nsquared_error = 6.202\\nsamples = 3\\nvalue = 621.067'),\n",
              " Text(0.06593406593406594, 0.4318181818181818, 'squared_error = 0.0\\nsamples = 1\\nvalue = 618.0'),\n",
              " Text(0.06945054945054945, 0.4318181818181818, 'x[12] <= 27.3\\nsquared_error = 2.25\\nsamples = 2\\nvalue = 622.6'),\n",
              " Text(0.06769230769230769, 0.38636363636363635, 'squared_error = 0.0\\nsamples = 1\\nvalue = 621.1'),\n",
              " Text(0.07120879120879121, 0.38636363636363635, 'squared_error = -0.0\\nsamples = 1\\nvalue = 624.1'),\n",
              " Text(0.08, 0.4772727272727273, 'x[7] <= 229.65\\nsquared_error = 74.882\\nsamples = 6\\nvalue = 640.133'),\n",
              " Text(0.07824175824175825, 0.4318181818181818, 'x[7] <= 210.9\\nsquared_error = 30.198\\nsamples = 5\\nvalue = 636.98'),\n",
              " Text(0.07472527472527472, 0.38636363636363635, 'x[10] <= 7.05\\nsquared_error = 4.309\\nsamples = 3\\nvalue = 641.267'),\n",
              " Text(0.07296703296703297, 0.3409090909090909, 'squared_error = 0.0\\nsamples = 1\\nvalue = 644.2'),\n",
              " Text(0.07648351648351648, 0.3409090909090909, 'x[13] <= 10.9\\nsquared_error = 0.01\\nsamples = 2\\nvalue = 639.8'),\n",
              " Text(0.07472527472527472, 0.29545454545454547, 'squared_error = 0.0\\nsamples = 1\\nvalue = 639.9'),\n",
              " Text(0.07824175824175825, 0.29545454545454547, 'squared_error = 0.0\\nsamples = 1\\nvalue = 639.7'),\n",
              " Text(0.08175824175824176, 0.38636363636363635, 'x[4] <= 13.1\\nsquared_error = 0.123\\nsamples = 2\\nvalue = 630.55'),\n",
              " Text(0.08, 0.3409090909090909, 'squared_error = 0.0\\nsamples = 1\\nvalue = 630.2'),\n",
              " Text(0.08351648351648351, 0.3409090909090909, 'squared_error = 0.0\\nsamples = 1\\nvalue = 630.9'),\n",
              " Text(0.08175824175824176, 0.4318181818181818, 'squared_error = -0.0\\nsamples = 1\\nvalue = 655.9'),\n",
              " Text(0.07736263736263736, 0.5227272727272727, 'squared_error = -0.0\\nsamples = 1\\nvalue = 674.8'),\n",
              " Text(0.08263736263736264, 0.6590909090909091, 'x[3] <= 12.2\\nsquared_error = 177.695\\nsamples = 4\\nvalue = 697.8'),\n",
              " Text(0.08087912087912089, 0.6136363636363636, 'x[7] <= 188.95\\nsquared_error = 35.287\\nsamples = 3\\nvalue = 690.7'),\n",
              " Text(0.07912087912087912, 0.5681818181818182, 'squared_error = 0.0\\nsamples = 1\\nvalue = 683.1'),\n",
              " Text(0.08263736263736264, 0.5681818181818182, 'x[1] <= 15.85\\nsquared_error = 9.61\\nsamples = 2\\nvalue = 694.5'),\n",
              " Text(0.08087912087912089, 0.5227272727272727, 'squared_error = 0.0\\nsamples = 1\\nvalue = 697.6'),\n",
              " Text(0.0843956043956044, 0.5227272727272727, 'squared_error = 0.0\\nsamples = 1\\nvalue = 691.4'),\n",
              " Text(0.0843956043956044, 0.6136363636363636, 'squared_error = 0.0\\nsamples = 1\\nvalue = 719.1'),\n",
              " Text(0.09494505494505495, 0.7045454545454546, 'x[9] <= 17.55\\nsquared_error = 1054.504\\nsamples = 14\\nvalue = 740.85'),\n",
              " Text(0.08967032967032967, 0.6590909090909091, 'x[0] <= 3.65\\nsquared_error = 133.307\\nsamples = 3\\nvalue = 693.2'),\n",
              " Text(0.08791208791208792, 0.6136363636363636, 'squared_error = 0.0\\nsamples = 1\\nvalue = 677.8'),\n",
              " Text(0.09142857142857143, 0.6136363636363636, 'x[7] <= 252.8\\nsquared_error = 22.09\\nsamples = 2\\nvalue = 700.9'),\n",
              " Text(0.08967032967032967, 0.5681818181818182, 'squared_error = 0.0\\nsamples = 1\\nvalue = 705.6'),\n",
              " Text(0.09318681318681318, 0.5681818181818182, 'squared_error = -0.0\\nsamples = 1\\nvalue = 696.2'),\n",
              " Text(0.10021978021978022, 0.6590909090909091, 'x[4] <= 21.95\\nsquared_error = 517.624\\nsamples = 11\\nvalue = 753.845'),\n",
              " Text(0.09846153846153846, 0.6136363636363636, 'x[8] <= 101.2\\nsquared_error = 106.714\\nsamples = 10\\nvalue = 747.36'),\n",
              " Text(0.0967032967032967, 0.5681818181818182, 'squared_error = 0.0\\nsamples = 1\\nvalue = 721.0'),\n",
              " Text(0.10021978021978022, 0.5681818181818182, 'x[7] <= 257.7\\nsquared_error = 32.788\\nsamples = 9\\nvalue = 750.289'),\n",
              " Text(0.09846153846153846, 0.5227272727272727, 'x[4] <= 17.3\\nsquared_error = 5.199\\nsamples = 8\\nvalue = 748.413'),\n",
              " Text(0.0967032967032967, 0.4772727272727273, 'x[10] <= 5.45\\nsquared_error = 0.122\\nsamples = 2\\nvalue = 752.35'),\n",
              " Text(0.09494505494505495, 0.4318181818181818, 'squared_error = 0.0\\nsamples = 1\\nvalue = 752.0'),\n",
              " Text(0.09846153846153846, 0.4318181818181818, 'squared_error = 0.0\\nsamples = 1\\nvalue = 752.7'),\n",
              " Text(0.10021978021978022, 0.4772727272727273, 'squared_error = -0.0\\nsamples = 6\\nvalue = 747.1'),\n",
              " Text(0.10197802197802198, 0.5227272727272727, 'squared_error = -0.0\\nsamples = 1\\nvalue = 765.3'),\n",
              " Text(0.10197802197802198, 0.6136363636363636, 'squared_error = 0.0\\nsamples = 1\\nvalue = 818.7'),\n",
              " Text(0.11252747252747253, 0.75, 'x[4] <= 26.75\\nsquared_error = 13404.729\\nsamples = 6\\nvalue = 915.65'),\n",
              " Text(0.11076923076923077, 0.7045454545454546, 'x[13] <= 12.1\\nsquared_error = 3106.594\\nsamples = 5\\nvalue = 869.14'),\n",
              " Text(0.10725274725274725, 0.6590909090909091, 'x[15] <= 35.5\\nsquared_error = 55.882\\nsamples = 3\\nvalue = 825.267'),\n",
              " Text(0.1054945054945055, 0.6136363636363636, 'x[12] <= 1.05\\nsquared_error = 18.49\\nsamples = 2\\nvalue = 820.6'),\n",
              " Text(0.10373626373626374, 0.5681818181818182, 'squared_error = 0.0\\nsamples = 1\\nvalue = 824.9'),\n",
              " Text(0.10725274725274725, 0.5681818181818182, 'squared_error = 0.0\\nsamples = 1\\nvalue = 816.3'),\n",
              " Text(0.10901098901098902, 0.6136363636363636, 'squared_error = 0.0\\nsamples = 1\\nvalue = 834.6'),\n",
              " Text(0.11428571428571428, 0.6590909090909091, 'x[12] <= 43.05\\nsquared_error = 464.402\\nsamples = 2\\nvalue = 934.95'),\n",
              " Text(0.11252747252747253, 0.6136363636363636, 'squared_error = 0.0\\nsamples = 1\\nvalue = 913.4'),\n",
              " Text(0.11604395604395605, 0.6136363636363636, 'squared_error = -0.0\\nsamples = 1\\nvalue = 956.5'),\n",
              " Text(0.11428571428571428, 0.7045454545454546, 'squared_error = 0.0\\nsamples = 1\\nvalue = 1148.2'),\n",
              " Text(0.31703833276098903, 0.8409090909090909, 'x[0] <= 4.35\\nsquared_error = 34627.745\\nsamples = 217\\nvalue = 930.945'),\n",
              " Text(0.17934065934065935, 0.7954545454545454, 'x[14] <= 698.25\\nsquared_error = 13922.669\\nsamples = 45\\nvalue = 754.473'),\n",
              " Text(0.1534065934065934, 0.75, 'x[2] <= 6.15\\nsquared_error = 9123.949\\nsamples = 35\\nvalue = 712.54'),\n",
              " Text(0.13582417582417583, 0.7045454545454546, 'x[7] <= 99.5\\nsquared_error = 4996.987\\nsamples = 23\\nvalue = 669.743'),\n",
              " Text(0.12395604395604395, 0.6590909090909091, 'x[6] <= 67.35\\nsquared_error = 2153.84\\nsamples = 8\\nvalue = 605.4'),\n",
              " Text(0.11956043956043956, 0.6136363636363636, 'x[12] <= 4.45\\nsquared_error = 506.25\\nsamples = 2\\nvalue = 550.2'),\n",
              " Text(0.1178021978021978, 0.5681818181818182, 'squared_error = 0.0\\nsamples = 1\\nvalue = 527.7'),\n",
              " Text(0.12131868131868132, 0.5681818181818182, 'squared_error = 0.0\\nsamples = 1\\nvalue = 572.7'),\n",
              " Text(0.12835164835164836, 0.6136363636363636, 'x[15] <= 142.7\\nsquared_error = 1348.797\\nsamples = 6\\nvalue = 623.8'),\n",
              " Text(0.12483516483516484, 0.5681818181818182, 'x[3] <= 12.25\\nsquared_error = 157.503\\nsamples = 2\\nvalue = 585.75'),\n",
              " Text(0.12307692307692308, 0.5227272727272727, 'squared_error = 0.0\\nsamples = 1\\nvalue = 573.2'),\n",
              " Text(0.1265934065934066, 0.5227272727272727, 'squared_error = 0.0\\nsamples = 1\\nvalue = 598.3'),\n",
              " Text(0.13186813186813187, 0.5681818181818182, 'x[7] <= 73.9\\nsquared_error = 858.592\\nsamples = 4\\nvalue = 642.825'),\n",
              " Text(0.1301098901098901, 0.5227272727272727, 'squared_error = 0.0\\nsamples = 1\\nvalue = 597.0'),\n",
              " Text(0.13362637362637364, 0.5227272727272727, 'x[10] <= 38.95\\nsquared_error = 211.487\\nsamples = 3\\nvalue = 658.1'),\n",
              " Text(0.13186813186813187, 0.4772727272727273, 'x[14] <= 402.15\\nsquared_error = 57.76\\nsamples = 2\\nvalue = 648.8'),\n",
              " Text(0.1301098901098901, 0.4318181818181818, 'squared_error = 0.0\\nsamples = 1\\nvalue = 641.2'),\n",
              " Text(0.13362637362637364, 0.4318181818181818, 'squared_error = 0.0\\nsamples = 1\\nvalue = 656.4'),\n",
              " Text(0.13538461538461538, 0.4772727272727273, 'squared_error = -0.0\\nsamples = 1\\nvalue = 676.7'),\n",
              " Text(0.1476923076923077, 0.6590909090909091, 'x[1] <= 0.35\\nsquared_error = 3127.664\\nsamples = 15\\nvalue = 704.06'),\n",
              " Text(0.14593406593406594, 0.6136363636363636, 'squared_error = 0.0\\nsamples = 1\\nvalue = 567.3'),\n",
              " Text(0.14945054945054945, 0.6136363636363636, 'x[1] <= 0.6\\nsquared_error = 1919.693\\nsamples = 14\\nvalue = 713.829'),\n",
              " Text(0.1476923076923077, 0.5681818181818182, 'squared_error = 0.0\\nsamples = 1\\nvalue = 791.9'),\n",
              " Text(0.15120879120879122, 0.5681818181818182, 'x[12] <= 3.9\\nsquared_error = 1562.439\\nsamples = 13\\nvalue = 707.823'),\n",
              " Text(0.14241758241758243, 0.5227272727272727, 'x[1] <= 0.95\\nsquared_error = 1424.099\\nsamples = 7\\nvalue = 685.371'),\n",
              " Text(0.1389010989010989, 0.4772727272727273, 'x[10] <= 19.75\\nsquared_error = 174.632\\nsamples = 4\\nvalue = 711.425'),\n",
              " Text(0.13714285714285715, 0.4318181818181818, 'x[1] <= 0.85\\nsquared_error = 69.429\\nsamples = 3\\nvalue = 705.033'),\n",
              " Text(0.13538461538461538, 0.38636363636363635, 'x[10] <= 12.55\\nsquared_error = 3.802\\nsamples = 2\\nvalue = 699.25'),\n",
              " Text(0.13362637362637364, 0.3409090909090909, 'squared_error = 0.0\\nsamples = 1\\nvalue = 701.2'),\n",
              " Text(0.13714285714285715, 0.3409090909090909, 'squared_error = 0.0\\nsamples = 1\\nvalue = 697.3'),\n",
              " Text(0.1389010989010989, 0.38636363636363635, 'squared_error = 0.0\\nsamples = 1\\nvalue = 716.6'),\n",
              " Text(0.14065934065934066, 0.4318181818181818, 'squared_error = 0.0\\nsamples = 1\\nvalue = 730.6'),\n",
              " Text(0.14593406593406594, 0.4772727272727273, 'x[10] <= 19.05\\nsquared_error = 978.269\\nsamples = 3\\nvalue = 650.633'),\n",
              " Text(0.14417582417582417, 0.4318181818181818, 'squared_error = 0.0\\nsamples = 1\\nvalue = 607.2'),\n",
              " Text(0.1476923076923077, 0.4318181818181818, 'x[15] <= 139.2\\nsquared_error = 52.563\\nsamples = 2\\nvalue = 672.35'),\n",
              " Text(0.14593406593406594, 0.38636363636363635, 'squared_error = 0.0\\nsamples = 1\\nvalue = 665.1'),\n",
              " Text(0.14945054945054945, 0.38636363636363635, 'squared_error = 0.0\\nsamples = 1\\nvalue = 679.6'),\n",
              " Text(0.16, 0.5227272727272727, 'x[8] <= 166.25\\nsquared_error = 449.641\\nsamples = 6\\nvalue = 734.017'),\n",
              " Text(0.15824175824175823, 0.4772727272727273, 'x[11] <= 9.4\\nsquared_error = 47.43\\nsamples = 5\\nvalue = 724.96'),\n",
              " Text(0.15472527472527473, 0.4318181818181818, 'x[10] <= 22.65\\nsquared_error = 0.382\\nsamples = 3\\nvalue = 730.567'),\n",
              " Text(0.15296703296703296, 0.38636363636363635, 'x[10] <= 19.15\\nsquared_error = 0.01\\nsamples = 2\\nvalue = 731.0'),\n",
              " Text(0.15120879120879122, 0.3409090909090909, 'squared_error = 0.0\\nsamples = 1\\nvalue = 730.9'),\n",
              " Text(0.15472527472527473, 0.3409090909090909, 'squared_error = 0.0\\nsamples = 1\\nvalue = 731.1'),\n",
              " Text(0.1564835164835165, 0.38636363636363635, 'squared_error = -0.0\\nsamples = 1\\nvalue = 729.7'),\n",
              " Text(0.16175824175824177, 0.4318181818181818, 'x[4] <= 32.35\\nsquared_error = 0.122\\nsamples = 2\\nvalue = 716.55'),\n",
              " Text(0.16, 0.38636363636363635, 'squared_error = 0.0\\nsamples = 1\\nvalue = 716.2'),\n",
              " Text(0.1635164835164835, 0.38636363636363635, 'squared_error = 0.0\\nsamples = 1\\nvalue = 716.9'),\n",
              " Text(0.16175824175824177, 0.4772727272727273, 'squared_error = -0.0\\nsamples = 1\\nvalue = 779.3'),\n",
              " Text(0.17098901098901098, 0.7045454545454546, 'x[14] <= 432.9\\nsquared_error = 6795.129\\nsamples = 12\\nvalue = 794.567'),\n",
              " Text(0.16, 0.6590909090909091, 'x[2] <= 7.9\\nsquared_error = 1234.178\\nsamples = 5\\nvalue = 719.88'),\n",
              " Text(0.1564835164835165, 0.6136363636363636, 'x[5] <= 55.1\\nsquared_error = 320.41\\nsamples = 2\\nvalue = 680.6'),\n",
              " Text(0.15472527472527473, 0.5681818181818182, 'squared_error = 0.0\\nsamples = 1\\nvalue = 662.7'),\n",
              " Text(0.15824175824175823, 0.5681818181818182, 'squared_error = 0.0\\nsamples = 1\\nvalue = 698.5'),\n",
              " Text(0.1635164835164835, 0.6136363636363636, 'x[6] <= 82.8\\nsquared_error = 129.002\\nsamples = 3\\nvalue = 746.067'),\n",
              " Text(0.16175824175824177, 0.5681818181818182, 'squared_error = 0.0\\nsamples = 1\\nvalue = 731.1'),\n",
              " Text(0.16527472527472528, 0.5681818181818182, 'x[3] <= 42.95\\nsquared_error = 25.503\\nsamples = 2\\nvalue = 753.55'),\n",
              " Text(0.1635164835164835, 0.5227272727272727, 'squared_error = 0.0\\nsamples = 1\\nvalue = 748.5'),\n",
              " Text(0.16703296703296702, 0.5227272727272727, 'squared_error = 0.0\\nsamples = 1\\nvalue = 758.6'),\n",
              " Text(0.181978021978022, 0.6590909090909091, 'x[4] <= 92.35\\nsquared_error = 3936.913\\nsamples = 7\\nvalue = 847.914'),\n",
              " Text(0.17582417582417584, 0.6136363636363636, 'x[9] <= 105.55\\nsquared_error = 936.862\\nsamples = 4\\nvalue = 803.65'),\n",
              " Text(0.1723076923076923, 0.5681818181818182, 'x[3] <= 20.4\\nsquared_error = 112.36\\nsamples = 2\\nvalue = 831.2'),\n",
              " Text(0.17054945054945056, 0.5227272727272727, 'squared_error = 0.0\\nsamples = 1\\nvalue = 820.6'),\n",
              " Text(0.17406593406593407, 0.5227272727272727, 'squared_error = -0.0\\nsamples = 1\\nvalue = 841.8'),\n",
              " Text(0.17934065934065935, 0.5681818181818182, 'x[1] <= 3.75\\nsquared_error = 243.36\\nsamples = 2\\nvalue = 776.1'),\n",
              " Text(0.17758241758241758, 0.5227272727272727, 'squared_error = 0.0\\nsamples = 1\\nvalue = 791.7'),\n",
              " Text(0.1810989010989011, 0.5227272727272727, 'squared_error = 0.0\\nsamples = 1\\nvalue = 760.5'),\n",
              " Text(0.18813186813186814, 0.6136363636363636, 'x[14] <= 525.0\\nsquared_error = 1841.296\\nsamples = 3\\nvalue = 906.933'),\n",
              " Text(0.18637362637362637, 0.5681818181818182, 'x[4] <= 114.3\\nsquared_error = 46.922\\nsamples = 2\\nvalue = 876.85'),\n",
              " Text(0.18461538461538463, 0.5227272727272727, 'squared_error = 0.0\\nsamples = 1\\nvalue = 870.0'),\n",
              " Text(0.18813186813186814, 0.5227272727272727, 'squared_error = -0.0\\nsamples = 1\\nvalue = 883.7'),\n",
              " Text(0.1898901098901099, 0.5681818181818182, 'squared_error = 0.0\\nsamples = 1\\nvalue = 967.1'),\n",
              " Text(0.20527472527472526, 0.75, 'x[14] <= 857.15\\nsquared_error = 3023.32\\nsamples = 10\\nvalue = 901.24'),\n",
              " Text(0.19956043956043956, 0.7045454545454546, 'x[3] <= 0.95\\nsquared_error = 1255.094\\nsamples = 8\\nvalue = 879.675'),\n",
              " Text(0.1934065934065934, 0.6590909090909091, 'x[15] <= 40.45\\nsquared_error = 889.396\\nsamples = 3\\nvalue = 842.067'),\n",
              " Text(0.19164835164835164, 0.6136363636363636, 'squared_error = 0.0\\nsamples = 1\\nvalue = 883.0'),\n",
              " Text(0.19516483516483515, 0.6136363636363636, 'x[14] <= 766.25\\nsquared_error = 77.44\\nsamples = 2\\nvalue = 821.6'),\n",
              " Text(0.1934065934065934, 0.5681818181818182, 'squared_error = 0.0\\nsamples = 1\\nvalue = 812.8'),\n",
              " Text(0.19692307692307692, 0.5681818181818182, 'squared_error = 0.0\\nsamples = 1\\nvalue = 830.4'),\n",
              " Text(0.2057142857142857, 0.6590909090909091, 'x[3] <= 2.7\\nsquared_error = 116.702\\nsamples = 5\\nvalue = 902.24'),\n",
              " Text(0.2021978021978022, 0.6136363636363636, 'x[5] <= 124.3\\nsquared_error = 42.136\\nsamples = 3\\nvalue = 894.467'),\n",
              " Text(0.20043956043956043, 0.5681818181818182, 'squared_error = 0.0\\nsamples = 1\\nvalue = 903.6'),\n",
              " Text(0.20395604395604397, 0.5681818181818182, 'x[4] <= 12.75\\nsquared_error = 0.64\\nsamples = 2\\nvalue = 889.9'),\n",
              " Text(0.2021978021978022, 0.5227272727272727, 'squared_error = 0.0\\nsamples = 1\\nvalue = 890.7'),\n",
              " Text(0.2057142857142857, 0.5227272727272727, 'squared_error = -0.0\\nsamples = 1\\nvalue = 889.1'),\n",
              " Text(0.20923076923076922, 0.6136363636363636, 'x[15] <= 93.0\\nsquared_error = 1.96\\nsamples = 2\\nvalue = 913.9'),\n",
              " Text(0.20747252747252748, 0.5681818181818182, 'squared_error = 0.0\\nsamples = 1\\nvalue = 915.3'),\n",
              " Text(0.210989010989011, 0.5681818181818182, 'squared_error = -0.0\\nsamples = 1\\nvalue = 912.5'),\n",
              " Text(0.210989010989011, 0.7045454545454546, 'x[13] <= 21.8\\nsquared_error = 795.24\\nsamples = 2\\nvalue = 987.5'),\n",
              " Text(0.20923076923076922, 0.6590909090909091, 'squared_error = 0.0\\nsamples = 1\\nvalue = 959.3'),\n",
              " Text(0.21274725274725276, 0.6590909090909091, 'squared_error = 0.0\\nsamples = 1\\nvalue = 1015.7'),\n",
              " Text(0.4547360061813187, 0.7954545454545454, 'x[4] <= 84.0\\nsquared_error = 29765.409\\nsamples = 172\\nvalue = 977.115'),\n",
              " Text(0.39166981456043953, 0.75, 'x[14] <= 856.75\\nsquared_error = 21972.609\\nsamples = 151\\nvalue = 946.936'),\n",
              " Text(0.3291638049450549, 0.7045454545454546, 'x[9] <= 192.2\\nsquared_error = 20848.831\\nsamples = 106\\nvalue = 897.315'),\n",
              " Text(0.272393543956044, 0.6590909090909091, 'x[5] <= 37.65\\nsquared_error = 10562.27\\nsamples = 94\\nvalue = 862.229'),\n",
              " Text(0.22065934065934065, 0.6136363636363636, 'x[11] <= 48.05\\nsquared_error = 7365.297\\nsamples = 12\\nvalue = 703.442'),\n",
              " Text(0.2145054945054945, 0.5681818181818182, 'x[9] <= 31.55\\nsquared_error = 1685.124\\nsamples = 8\\nvalue = 658.325'),\n",
              " Text(0.21274725274725276, 0.5227272727272727, 'squared_error = 0.0\\nsamples = 1\\nvalue = 568.0'),\n",
              " Text(0.21626373626373627, 0.5227272727272727, 'x[12] <= 15.05\\nsquared_error = 593.839\\nsamples = 7\\nvalue = 671.229'),\n",
              " Text(0.2145054945054945, 0.4772727272727273, 'squared_error = 0.0\\nsamples = 1\\nvalue = 618.2'),\n",
              " Text(0.21802197802197804, 0.4772727272727273, 'x[4] <= 79.5\\nsquared_error = 146.029\\nsamples = 6\\nvalue = 680.067'),\n",
              " Text(0.2145054945054945, 0.4318181818181818, 'x[2] <= 58.2\\nsquared_error = 3.123\\nsamples = 4\\nvalue = 672.05'),\n",
              " Text(0.21274725274725276, 0.38636363636363635, 'squared_error = 0.0\\nsamples = 1\\nvalue = 669.3'),\n",
              " Text(0.21626373626373627, 0.38636363636363635, 'x[13] <= 266.5\\nsquared_error = 0.802\\nsamples = 3\\nvalue = 672.967'),\n",
              " Text(0.2145054945054945, 0.3409090909090909, 'squared_error = 0.0\\nsamples = 2\\nvalue = 673.6'),\n",
              " Text(0.21802197802197804, 0.3409090909090909, 'squared_error = -0.0\\nsamples = 1\\nvalue = 671.7'),\n",
              " Text(0.22153846153846155, 0.4318181818181818, 'x[6] <= 43.05\\nsquared_error = 46.24\\nsamples = 2\\nvalue = 696.1'),\n",
              " Text(0.21978021978021978, 0.38636363636363635, 'squared_error = 0.0\\nsamples = 1\\nvalue = 702.9'),\n",
              " Text(0.22329670329670329, 0.38636363636363635, 'squared_error = 0.0\\nsamples = 1\\nvalue = 689.3'),\n",
              " Text(0.22681318681318682, 0.5681818181818182, 'x[6] <= 25.85\\nsquared_error = 6512.562\\nsamples = 4\\nvalue = 793.675'),\n",
              " Text(0.22505494505494505, 0.5227272727272727, 'squared_error = 0.0\\nsamples = 1\\nvalue = 656.3'),\n",
              " Text(0.22857142857142856, 0.5227272727272727, 'x[15] <= 429.95\\nsquared_error = 295.909\\nsamples = 3\\nvalue = 839.467'),\n",
              " Text(0.22681318681318682, 0.4772727272727273, 'x[3] <= 72.45\\nsquared_error = 66.422\\nsamples = 2\\nvalue = 828.25'),\n",
              " Text(0.22505494505494505, 0.4318181818181818, 'squared_error = 0.0\\nsamples = 1\\nvalue = 820.1'),\n",
              " Text(0.22857142857142856, 0.4318181818181818, 'squared_error = 0.0\\nsamples = 1\\nvalue = 836.4'),\n",
              " Text(0.23032967032967033, 0.4772727272727273, 'squared_error = 0.0\\nsamples = 1\\nvalue = 861.9'),\n",
              " Text(0.32412774725274723, 0.6136363636363636, 'x[14] <= 794.4\\nsquared_error = 6800.4\\nsamples = 82\\nvalue = 885.466'),\n",
              " Text(0.28517857142857145, 0.5681818181818182, 'x[15] <= 51.55\\nsquared_error = 6422.042\\nsamples = 58\\nvalue = 858.853'),\n",
              " Text(0.25252747252747254, 0.5227272727272727, 'x[14] <= 736.85\\nsquared_error = 2640.303\\nsamples = 20\\nvalue = 788.95'),\n",
              " Text(0.23956043956043957, 0.4772727272727273, 'x[14] <= 655.5\\nsquared_error = 720.297\\nsamples = 12\\nvalue = 752.425'),\n",
              " Text(0.2320879120879121, 0.4318181818181818, 'x[8] <= 123.6\\nsquared_error = 399.545\\nsamples = 6\\nvalue = 730.617'),\n",
              " Text(0.2276923076923077, 0.38636363636363635, 'x[9] <= 30.1\\nsquared_error = 23.262\\nsamples = 4\\nvalue = 717.25'),\n",
              " Text(0.22417582417582418, 0.3409090909090909, 'x[10] <= 5.95\\nsquared_error = 0.04\\nsamples = 2\\nvalue = 721.9'),\n",
              " Text(0.22241758241758242, 0.29545454545454547, 'squared_error = 0.0\\nsamples = 1\\nvalue = 722.1'),\n",
              " Text(0.22593406593406593, 0.29545454545454547, 'squared_error = -0.0\\nsamples = 1\\nvalue = 721.7'),\n",
              " Text(0.2312087912087912, 0.3409090909090909, 'x[10] <= 2.2\\nsquared_error = 3.24\\nsamples = 2\\nvalue = 712.6'),\n",
              " Text(0.22945054945054946, 0.29545454545454547, 'squared_error = 0.0\\nsamples = 1\\nvalue = 710.8'),\n",
              " Text(0.23296703296703297, 0.29545454545454547, 'squared_error = 0.0\\nsamples = 1\\nvalue = 714.4'),\n",
              " Text(0.23648351648351648, 0.38636363636363635, 'x[8] <= 132.3\\nsquared_error = 80.103\\nsamples = 2\\nvalue = 757.35'),\n",
              " Text(0.2347252747252747, 0.3409090909090909, 'squared_error = 0.0\\nsamples = 1\\nvalue = 766.3'),\n",
              " Text(0.23824175824175825, 0.3409090909090909, 'squared_error = 0.0\\nsamples = 1\\nvalue = 748.4'),\n",
              " Text(0.24703296703296704, 0.4318181818181818, 'x[6] <= 249.45\\nsquared_error = 89.842\\nsamples = 6\\nvalue = 774.233'),\n",
              " Text(0.24527472527472527, 0.38636363636363635, 'x[0] <= 14.75\\nsquared_error = 32.904\\nsamples = 5\\nvalue = 770.7'),\n",
              " Text(0.24175824175824176, 0.3409090909090909, 'x[0] <= 11.85\\nsquared_error = 1.102\\nsamples = 2\\nvalue = 764.45'),\n",
              " Text(0.24, 0.29545454545454547, 'squared_error = 0.0\\nsamples = 1\\nvalue = 763.4'),\n",
              " Text(0.24351648351648353, 0.29545454545454547, 'squared_error = 0.0\\nsamples = 1\\nvalue = 765.5'),\n",
              " Text(0.24879120879120878, 0.3409090909090909, 'x[7] <= 258.15\\nsquared_error = 10.702\\nsamples = 3\\nvalue = 774.867'),\n",
              " Text(0.24703296703296704, 0.29545454545454547, 'squared_error = 0.0\\nsamples = 1\\nvalue = 779.0'),\n",
              " Text(0.25054945054945055, 0.29545454545454547, 'x[5] <= 50.6\\nsquared_error = 3.24\\nsamples = 2\\nvalue = 772.8'),\n",
              " Text(0.24879120879120878, 0.25, 'squared_error = 0.0\\nsamples = 1\\nvalue = 771.0'),\n",
              " Text(0.2523076923076923, 0.25, 'squared_error = 0.0\\nsamples = 1\\nvalue = 774.6'),\n",
              " Text(0.24879120879120878, 0.38636363636363635, 'squared_error = -0.0\\nsamples = 1\\nvalue = 791.9'),\n",
              " Text(0.2654945054945055, 0.4772727272727273, 'x[10] <= 10.15\\nsquared_error = 517.527\\nsamples = 8\\nvalue = 843.738'),\n",
              " Text(0.2610989010989011, 0.4318181818181818, 'x[13] <= 19.25\\nsquared_error = 62.234\\nsamples = 5\\nvalue = 860.26'),\n",
              " Text(0.25934065934065936, 0.38636363636363635, 'x[9] <= 28.5\\nsquared_error = 15.312\\nsamples = 4\\nvalue = 856.725'),\n",
              " Text(0.2558241758241758, 0.3409090909090909, 'x[6] <= 269.2\\nsquared_error = 0.04\\nsamples = 2\\nvalue = 852.9'),\n",
              " Text(0.2540659340659341, 0.29545454545454547, 'squared_error = 0.0\\nsamples = 1\\nvalue = 853.1'),\n",
              " Text(0.25758241758241757, 0.29545454545454547, 'squared_error = -0.0\\nsamples = 1\\nvalue = 852.7'),\n",
              " Text(0.26285714285714284, 0.3409090909090909, 'x[4] <= 7.15\\nsquared_error = 1.323\\nsamples = 2\\nvalue = 860.55'),\n",
              " Text(0.2610989010989011, 0.29545454545454547, 'squared_error = 0.0\\nsamples = 1\\nvalue = 859.4'),\n",
              " Text(0.26461538461538464, 0.29545454545454547, 'squared_error = 0.0\\nsamples = 1\\nvalue = 861.7'),\n",
              " Text(0.26285714285714284, 0.38636363636363635, 'squared_error = -0.0\\nsamples = 1\\nvalue = 874.4'),\n",
              " Text(0.26989010989010986, 0.4318181818181818, 'x[11] <= 5.65\\nsquared_error = 63.047\\nsamples = 3\\nvalue = 816.2'),\n",
              " Text(0.2681318681318681, 0.38636363636363635, 'x[7] <= 267.8\\nsquared_error = 8.703\\nsamples = 2\\nvalue = 810.85'),\n",
              " Text(0.2663736263736264, 0.3409090909090909, 'squared_error = 0.0\\nsamples = 1\\nvalue = 813.8'),\n",
              " Text(0.26989010989010986, 0.3409090909090909, 'squared_error = 0.0\\nsamples = 1\\nvalue = 807.9'),\n",
              " Text(0.27164835164835166, 0.38636363636363635, 'squared_error = 0.0\\nsamples = 1\\nvalue = 826.9'),\n",
              " Text(0.31782967032967036, 0.5227272727272727, 'x[13] <= 180.65\\nsquared_error = 4486.995\\nsamples = 38\\nvalue = 895.645'),\n",
              " Text(0.3097252747252747, 0.4772727272727273, 'x[11] <= 109.3\\nsquared_error = 3029.021\\nsamples = 36\\nvalue = 886.25'),\n",
              " Text(0.2987912087912088, 0.4318181818181818, 'x[4] <= 13.55\\nsquared_error = 2216.779\\nsamples = 34\\nvalue = 878.832'),\n",
              " Text(0.2821978021978022, 0.38636363636363635, 'x[14] <= 735.7\\nsquared_error = 886.224\\nsamples = 14\\nvalue = 850.386'),\n",
              " Text(0.2734065934065934, 0.3409090909090909, 'x[9] <= 47.85\\nsquared_error = 59.894\\nsamples = 5\\nvalue = 816.34'),\n",
              " Text(0.27164835164835166, 0.29545454545454547, 'squared_error = 0.0\\nsamples = 1\\nvalue = 829.6'),\n",
              " Text(0.27516483516483514, 0.29545454545454547, 'x[6] <= 226.35\\nsquared_error = 19.922\\nsamples = 4\\nvalue = 813.025'),\n",
              " Text(0.27164835164835166, 0.25, 'x[0] <= 12.55\\nsquared_error = 2.25\\nsamples = 2\\nvalue = 816.9'),\n",
              " Text(0.26989010989010986, 0.20454545454545456, 'squared_error = 0.0\\nsamples = 1\\nvalue = 815.4'),\n",
              " Text(0.2734065934065934, 0.20454545454545456, 'squared_error = -0.0\\nsamples = 1\\nvalue = 818.4'),\n",
              " Text(0.2786813186813187, 0.25, 'x[7] <= 266.1\\nsquared_error = 7.563\\nsamples = 2\\nvalue = 809.15'),\n",
              " Text(0.27692307692307694, 0.20454545454545456, 'squared_error = 0.0\\nsamples = 1\\nvalue = 806.4'),\n",
              " Text(0.2804395604395604, 0.20454545454545456, 'squared_error = -0.0\\nsamples = 1\\nvalue = 811.9'),\n",
              " Text(0.290989010989011, 0.3409090909090909, 'x[14] <= 785.15\\nsquared_error = 343.596\\nsamples = 9\\nvalue = 869.3'),\n",
              " Text(0.2874725274725275, 0.29545454545454547, 'x[12] <= 28.3\\nsquared_error = 136.581\\nsamples = 7\\nvalue = 861.514'),\n",
              " Text(0.2857142857142857, 0.25, 'x[3] <= 2.35\\nsquared_error = 49.336\\nsamples = 6\\nvalue = 857.55'),\n",
              " Text(0.28395604395604396, 0.20454545454545456, 'squared_error = 0.0\\nsamples = 1\\nvalue = 871.5'),\n",
              " Text(0.2874725274725275, 0.20454545454545456, 'x[7] <= 285.95\\nsquared_error = 12.498\\nsamples = 5\\nvalue = 854.76'),\n",
              " Text(0.28395604395604396, 0.1590909090909091, 'x[4] <= 5.6\\nsquared_error = 2.082\\nsamples = 3\\nvalue = 852.133'),\n",
              " Text(0.2821978021978022, 0.11363636363636363, 'squared_error = 0.0\\nsamples = 1\\nvalue = 850.1'),\n",
              " Text(0.2857142857142857, 0.11363636363636363, 'x[13] <= 21.1\\nsquared_error = 0.022\\nsamples = 2\\nvalue = 853.15'),\n",
              " Text(0.28395604395604396, 0.06818181818181818, 'squared_error = 0.0\\nsamples = 1\\nvalue = 853.0'),\n",
              " Text(0.2874725274725275, 0.06818181818181818, 'squared_error = 0.0\\nsamples = 1\\nvalue = 853.3'),\n",
              " Text(0.290989010989011, 0.1590909090909091, 'x[0] <= 11.3\\nsquared_error = 2.25\\nsamples = 2\\nvalue = 858.7'),\n",
              " Text(0.28923076923076924, 0.11363636363636363, 'squared_error = 0.0\\nsamples = 1\\nvalue = 860.2'),\n",
              " Text(0.2927472527472528, 0.11363636363636363, 'squared_error = 0.0\\nsamples = 1\\nvalue = 857.2'),\n",
              " Text(0.28923076923076924, 0.25, 'squared_error = 0.0\\nsamples = 1\\nvalue = 885.3'),\n",
              " Text(0.2945054945054945, 0.29545454545454547, 'x[3] <= 3.55\\nsquared_error = 113.423\\nsamples = 2\\nvalue = 896.55'),\n",
              " Text(0.2927472527472528, 0.25, 'squared_error = 0.0\\nsamples = 1\\nvalue = 907.2'),\n",
              " Text(0.29626373626373625, 0.25, 'squared_error = 0.0\\nsamples = 1\\nvalue = 885.9'),\n",
              " Text(0.3153846153846154, 0.38636363636363635, 'x[6] <= 203.0\\nsquared_error = 2185.206\\nsamples = 20\\nvalue = 898.745'),\n",
              " Text(0.30505494505494507, 0.3409090909090909, 'x[3] <= 21.1\\nsquared_error = 1318.252\\nsamples = 8\\nvalue = 864.8'),\n",
              " Text(0.30153846153846153, 0.29545454545454547, 'x[4] <= 44.55\\nsquared_error = 351.262\\nsamples = 3\\nvalue = 830.567'),\n",
              " Text(0.2997802197802198, 0.25, 'x[1] <= 5.5\\nsquared_error = 70.56\\nsamples = 2\\nvalue = 842.9'),\n",
              " Text(0.298021978021978, 0.20454545454545456, 'squared_error = 0.0\\nsamples = 1\\nvalue = 834.5'),\n",
              " Text(0.30153846153846153, 0.20454545454545456, 'squared_error = 0.0\\nsamples = 1\\nvalue = 851.3'),\n",
              " Text(0.3032967032967033, 0.25, 'squared_error = -0.0\\nsamples = 1\\nvalue = 805.9'),\n",
              " Text(0.30857142857142855, 0.29545454545454547, 'x[4] <= 70.3\\nsquared_error = 773.402\\nsamples = 5\\nvalue = 885.34'),\n",
              " Text(0.3068131868131868, 0.25, 'x[13] <= 143.7\\nsquared_error = 323.775\\nsamples = 4\\nvalue = 874.0'),\n",
              " Text(0.30505494505494507, 0.20454545454545456, 'x[15] <= 414.45\\nsquared_error = 60.496\\nsamples = 3\\nvalue = 883.633'),\n",
              " Text(0.3032967032967033, 0.1590909090909091, 'x[10] <= 84.0\\nsquared_error = 2.722\\nsamples = 2\\nvalue = 889.05'),\n",
              " Text(0.30153846153846153, 0.11363636363636363, 'squared_error = 0.0\\nsamples = 1\\nvalue = 890.7'),\n",
              " Text(0.30505494505494507, 0.11363636363636363, 'squared_error = 0.0\\nsamples = 1\\nvalue = 887.4'),\n",
              " Text(0.3068131868131868, 0.1590909090909091, 'squared_error = -0.0\\nsamples = 1\\nvalue = 872.8'),\n",
              " Text(0.30857142857142855, 0.20454545454545456, 'squared_error = -0.0\\nsamples = 1\\nvalue = 845.1'),\n",
              " Text(0.31032967032967035, 0.25, 'squared_error = 0.0\\nsamples = 1\\nvalue = 930.7'),\n",
              " Text(0.32571428571428573, 0.3409090909090909, 'x[9] <= 125.4\\nsquared_error = 1482.884\\nsamples = 12\\nvalue = 921.375'),\n",
              " Text(0.32395604395604394, 0.29545454545454547, 'x[13] <= 48.35\\nsquared_error = 509.151\\nsamples = 11\\nvalue = 911.764'),\n",
              " Text(0.31648351648351647, 0.25, 'x[8] <= 144.5\\nsquared_error = 277.858\\nsamples = 8\\nvalue = 902.1'),\n",
              " Text(0.3120879120879121, 0.20454545454545456, 'x[10] <= 4.45\\nsquared_error = 61.622\\nsamples = 2\\nvalue = 876.95'),\n",
              " Text(0.31032967032967035, 0.1590909090909091, 'squared_error = 0.0\\nsamples = 1\\nvalue = 884.8'),\n",
              " Text(0.31384615384615383, 0.1590909090909091, 'squared_error = -0.0\\nsamples = 1\\nvalue = 869.1'),\n",
              " Text(0.3208791208791209, 0.20454545454545456, 'x[13] <= 31.0\\nsquared_error = 68.815\\nsamples = 6\\nvalue = 910.483'),\n",
              " Text(0.31736263736263737, 0.1590909090909091, 'x[9] <= 67.9\\nsquared_error = 7.023\\nsamples = 2\\nvalue = 899.65'),\n",
              " Text(0.3156043956043956, 0.11363636363636363, 'squared_error = 0.0\\nsamples = 1\\nvalue = 902.3'),\n",
              " Text(0.3191208791208791, 0.11363636363636363, 'squared_error = 0.0\\nsamples = 1\\nvalue = 897.0'),\n",
              " Text(0.3243956043956044, 0.1590909090909091, 'x[12] <= 19.65\\nsquared_error = 11.69\\nsamples = 4\\nvalue = 915.9'),\n",
              " Text(0.32263736263736265, 0.11363636363636363, 'squared_error = 0.0\\nsamples = 1\\nvalue = 910.0'),\n",
              " Text(0.3261538461538461, 0.11363636363636363, 'x[6] <= 273.15\\nsquared_error = 0.116\\nsamples = 3\\nvalue = 917.867'),\n",
              " Text(0.3243956043956044, 0.06818181818181818, 'x[2] <= 12.75\\nsquared_error = 0.01\\nsamples = 2\\nvalue = 918.1'),\n",
              " Text(0.32263736263736265, 0.022727272727272728, 'squared_error = 0.0\\nsamples = 1\\nvalue = 918.2'),\n",
              " Text(0.3261538461538461, 0.022727272727272728, 'squared_error = 0.0\\nsamples = 1\\nvalue = 918.0'),\n",
              " Text(0.3279120879120879, 0.06818181818181818, 'squared_error = -0.0\\nsamples = 1\\nvalue = 917.4'),\n",
              " Text(0.3314285714285714, 0.25, 'x[0] <= 48.85\\nsquared_error = 212.829\\nsamples = 3\\nvalue = 937.533'),\n",
              " Text(0.32967032967032966, 0.20454545454545456, 'x[11] <= 12.4\\nsquared_error = 29.16\\nsamples = 2\\nvalue = 927.7'),\n",
              " Text(0.3279120879120879, 0.1590909090909091, 'squared_error = 0.0\\nsamples = 1\\nvalue = 922.3'),\n",
              " Text(0.3314285714285714, 0.1590909090909091, 'squared_error = -0.0\\nsamples = 1\\nvalue = 933.1'),\n",
              " Text(0.3331868131868132, 0.20454545454545456, 'squared_error = -0.0\\nsamples = 1\\nvalue = 957.2'),\n",
              " Text(0.3274725274725275, 0.29545454545454547, 'squared_error = -0.0\\nsamples = 1\\nvalue = 1027.1'),\n",
              " Text(0.32065934065934065, 0.4318181818181818, 'x[9] <= 185.15\\nsquared_error = 0.563\\nsamples = 2\\nvalue = 1012.35'),\n",
              " Text(0.3189010989010989, 0.38636363636363635, 'squared_error = 0.0\\nsamples = 1\\nvalue = 1013.1'),\n",
              " Text(0.3224175824175824, 0.38636363636363635, 'squared_error = 0.0\\nsamples = 1\\nvalue = 1011.6'),\n",
              " Text(0.32593406593406593, 0.4772727272727273, 'x[0] <= 78.0\\nsquared_error = 545.222\\nsamples = 2\\nvalue = 1064.75'),\n",
              " Text(0.3241758241758242, 0.4318181818181818, 'squared_error = 0.0\\nsamples = 1\\nvalue = 1041.4'),\n",
              " Text(0.32769230769230767, 0.4318181818181818, 'squared_error = 0.0\\nsamples = 1\\nvalue = 1088.1'),\n",
              " Text(0.3630769230769231, 0.5681818181818182, 'x[1] <= 34.4\\nsquared_error = 1867.03\\nsamples = 24\\nvalue = 949.779'),\n",
              " Text(0.36131868131868133, 0.5227272727272727, 'x[15] <= 63.5\\nsquared_error = 746.932\\nsamples = 23\\nvalue = 942.704'),\n",
              " Text(0.34901098901098904, 0.4772727272727273, 'x[4] <= 8.65\\nsquared_error = 317.026\\nsamples = 17\\nvalue = 930.341'),\n",
              " Text(0.3402197802197802, 0.4318181818181818, 'x[6] <= 254.05\\nsquared_error = 258.296\\nsamples = 7\\nvalue = 914.271'),\n",
              " Text(0.3384615384615385, 0.38636363636363635, 'squared_error = 0.0\\nsamples = 1\\nvalue = 881.8'),\n",
              " Text(0.34197802197802196, 0.38636363636363635, 'x[0] <= 19.2\\nsquared_error = 96.325\\nsamples = 6\\nvalue = 919.683'),\n",
              " Text(0.3402197802197802, 0.3409090909090909, 'x[3] <= 1.0\\nsquared_error = 30.614\\nsamples = 5\\nvalue = 915.92'),\n",
              " Text(0.3384615384615385, 0.29545454545454547, 'squared_error = 0.0\\nsamples = 1\\nvalue = 905.7'),\n",
              " Text(0.34197802197802196, 0.29545454545454547, 'x[4] <= 7.65\\nsquared_error = 5.627\\nsamples = 4\\nvalue = 918.475'),\n",
              " Text(0.3384615384615385, 0.25, 'x[8] <= 167.25\\nsquared_error = 0.25\\nsamples = 2\\nvalue = 920.7'),\n",
              " Text(0.3367032967032967, 0.20454545454545456, 'squared_error = 0.0\\nsamples = 1\\nvalue = 920.2'),\n",
              " Text(0.3402197802197802, 0.20454545454545456, 'squared_error = -0.0\\nsamples = 1\\nvalue = 921.2'),\n",
              " Text(0.3454945054945055, 0.25, 'x[1] <= 7.0\\nsquared_error = 1.103\\nsamples = 2\\nvalue = 916.25'),\n",
              " Text(0.34373626373626376, 0.20454545454545456, 'squared_error = 0.0\\nsamples = 1\\nvalue = 917.3'),\n",
              " Text(0.34725274725274724, 0.20454545454545456, 'squared_error = 0.0\\nsamples = 1\\nvalue = 915.2'),\n",
              " Text(0.34373626373626376, 0.3409090909090909, 'squared_error = -0.0\\nsamples = 1\\nvalue = 938.5'),\n",
              " Text(0.3578021978021978, 0.4318181818181818, 'x[12] <= 24.85\\nsquared_error = 50.835\\nsamples = 10\\nvalue = 941.59'),\n",
              " Text(0.3507692307692308, 0.38636363636363635, 'x[8] <= 177.8\\nsquared_error = 33.914\\nsamples = 5\\nvalue = 936.16'),\n",
              " Text(0.34725274725274724, 0.3409090909090909, 'x[1] <= 9.5\\nsquared_error = 2.723\\nsamples = 2\\nvalue = 929.85'),\n",
              " Text(0.3454945054945055, 0.29545454545454547, 'squared_error = 0.0\\nsamples = 1\\nvalue = 928.2'),\n",
              " Text(0.34901098901098904, 0.29545454545454547, 'squared_error = 0.0\\nsamples = 1\\nvalue = 931.5'),\n",
              " Text(0.35428571428571426, 0.3409090909090909, 'x[5] <= 97.5\\nsquared_error = 10.469\\nsamples = 3\\nvalue = 940.367'),\n",
              " Text(0.3525274725274725, 0.29545454545454547, 'squared_error = 0.0\\nsamples = 1\\nvalue = 944.5'),\n",
              " Text(0.35604395604395606, 0.29545454545454547, 'x[9] <= 37.25\\nsquared_error = 2.89\\nsamples = 2\\nvalue = 938.3'),\n",
              " Text(0.35428571428571426, 0.25, 'squared_error = 0.0\\nsamples = 1\\nvalue = 940.0'),\n",
              " Text(0.3578021978021978, 0.25, 'squared_error = 0.0\\nsamples = 1\\nvalue = 936.6'),\n",
              " Text(0.3648351648351648, 0.38636363636363635, 'x[1] <= 11.85\\nsquared_error = 8.786\\nsamples = 5\\nvalue = 947.02'),\n",
              " Text(0.36131868131868133, 0.3409090909090909, 'x[6] <= 274.85\\nsquared_error = 0.04\\nsamples = 2\\nvalue = 943.4'),\n",
              " Text(0.35956043956043954, 0.29545454545454547, 'squared_error = 0.0\\nsamples = 1\\nvalue = 943.2'),\n",
              " Text(0.3630769230769231, 0.29545454545454547, 'squared_error = -0.0\\nsamples = 1\\nvalue = 943.6'),\n",
              " Text(0.36835164835164835, 0.3409090909090909, 'x[12] <= 28.2\\nsquared_error = 0.056\\nsamples = 3\\nvalue = 949.433'),\n",
              " Text(0.3665934065934066, 0.29545454545454547, 'squared_error = 0.0\\nsamples = 1\\nvalue = 949.1'),\n",
              " Text(0.3701098901098901, 0.29545454545454547, 'squared_error = -0.0\\nsamples = 2\\nvalue = 949.6'),\n",
              " Text(0.37362637362637363, 0.4772727272727273, 'x[13] <= 23.7\\nsquared_error = 304.899\\nsamples = 6\\nvalue = 977.733'),\n",
              " Text(0.3718681318681319, 0.4318181818181818, 'squared_error = 0.0\\nsamples = 1\\nvalue = 940.9'),\n",
              " Text(0.37538461538461537, 0.4318181818181818, 'x[10] <= 7.8\\nsquared_error = 40.272\\nsamples = 5\\nvalue = 985.1'),\n",
              " Text(0.37362637362637363, 0.38636363636363635, 'squared_error = 0.0\\nsamples = 1\\nvalue = 996.6'),\n",
              " Text(0.37714285714285717, 0.38636363636363635, 'x[9] <= 87.4\\nsquared_error = 9.012\\nsamples = 4\\nvalue = 982.225'),\n",
              " Text(0.37538461538461537, 0.3409090909090909, 'x[1] <= 4.7\\nsquared_error = 2.302\\nsamples = 3\\nvalue = 980.667'),\n",
              " Text(0.37362637362637363, 0.29545454545454547, 'squared_error = 0.0\\nsamples = 1\\nvalue = 982.8'),\n",
              " Text(0.37714285714285717, 0.29545454545454547, 'x[8] <= 164.0\\nsquared_error = 0.04\\nsamples = 2\\nvalue = 979.6'),\n",
              " Text(0.37538461538461537, 0.25, 'squared_error = 0.0\\nsamples = 1\\nvalue = 979.8'),\n",
              " Text(0.3789010989010989, 0.25, 'squared_error = 0.0\\nsamples = 1\\nvalue = 979.4'),\n",
              " Text(0.3789010989010989, 0.3409090909090909, 'squared_error = -0.0\\nsamples = 1\\nvalue = 986.9'),\n",
              " Text(0.3648351648351648, 0.5227272727272727, 'squared_error = -0.0\\nsamples = 1\\nvalue = 1112.5'),\n",
              " Text(0.38593406593406593, 0.6590909090909091, 'x[4] <= 46.55\\nsquared_error = 16244.839\\nsamples = 12\\nvalue = 1172.158'),\n",
              " Text(0.3789010989010989, 0.6136363636363636, 'x[1] <= 13.2\\nsquared_error = 3545.337\\nsamples = 4\\nvalue = 1320.425'),\n",
              " Text(0.37714285714285717, 0.5681818181818182, 'squared_error = 0.0\\nsamples = 1\\nvalue = 1227.7'),\n",
              " Text(0.38065934065934065, 0.5681818181818182, 'x[12] <= 61.6\\nsquared_error = 905.816\\nsamples = 3\\nvalue = 1351.333'),\n",
              " Text(0.3789010989010989, 0.5227272727272727, 'x[9] <= 268.6\\nsquared_error = 37.823\\nsamples = 2\\nvalue = 1330.35'),\n",
              " Text(0.37714285714285717, 0.4772727272727273, 'squared_error = 0.0\\nsamples = 1\\nvalue = 1324.2'),\n",
              " Text(0.38065934065934065, 0.4772727272727273, 'squared_error = 0.0\\nsamples = 1\\nvalue = 1336.5'),\n",
              " Text(0.3824175824175824, 0.5227272727272727, 'squared_error = -0.0\\nsamples = 1\\nvalue = 1393.3'),\n",
              " Text(0.39296703296703295, 0.6136363636363636, 'x[2] <= 18.9\\nsquared_error = 6107.337\\nsamples = 8\\nvalue = 1098.025'),\n",
              " Text(0.3912087912087912, 0.5681818181818182, 'x[4] <= 65.35\\nsquared_error = 2254.505\\nsamples = 7\\nvalue = 1122.329'),\n",
              " Text(0.38593406593406593, 0.5227272727272727, 'x[3] <= 16.35\\nsquared_error = 154.922\\nsamples = 4\\nvalue = 1159.625'),\n",
              " Text(0.3841758241758242, 0.4772727272727273, 'squared_error = 0.0\\nsamples = 1\\nvalue = 1139.6'),\n",
              " Text(0.38769230769230767, 0.4772727272727273, 'x[15] <= 502.6\\nsquared_error = 28.34\\nsamples = 3\\nvalue = 1166.3'),\n",
              " Text(0.38593406593406593, 0.4318181818181818, 'x[1] <= 14.4\\nsquared_error = 5.76\\nsamples = 2\\nvalue = 1162.8'),\n",
              " Text(0.3841758241758242, 0.38636363636363635, 'squared_error = 0.0\\nsamples = 1\\nvalue = 1160.4'),\n",
              " Text(0.38769230769230767, 0.38636363636363635, 'squared_error = -0.0\\nsamples = 1\\nvalue = 1165.2'),\n",
              " Text(0.38945054945054947, 0.4318181818181818, 'squared_error = -0.0\\nsamples = 1\\nvalue = 1173.3'),\n",
              " Text(0.3964835164835165, 0.5227272727272727, 'x[13] <= 105.6\\nsquared_error = 726.32\\nsamples = 3\\nvalue = 1072.6'),\n",
              " Text(0.39472527472527474, 0.4772727272727273, 'x[14] <= 430.05\\nsquared_error = 252.81\\nsamples = 2\\nvalue = 1055.9'),\n",
              " Text(0.39296703296703295, 0.4318181818181818, 'squared_error = 0.0\\nsamples = 1\\nvalue = 1071.8'),\n",
              " Text(0.3964835164835165, 0.4318181818181818, 'squared_error = -0.0\\nsamples = 1\\nvalue = 1040.0'),\n",
              " Text(0.3982417582417582, 0.4772727272727273, 'squared_error = 0.0\\nsamples = 1\\nvalue = 1106.0'),\n",
              " Text(0.39472527472527474, 0.5681818181818182, 'squared_error = 0.0\\nsamples = 1\\nvalue = 927.9'),\n",
              " Text(0.4541758241758242, 0.7045454545454546, 'x[13] <= 51.45\\nsquared_error = 5157.412\\nsamples = 45\\nvalue = 1063.822'),\n",
              " Text(0.4217582417582418, 0.6590909090909091, 'x[14] <= 875.45\\nsquared_error = 1729.717\\nsamples = 31\\nvalue = 1027.255'),\n",
              " Text(0.4087912087912088, 0.6136363636363636, 'x[4] <= 9.35\\nsquared_error = 292.062\\nsamples = 5\\nvalue = 953.48'),\n",
              " Text(0.4052747252747253, 0.5681818181818182, 'x[11] <= 10.3\\nsquared_error = 107.007\\nsamples = 3\\nvalue = 941.3'),\n",
              " Text(0.4035164835164835, 0.5227272727272727, 'x[3] <= 1.9\\nsquared_error = 0.64\\nsamples = 2\\nvalue = 948.6'),\n",
              " Text(0.40175824175824176, 0.4772727272727273, 'squared_error = 0.0\\nsamples = 1\\nvalue = 949.4'),\n",
              " Text(0.4052747252747253, 0.4772727272727273, 'squared_error = 0.0\\nsamples = 1\\nvalue = 947.8'),\n",
              " Text(0.40703296703296704, 0.5227272727272727, 'squared_error = -0.0\\nsamples = 1\\nvalue = 926.7'),\n",
              " Text(0.4123076923076923, 0.5681818181818182, 'x[7] <= 259.4\\nsquared_error = 13.323\\nsamples = 2\\nvalue = 971.75'),\n",
              " Text(0.4105494505494505, 0.5227272727272727, 'squared_error = 0.0\\nsamples = 1\\nvalue = 968.1'),\n",
              " Text(0.41406593406593406, 0.5227272727272727, 'squared_error = 0.0\\nsamples = 1\\nvalue = 975.4'),\n",
              " Text(0.4347252747252747, 0.6136363636363636, 'x[14] <= 909.5\\nsquared_error = 758.227\\nsamples = 26\\nvalue = 1041.442'),\n",
              " Text(0.4210989010989011, 0.5681818181818182, 'x[5] <= 131.7\\nsquared_error = 211.894\\nsamples = 9\\nvalue = 1015.344'),\n",
              " Text(0.4175824175824176, 0.5227272727272727, 'x[11] <= 6.0\\nsquared_error = 31.422\\nsamples = 5\\nvalue = 1003.68'),\n",
              " Text(0.4158241758241758, 0.4772727272727273, 'x[2] <= 8.35\\nsquared_error = 10.357\\nsamples = 4\\nvalue = 1001.275'),\n",
              " Text(0.41406593406593406, 0.4318181818181818, 'squared_error = 0.0\\nsamples = 1\\nvalue = 995.8'),\n",
              " Text(0.4175824175824176, 0.4318181818181818, 'x[13] <= 37.95\\nsquared_error = 0.487\\nsamples = 3\\nvalue = 1003.1'),\n",
              " Text(0.4158241758241758, 0.38636363636363635, 'x[13] <= 28.45\\nsquared_error = 0.122\\nsamples = 2\\nvalue = 1003.55'),\n",
              " Text(0.41406593406593406, 0.3409090909090909, 'squared_error = 0.0\\nsamples = 1\\nvalue = 1003.2'),\n",
              " Text(0.4175824175824176, 0.3409090909090909, 'squared_error = 0.0\\nsamples = 1\\nvalue = 1003.9'),\n",
              " Text(0.41934065934065934, 0.38636363636363635, 'squared_error = -0.0\\nsamples = 1\\nvalue = 1002.2'),\n",
              " Text(0.41934065934065934, 0.4772727272727273, 'squared_error = -0.0\\nsamples = 1\\nvalue = 1013.3'),\n",
              " Text(0.4246153846153846, 0.5227272727272727, 'x[2] <= 11.35\\nsquared_error = 54.817\\nsamples = 4\\nvalue = 1029.925'),\n",
              " Text(0.4228571428571429, 0.4772727272727273, 'squared_error = 0.0\\nsamples = 1\\nvalue = 1041.8'),\n",
              " Text(0.42637362637362636, 0.4772727272727273, 'x[12] <= 29.35\\nsquared_error = 10.416\\nsamples = 3\\nvalue = 1025.967'),\n",
              " Text(0.4246153846153846, 0.4318181818181818, 'x[13] <= 37.9\\nsquared_error = 1.323\\nsamples = 2\\nvalue = 1028.15'),\n",
              " Text(0.4228571428571429, 0.38636363636363635, 'squared_error = 0.0\\nsamples = 1\\nvalue = 1027.0'),\n",
              " Text(0.42637362637362636, 0.38636363636363635, 'squared_error = -0.0\\nsamples = 1\\nvalue = 1029.3'),\n",
              " Text(0.42813186813186815, 0.4318181818181818, 'squared_error = -0.0\\nsamples = 1\\nvalue = 1021.6'),\n",
              " Text(0.44835164835164837, 0.5681818181818182, 'x[13] <= 29.45\\nsquared_error = 495.985\\nsamples = 17\\nvalue = 1055.259'),\n",
              " Text(0.4378021978021978, 0.5227272727272727, 'x[0] <= 22.05\\nsquared_error = 86.37\\nsamples = 8\\nvalue = 1035.462'),\n",
              " Text(0.43604395604395607, 0.4772727272727273, 'x[11] <= 6.25\\nsquared_error = 29.173\\nsamples = 7\\nvalue = 1032.514'),\n",
              " Text(0.43164835164835164, 0.4318181818181818, 'x[12] <= 29.25\\nsquared_error = 4.41\\nsamples = 2\\nvalue = 1039.7'),\n",
              " Text(0.4298901098901099, 0.38636363636363635, 'squared_error = 0.0\\nsamples = 1\\nvalue = 1041.8'),\n",
              " Text(0.43340659340659343, 0.38636363636363635, 'squared_error = 0.0\\nsamples = 1\\nvalue = 1037.6'),\n",
              " Text(0.44043956043956045, 0.4318181818181818, 'x[13] <= 17.15\\nsquared_error = 10.162\\nsamples = 5\\nvalue = 1029.64'),\n",
              " Text(0.4369230769230769, 0.38636363636363635, 'x[15] <= 53.5\\nsquared_error = 2.56\\nsamples = 2\\nvalue = 1033.0'),\n",
              " Text(0.4351648351648352, 0.3409090909090909, 'squared_error = 0.0\\nsamples = 1\\nvalue = 1034.6'),\n",
              " Text(0.43868131868131865, 0.3409090909090909, 'squared_error = 0.0\\nsamples = 1\\nvalue = 1031.4'),\n",
              " Text(0.44395604395604393, 0.38636363636363635, 'x[4] <= 10.25\\nsquared_error = 2.687\\nsamples = 3\\nvalue = 1027.4'),\n",
              " Text(0.4421978021978022, 0.3409090909090909, 'x[2] <= 7.8\\nsquared_error = 0.063\\nsamples = 2\\nvalue = 1028.55'),\n",
              " Text(0.44043956043956045, 0.29545454545454547, 'squared_error = 0.0\\nsamples = 1\\nvalue = 1028.3'),\n",
              " Text(0.44395604395604393, 0.29545454545454547, 'squared_error = 0.0\\nsamples = 1\\nvalue = 1028.8'),\n",
              " Text(0.44571428571428573, 0.3409090909090909, 'squared_error = 0.0\\nsamples = 1\\nvalue = 1025.1'),\n",
              " Text(0.43956043956043955, 0.4772727272727273, 'squared_error = 0.0\\nsamples = 1\\nvalue = 1056.1'),\n",
              " Text(0.4589010989010989, 0.5227272727272727, 'x[7] <= 293.95\\nsquared_error = 202.091\\nsamples = 9\\nvalue = 1072.856'),\n",
              " Text(0.45274725274725275, 0.4772727272727273, 'x[15] <= 64.45\\nsquared_error = 74.358\\nsamples = 5\\nvalue = 1061.68'),\n",
              " Text(0.4492307692307692, 0.4318181818181818, 'x[14] <= 927.45\\nsquared_error = 7.762\\nsamples = 3\\nvalue = 1055.067'),\n",
              " Text(0.44747252747252747, 0.38636363636363635, 'squared_error = 0.0\\nsamples = 1\\nvalue = 1051.5'),\n",
              " Text(0.450989010989011, 0.38636363636363635, 'x[12] <= 27.05\\nsquared_error = 2.102\\nsamples = 2\\nvalue = 1056.85'),\n",
              " Text(0.4492307692307692, 0.3409090909090909, 'squared_error = 0.0\\nsamples = 1\\nvalue = 1058.3'),\n",
              " Text(0.45274725274725275, 0.3409090909090909, 'squared_error = 0.0\\nsamples = 1\\nvalue = 1055.4'),\n",
              " Text(0.4562637362637363, 0.4318181818181818, 'x[2] <= 12.75\\nsquared_error = 10.24\\nsamples = 2\\nvalue = 1071.6'),\n",
              " Text(0.4545054945054945, 0.38636363636363635, 'squared_error = 0.0\\nsamples = 1\\nvalue = 1074.8'),\n",
              " Text(0.458021978021978, 0.38636363636363635, 'squared_error = 0.0\\nsamples = 1\\nvalue = 1068.4'),\n",
              " Text(0.46505494505494505, 0.4772727272727273, 'x[3] <= 10.5\\nsquared_error = 10.497\\nsamples = 4\\nvalue = 1086.825'),\n",
              " Text(0.4632967032967033, 0.4318181818181818, 'x[9] <= 46.55\\nsquared_error = 2.549\\nsamples = 3\\nvalue = 1085.133'),\n",
              " Text(0.46153846153846156, 0.38636363636363635, 'squared_error = 0.0\\nsamples = 1\\nvalue = 1083.1'),\n",
              " Text(0.46505494505494505, 0.38636363636363635, 'x[10] <= 3.0\\nsquared_error = 0.723\\nsamples = 2\\nvalue = 1086.15'),\n",
              " Text(0.4632967032967033, 0.3409090909090909, 'squared_error = 0.0\\nsamples = 1\\nvalue = 1085.3'),\n",
              " Text(0.4668131868131868, 0.3409090909090909, 'squared_error = -0.0\\nsamples = 1\\nvalue = 1087.0'),\n",
              " Text(0.4668131868131868, 0.4318181818181818, 'squared_error = 0.0\\nsamples = 1\\nvalue = 1091.9'),\n",
              " Text(0.4865934065934066, 0.6590909090909091, 'x[2] <= 50.7\\nsquared_error = 3230.181\\nsamples = 14\\nvalue = 1144.793'),\n",
              " Text(0.47824175824175824, 0.6136363636363636, 'x[12] <= 20.4\\nsquared_error = 923.15\\nsamples = 10\\nvalue = 1114.03'),\n",
              " Text(0.47208791208791206, 0.5681818181818182, 'x[7] <= 247.5\\nsquared_error = 386.088\\nsamples = 4\\nvalue = 1086.85'),\n",
              " Text(0.4703296703296703, 0.5227272727272727, 'squared_error = 0.0\\nsamples = 1\\nvalue = 1054.5'),\n",
              " Text(0.47384615384615386, 0.5227272727272727, 'x[0] <= 9.1\\nsquared_error = 49.662\\nsamples = 3\\nvalue = 1097.633'),\n",
              " Text(0.47208791208791206, 0.4772727272727273, 'x[10] <= 14.65\\nsquared_error = 4.41\\nsamples = 2\\nvalue = 1092.8'),\n",
              " Text(0.4703296703296703, 0.4318181818181818, 'squared_error = 0.0\\nsamples = 1\\nvalue = 1090.7'),\n",
              " Text(0.47384615384615386, 0.4318181818181818, 'squared_error = -0.0\\nsamples = 1\\nvalue = 1094.9'),\n",
              " Text(0.4756043956043956, 0.4772727272727273, 'squared_error = -0.0\\nsamples = 1\\nvalue = 1107.3'),\n",
              " Text(0.4843956043956044, 0.5681818181818182, 'x[13] <= 85.45\\nsquared_error = 460.356\\nsamples = 6\\nvalue = 1132.15'),\n",
              " Text(0.4808791208791209, 0.5227272727272727, 'x[14] <= 910.85\\nsquared_error = 14.287\\nsamples = 3\\nvalue = 1111.3'),\n",
              " Text(0.47912087912087914, 0.4772727272727273, 'x[11] <= 22.7\\nsquared_error = 3.423\\nsamples = 2\\nvalue = 1108.85'),\n",
              " Text(0.47736263736263734, 0.4318181818181818, 'squared_error = 0.0\\nsamples = 1\\nvalue = 1107.0'),\n",
              " Text(0.4808791208791209, 0.4318181818181818, 'squared_error = 0.0\\nsamples = 1\\nvalue = 1110.7'),\n",
              " Text(0.4826373626373626, 0.4772727272727273, 'squared_error = -0.0\\nsamples = 1\\nvalue = 1116.2'),\n",
              " Text(0.4879120879120879, 0.5227272727272727, 'x[4] <= 50.55\\nsquared_error = 36.98\\nsamples = 3\\nvalue = 1153.0'),\n",
              " Text(0.48615384615384616, 0.4772727272727273, 'squared_error = 0.0\\nsamples = 2\\nvalue = 1157.3'),\n",
              " Text(0.4896703296703297, 0.4772727272727273, 'squared_error = -0.0\\nsamples = 1\\nvalue = 1144.4'),\n",
              " Text(0.4949450549450549, 0.6136363636363636, 'x[5] <= 108.05\\nsquared_error = 717.165\\nsamples = 4\\nvalue = 1221.7'),\n",
              " Text(0.4931868131868132, 0.5681818181818182, 'x[15] <= 75.8\\nsquared_error = 44.18\\nsamples = 3\\nvalue = 1206.6'),\n",
              " Text(0.49142857142857144, 0.5227272727272727, 'squared_error = 0.0\\nsamples = 1\\nvalue = 1197.2'),\n",
              " Text(0.4949450549450549, 0.5227272727272727, 'squared_error = -0.0\\nsamples = 2\\nvalue = 1211.3'),\n",
              " Text(0.4967032967032967, 0.5681818181818182, 'squared_error = 0.0\\nsamples = 1\\nvalue = 1267.0'),\n",
              " Text(0.5178021978021978, 0.75, 'x[6] <= 104.45\\nsquared_error = 32161.957\\nsamples = 21\\nvalue = 1194.114'),\n",
              " Text(0.5098901098901099, 0.7045454545454546, 'x[3] <= 138.25\\nsquared_error = 11407.971\\nsamples = 7\\nvalue = 980.557'),\n",
              " Text(0.5054945054945055, 0.6590909090909091, 'x[11] <= 50.85\\nsquared_error = 3068.11\\nsamples = 5\\nvalue = 919.84'),\n",
              " Text(0.501978021978022, 0.6136363636363636, 'x[12] <= 14.45\\nsquared_error = 441.716\\nsamples = 3\\nvalue = 877.233'),\n",
              " Text(0.5002197802197802, 0.5681818181818182, 'squared_error = 0.0\\nsamples = 1\\nvalue = 850.7'),\n",
              " Text(0.5037362637362638, 0.5681818181818182, 'x[7] <= 89.05\\nsquared_error = 134.56\\nsamples = 2\\nvalue = 890.5'),\n",
              " Text(0.501978021978022, 0.5227272727272727, 'squared_error = 0.0\\nsamples = 1\\nvalue = 878.9'),\n",
              " Text(0.5054945054945055, 0.5227272727272727, 'squared_error = 0.0\\nsamples = 1\\nvalue = 902.1'),\n",
              " Text(0.509010989010989, 0.6136363636363636, 'x[15] <= 251.95\\nsquared_error = 200.222\\nsamples = 2\\nvalue = 983.75'),\n",
              " Text(0.5072527472527473, 0.5681818181818182, 'squared_error = 0.0\\nsamples = 1\\nvalue = 969.6'),\n",
              " Text(0.5107692307692308, 0.5681818181818182, 'squared_error = -0.0\\nsamples = 1\\nvalue = 997.9'),\n",
              " Text(0.5142857142857142, 0.6590909090909091, 'x[13] <= 470.95\\nsquared_error = 0.123\\nsamples = 2\\nvalue = 1132.35'),\n",
              " Text(0.5125274725274725, 0.6136363636363636, 'squared_error = 0.0\\nsamples = 1\\nvalue = 1132.0'),\n",
              " Text(0.516043956043956, 0.6136363636363636, 'squared_error = 0.0\\nsamples = 1\\nvalue = 1132.7'),\n",
              " Text(0.5257142857142857, 0.7045454545454546, 'x[2] <= 24.0\\nsquared_error = 8333.961\\nsamples = 14\\nvalue = 1300.893'),\n",
              " Text(0.5213186813186813, 0.6590909090909091, 'x[4] <= 93.65\\nsquared_error = 97.022\\nsamples = 2\\nvalue = 1130.55'),\n",
              " Text(0.5195604395604395, 0.6136363636363636, 'squared_error = 0.0\\nsamples = 1\\nvalue = 1140.4'),\n",
              " Text(0.5230769230769231, 0.6136363636363636, 'squared_error = -0.0\\nsamples = 1\\nvalue = 1120.7'),\n",
              " Text(0.5301098901098901, 0.6590909090909091, 'x[6] <= 249.75\\nsquared_error = 4064.65\\nsamples = 12\\nvalue = 1329.283'),\n",
              " Text(0.5265934065934066, 0.6136363636363636, 'x[5] <= 56.9\\nsquared_error = 709.012\\nsamples = 10\\nvalue = 1308.88'),\n",
              " Text(0.5248351648351648, 0.5681818181818182, 'squared_error = 0.0\\nsamples = 1\\nvalue = 1248.8'),\n",
              " Text(0.5283516483516484, 0.5681818181818182, 'x[3] <= 105.3\\nsquared_error = 342.16\\nsamples = 9\\nvalue = 1315.556'),\n",
              " Text(0.5248351648351648, 0.5227272727272727, 'x[5] <= 280.7\\nsquared_error = 49.826\\nsamples = 5\\nvalue = 1299.92'),\n",
              " Text(0.5230769230769231, 0.4772727272727273, 'x[7] <= 213.9\\nsquared_error = 4.312\\nsamples = 4\\nvalue = 1303.325'),\n",
              " Text(0.5195604395604395, 0.4318181818181818, 'x[13] <= 307.8\\nsquared_error = 1.103\\nsamples = 2\\nvalue = 1301.45'),\n",
              " Text(0.5178021978021978, 0.38636363636363635, 'squared_error = 0.0\\nsamples = 1\\nvalue = 1302.5'),\n",
              " Text(0.5213186813186813, 0.38636363636363635, 'squared_error = 0.0\\nsamples = 1\\nvalue = 1300.4'),\n",
              " Text(0.5265934065934066, 0.4318181818181818, 'x[11] <= 12.55\\nsquared_error = 0.49\\nsamples = 2\\nvalue = 1305.2'),\n",
              " Text(0.5248351648351648, 0.38636363636363635, 'squared_error = 0.0\\nsamples = 1\\nvalue = 1304.5'),\n",
              " Text(0.5283516483516484, 0.38636363636363635, 'squared_error = 0.0\\nsamples = 1\\nvalue = 1305.9'),\n",
              " Text(0.5265934065934066, 0.4772727272727273, 'squared_error = -0.0\\nsamples = 1\\nvalue = 1286.3'),\n",
              " Text(0.5318681318681319, 0.5227272727272727, 'x[5] <= 67.0\\nsquared_error = 20.005\\nsamples = 4\\nvalue = 1335.1'),\n",
              " Text(0.5301098901098901, 0.4772727272727273, 'squared_error = 0.0\\nsamples = 1\\nvalue = 1328.4'),\n",
              " Text(0.5336263736263737, 0.4772727272727273, 'x[11] <= 47.65\\nsquared_error = 6.722\\nsamples = 3\\nvalue = 1337.333'),\n",
              " Text(0.5318681318681319, 0.4318181818181818, 'squared_error = 0.0\\nsamples = 1\\nvalue = 1341.0'),\n",
              " Text(0.5353846153846153, 0.4318181818181818, 'squared_error = 0.0\\nsamples = 2\\nvalue = 1335.5'),\n",
              " Text(0.5336263736263737, 0.6136363636363636, 'x[9] <= 140.0\\nsquared_error = 8353.96\\nsamples = 2\\nvalue = 1431.3'),\n",
              " Text(0.5318681318681319, 0.5681818181818182, 'squared_error = 0.0\\nsamples = 1\\nvalue = 1339.9'),\n",
              " Text(0.5353846153846153, 0.5681818181818182, 'squared_error = -0.0\\nsamples = 1\\nvalue = 1522.7'),\n",
              " Text(0.7816964285714286, 0.8863636363636364, 'x[5] <= 247.3\\nsquared_error = 85456.568\\nsamples = 158\\nvalue = 1470.556'),\n",
              " Text(0.7155357142857143, 0.8409090909090909, 'x[14] <= 1258.2\\nsquared_error = 36518.269\\nsamples = 119\\nvalue = 1344.237'),\n",
              " Text(0.6416208791208792, 0.7954545454545454, 'x[2] <= 12.8\\nsquared_error = 17092.357\\nsamples = 102\\nvalue = 1292.76'),\n",
              " Text(0.592032967032967, 0.75, 'x[6] <= 358.8\\nsquared_error = 4374.938\\nsamples = 42\\nvalue = 1178.274'),\n",
              " Text(0.5743956043956044, 0.7045454545454546, 'x[3] <= 12.85\\nsquared_error = 840.349\\nsamples = 30\\nvalue = 1146.307'),\n",
              " Text(0.5624175824175824, 0.6590909090909091, 'x[14] <= 1021.8\\nsquared_error = 622.536\\nsamples = 24\\nvalue = 1138.663'),\n",
              " Text(0.5507692307692308, 0.6136363636363636, 'x[4] <= 21.3\\nsquared_error = 303.126\\nsamples = 13\\nvalue = 1122.223'),\n",
              " Text(0.5432967032967033, 0.5681818181818182, 'x[7] <= 354.3\\nsquared_error = 197.886\\nsamples = 8\\nvalue = 1112.488'),\n",
              " Text(0.5415384615384615, 0.5227272727272727, 'x[6] <= 309.2\\nsquared_error = 100.997\\nsamples = 7\\nvalue = 1116.443'),\n",
              " Text(0.5397802197802197, 0.4772727272727273, 'squared_error = 0.0\\nsamples = 1\\nvalue = 1095.9'),\n",
              " Text(0.5432967032967033, 0.4772727272727273, 'x[6] <= 341.75\\nsquared_error = 35.772\\nsamples = 6\\nvalue = 1119.867'),\n",
              " Text(0.5389010989010989, 0.4318181818181818, 'x[12] <= 30.1\\nsquared_error = 9.272\\nsamples = 4\\nvalue = 1123.65'),\n",
              " Text(0.5353846153846153, 0.38636363636363635, 'x[13] <= 37.7\\nsquared_error = 0.422\\nsamples = 2\\nvalue = 1120.65'),\n",
              " Text(0.5336263736263737, 0.3409090909090909, 'squared_error = 0.0\\nsamples = 1\\nvalue = 1121.3'),\n",
              " Text(0.5371428571428571, 0.3409090909090909, 'squared_error = -0.0\\nsamples = 1\\nvalue = 1120.0'),\n",
              " Text(0.5424175824175824, 0.38636363636363635, 'x[6] <= 317.5\\nsquared_error = 0.122\\nsamples = 2\\nvalue = 1126.65'),\n",
              " Text(0.5406593406593406, 0.3409090909090909, 'squared_error = 0.0\\nsamples = 1\\nvalue = 1126.3'),\n",
              " Text(0.5441758241758242, 0.3409090909090909, 'squared_error = -0.0\\nsamples = 1\\nvalue = 1127.0'),\n",
              " Text(0.5476923076923077, 0.4318181818181818, 'x[2] <= 8.85\\nsquared_error = 2.89\\nsamples = 2\\nvalue = 1112.3'),\n",
              " Text(0.5459340659340659, 0.38636363636363635, 'squared_error = 0.0\\nsamples = 1\\nvalue = 1114.0'),\n",
              " Text(0.5494505494505495, 0.38636363636363635, 'squared_error = 0.0\\nsamples = 1\\nvalue = 1110.6'),\n",
              " Text(0.545054945054945, 0.5227272727272727, 'squared_error = -0.0\\nsamples = 1\\nvalue = 1084.8'),\n",
              " Text(0.5582417582417583, 0.5681818181818182, 'x[11] <= 7.5\\nsquared_error = 77.22\\nsamples = 5\\nvalue = 1137.8'),\n",
              " Text(0.5547252747252748, 0.5227272727272727, 'x[4] <= 33.6\\nsquared_error = 30.162\\nsamples = 3\\nvalue = 1131.567'),\n",
              " Text(0.552967032967033, 0.4772727272727273, 'x[11] <= 6.2\\nsquared_error = 0.003\\nsamples = 2\\nvalue = 1135.45'),\n",
              " Text(0.5512087912087912, 0.4318181818181818, 'squared_error = 0.0\\nsamples = 1\\nvalue = 1135.4'),\n",
              " Text(0.5547252747252748, 0.4318181818181818, 'squared_error = 0.0\\nsamples = 1\\nvalue = 1135.5'),\n",
              " Text(0.5564835164835165, 0.4772727272727273, 'squared_error = -0.0\\nsamples = 1\\nvalue = 1123.8'),\n",
              " Text(0.5617582417582417, 0.5227272727272727, 'x[13] <= 45.75\\nsquared_error = 2.103\\nsamples = 2\\nvalue = 1147.15'),\n",
              " Text(0.56, 0.4772727272727273, 'squared_error = 0.0\\nsamples = 1\\nvalue = 1145.7'),\n",
              " Text(0.5635164835164835, 0.4772727272727273, 'squared_error = -0.0\\nsamples = 1\\nvalue = 1148.6'),\n",
              " Text(0.5740659340659341, 0.6136363636363636, 'x[13] <= 14.95\\nsquared_error = 303.164\\nsamples = 11\\nvalue = 1158.091'),\n",
              " Text(0.5705494505494505, 0.5681818181818182, 'x[9] <= 35.25\\nsquared_error = 80.045\\nsamples = 4\\nvalue = 1142.1'),\n",
              " Text(0.5687912087912088, 0.5227272727272727, 'x[0] <= 9.9\\nsquared_error = 22.087\\nsamples = 3\\nvalue = 1146.7'),\n",
              " Text(0.567032967032967, 0.4772727272727273, 'squared_error = 0.0\\nsamples = 1\\nvalue = 1152.6'),\n",
              " Text(0.5705494505494505, 0.4772727272727273, 'x[7] <= 387.05\\nsquared_error = 7.022\\nsamples = 2\\nvalue = 1143.75'),\n",
              " Text(0.5687912087912088, 0.4318181818181818, 'squared_error = 0.0\\nsamples = 1\\nvalue = 1146.4'),\n",
              " Text(0.5723076923076923, 0.4318181818181818, 'squared_error = 0.0\\nsamples = 1\\nvalue = 1141.1'),\n",
              " Text(0.5723076923076923, 0.5227272727272727, 'squared_error = -0.0\\nsamples = 1\\nvalue = 1128.3'),\n",
              " Text(0.5775824175824176, 0.5681818181818182, 'x[1] <= 8.15\\nsquared_error = 201.045\\nsamples = 7\\nvalue = 1167.229'),\n",
              " Text(0.5758241758241758, 0.5227272727272727, 'squared_error = 0.0\\nsamples = 1\\nvalue = 1141.3'),\n",
              " Text(0.5793406593406594, 0.5227272727272727, 'x[14] <= 1081.2\\nsquared_error = 103.829\\nsamples = 6\\nvalue = 1171.55'),\n",
              " Text(0.5775824175824176, 0.4772727272727273, 'x[4] <= 20.05\\nsquared_error = 20.262\\nsamples = 5\\nvalue = 1167.38'),\n",
              " Text(0.5758241758241758, 0.4318181818181818, 'x[2] <= 11.85\\nsquared_error = 8.765\\nsamples = 4\\nvalue = 1169.2'),\n",
              " Text(0.5740659340659341, 0.38636363636363635, 'x[0] <= 11.65\\nsquared_error = 2.282\\nsamples = 3\\nvalue = 1170.733'),\n",
              " Text(0.5723076923076923, 0.3409090909090909, 'squared_error = 0.0\\nsamples = 1\\nvalue = 1168.6'),\n",
              " Text(0.5758241758241758, 0.3409090909090909, 'x[4] <= 10.95\\nsquared_error = 0.01\\nsamples = 2\\nvalue = 1171.8'),\n",
              " Text(0.5740659340659341, 0.29545454545454547, 'squared_error = 0.0\\nsamples = 1\\nvalue = 1171.7'),\n",
              " Text(0.5775824175824176, 0.29545454545454547, 'squared_error = -0.0\\nsamples = 1\\nvalue = 1171.9'),\n",
              " Text(0.5775824175824176, 0.38636363636363635, 'squared_error = -0.0\\nsamples = 1\\nvalue = 1164.6'),\n",
              " Text(0.5793406593406594, 0.4318181818181818, 'squared_error = -0.0\\nsamples = 1\\nvalue = 1160.1'),\n",
              " Text(0.581098901098901, 0.4772727272727273, 'squared_error = 0.0\\nsamples = 1\\nvalue = 1192.4'),\n",
              " Text(0.5863736263736263, 0.6590909090909091, 'x[12] <= 22.35\\nsquared_error = 542.935\\nsamples = 6\\nvalue = 1176.883'),\n",
              " Text(0.5828571428571429, 0.6136363636363636, 'x[6] <= 315.9\\nsquared_error = 14.823\\nsamples = 2\\nvalue = 1150.65'),\n",
              " Text(0.581098901098901, 0.5681818181818182, 'squared_error = 0.0\\nsamples = 1\\nvalue = 1146.8'),\n",
              " Text(0.5846153846153846, 0.5681818181818182, 'squared_error = -0.0\\nsamples = 1\\nvalue = 1154.5'),\n",
              " Text(0.5898901098901099, 0.6136363636363636, 'x[11] <= 3.55\\nsquared_error = 290.85\\nsamples = 4\\nvalue = 1190.0'),\n",
              " Text(0.5881318681318681, 0.5681818181818182, 'squared_error = 0.0\\nsamples = 1\\nvalue = 1162.1'),\n",
              " Text(0.5916483516483516, 0.5681818181818182, 'x[14] <= 999.45\\nsquared_error = 41.84\\nsamples = 3\\nvalue = 1199.3'),\n",
              " Text(0.5898901098901099, 0.5227272727272727, 'squared_error = 0.0\\nsamples = 1\\nvalue = 1207.9'),\n",
              " Text(0.5934065934065934, 0.5227272727272727, 'x[11] <= 4.9\\nsquared_error = 7.29\\nsamples = 2\\nvalue = 1195.0'),\n",
              " Text(0.5916483516483516, 0.4772727272727273, 'squared_error = 0.0\\nsamples = 1\\nvalue = 1192.3'),\n",
              " Text(0.5951648351648352, 0.4772727272727273, 'squared_error = 0.0\\nsamples = 1\\nvalue = 1197.7'),\n",
              " Text(0.6096703296703296, 0.7045454545454546, 'x[5] <= 165.65\\nsquared_error = 4269.801\\nsamples = 12\\nvalue = 1258.192'),\n",
              " Text(0.6021978021978022, 0.6590909090909091, 'x[15] <= 83.5\\nsquared_error = 1175.366\\nsamples = 5\\nvalue = 1189.84'),\n",
              " Text(0.6004395604395605, 0.6136363636363636, 'x[0] <= 5.35\\nsquared_error = 415.782\\nsamples = 4\\nvalue = 1175.325'),\n",
              " Text(0.5986813186813187, 0.5681818181818182, 'squared_error = 0.0\\nsamples = 1\\nvalue = 1143.7'),\n",
              " Text(0.6021978021978022, 0.5681818181818182, 'x[10] <= 9.55\\nsquared_error = 109.869\\nsamples = 3\\nvalue = 1185.867'),\n",
              " Text(0.6004395604395605, 0.5227272727272727, 'x[8] <= 206.85\\nsquared_error = 4.203\\nsamples = 2\\nvalue = 1178.55'),\n",
              " Text(0.5986813186813187, 0.4772727272727273, 'squared_error = 0.0\\nsamples = 1\\nvalue = 1180.6'),\n",
              " Text(0.6021978021978022, 0.4772727272727273, 'squared_error = 0.0\\nsamples = 1\\nvalue = 1176.5'),\n",
              " Text(0.603956043956044, 0.5227272727272727, 'squared_error = -0.0\\nsamples = 1\\nvalue = 1200.5'),\n",
              " Text(0.603956043956044, 0.6136363636363636, 'squared_error = -0.0\\nsamples = 1\\nvalue = 1247.9'),\n",
              " Text(0.6171428571428571, 0.6590909090909091, 'x[0] <= 11.65\\nsquared_error = 759.356\\nsamples = 7\\nvalue = 1307.014'),\n",
              " Text(0.6127472527472527, 0.6136363636363636, 'x[5] <= 200.45\\nsquared_error = 201.647\\nsamples = 4\\nvalue = 1285.375'),\n",
              " Text(0.6092307692307692, 0.5681818181818182, 'x[9] <= 62.1\\nsquared_error = 3.803\\nsamples = 2\\nvalue = 1271.85'),\n",
              " Text(0.6074725274725274, 0.5227272727272727, 'squared_error = 0.0\\nsamples = 1\\nvalue = 1269.9'),\n",
              " Text(0.610989010989011, 0.5227272727272727, 'squared_error = 0.0\\nsamples = 1\\nvalue = 1273.8'),\n",
              " Text(0.6162637362637363, 0.5681818181818182, 'x[10] <= 7.7\\nsquared_error = 33.64\\nsamples = 2\\nvalue = 1298.9'),\n",
              " Text(0.6145054945054945, 0.5227272727272727, 'squared_error = 0.0\\nsamples = 1\\nvalue = 1293.1'),\n",
              " Text(0.618021978021978, 0.5227272727272727, 'squared_error = -0.0\\nsamples = 1\\nvalue = 1304.7'),\n",
              " Text(0.6215384615384615, 0.6136363636363636, 'x[10] <= 4.6\\nsquared_error = 46.162\\nsamples = 3\\nvalue = 1335.867'),\n",
              " Text(0.6197802197802198, 0.5681818181818182, 'squared_error = 0.0\\nsamples = 1\\nvalue = 1326.6'),\n",
              " Text(0.6232967032967033, 0.5681818181818182, 'x[9] <= 71.65\\nsquared_error = 4.84\\nsamples = 2\\nvalue = 1340.5'),\n",
              " Text(0.6215384615384615, 0.5227272727272727, 'squared_error = 0.0\\nsamples = 1\\nvalue = 1338.3'),\n",
              " Text(0.6250549450549451, 0.5227272727272727, 'squared_error = -0.0\\nsamples = 1\\nvalue = 1342.7'),\n",
              " Text(0.6912087912087912, 0.75, 'x[14] <= 1066.45\\nsquared_error = 10397.169\\nsamples = 60\\nvalue = 1372.9'),\n",
              " Text(0.6492307692307693, 0.7045454545454546, 'x[4] <= 51.6\\nsquared_error = 5618.571\\nsamples = 16\\nvalue = 1268.244'),\n",
              " Text(0.6356043956043956, 0.6590909090909091, 'x[3] <= 15.1\\nsquared_error = 1443.817\\nsamples = 9\\nvalue = 1215.878'),\n",
              " Text(0.6285714285714286, 0.6136363636363636, 'x[9] <= 37.05\\nsquared_error = 558.496\\nsamples = 3\\nvalue = 1177.233'),\n",
              " Text(0.6268131868131868, 0.5681818181818182, 'squared_error = 0.0\\nsamples = 1\\nvalue = 1143.9'),\n",
              " Text(0.6303296703296704, 0.5681818181818182, 'x[7] <= 306.85\\nsquared_error = 4.41\\nsamples = 2\\nvalue = 1193.9'),\n",
              " Text(0.6285714285714286, 0.5227272727272727, 'squared_error = 0.0\\nsamples = 1\\nvalue = 1196.0'),\n",
              " Text(0.632087912087912, 0.5227272727272727, 'squared_error = -0.0\\nsamples = 1\\nvalue = 1191.8'),\n",
              " Text(0.6426373626373626, 0.6136363636363636, 'x[10] <= 11.15\\nsquared_error = 766.433\\nsamples = 6\\nvalue = 1235.2'),\n",
              " Text(0.6373626373626373, 0.5681818181818182, 'x[15] <= 74.65\\nsquared_error = 72.847\\nsamples = 3\\nvalue = 1256.4'),\n",
              " Text(0.6356043956043956, 0.5227272727272727, 'squared_error = 0.0\\nsamples = 1\\nvalue = 1268.2'),\n",
              " Text(0.6391208791208791, 0.5227272727272727, 'x[13] <= 76.8\\nsquared_error = 4.84\\nsamples = 2\\nvalue = 1250.5'),\n",
              " Text(0.6373626373626373, 0.4772727272727273, 'squared_error = 0.0\\nsamples = 1\\nvalue = 1252.7'),\n",
              " Text(0.6408791208791209, 0.4772727272727273, 'squared_error = -0.0\\nsamples = 1\\nvalue = 1248.3'),\n",
              " Text(0.6479120879120879, 0.5681818181818182, 'x[9] <= 69.3\\nsquared_error = 561.14\\nsamples = 3\\nvalue = 1214.0'),\n",
              " Text(0.6461538461538462, 0.5227272727272727, 'x[15] <= 80.15\\nsquared_error = 0.022\\nsamples = 2\\nvalue = 1197.25'),\n",
              " Text(0.6443956043956044, 0.4772727272727273, 'squared_error = 0.0\\nsamples = 1\\nvalue = 1197.1'),\n",
              " Text(0.6479120879120879, 0.4772727272727273, 'squared_error = 0.0\\nsamples = 1\\nvalue = 1197.4'),\n",
              " Text(0.6496703296703297, 0.5227272727272727, 'squared_error = 0.0\\nsamples = 1\\nvalue = 1247.5'),\n",
              " Text(0.6628571428571428, 0.6590909090909091, 'x[12] <= 41.75\\nsquared_error = 2927.416\\nsamples = 7\\nvalue = 1335.571'),\n",
              " Text(0.6584615384615384, 0.6136363636363636, 'x[6] <= 293.9\\nsquared_error = 657.65\\nsamples = 5\\nvalue = 1305.46'),\n",
              " Text(0.654945054945055, 0.5681818181818182, 'x[2] <= 20.9\\nsquared_error = 241.802\\nsamples = 2\\nvalue = 1277.15'),\n",
              " Text(0.6531868131868132, 0.5227272727272727, 'squared_error = 0.0\\nsamples = 1\\nvalue = 1292.7'),\n",
              " Text(0.6567032967032967, 0.5227272727272727, 'squared_error = -0.0\\nsamples = 1\\nvalue = 1261.6'),\n",
              " Text(0.661978021978022, 0.5681818181818182, 'x[9] <= 102.5\\nsquared_error = 44.376\\nsamples = 3\\nvalue = 1324.333'),\n",
              " Text(0.6602197802197802, 0.5227272727272727, 'squared_error = 0.0\\nsamples = 1\\nvalue = 1315.2'),\n",
              " Text(0.6637362637362637, 0.5227272727272727, 'x[4] <= 80.45\\nsquared_error = 4.0\\nsamples = 2\\nvalue = 1328.9'),\n",
              " Text(0.661978021978022, 0.4772727272727273, 'squared_error = 0.0\\nsamples = 1\\nvalue = 1330.9'),\n",
              " Text(0.6654945054945055, 0.4772727272727273, 'squared_error = 0.0\\nsamples = 1\\nvalue = 1326.9'),\n",
              " Text(0.6672527472527473, 0.6136363636363636, 'x[0] <= 35.4\\nsquared_error = 668.222\\nsamples = 2\\nvalue = 1410.85'),\n",
              " Text(0.6654945054945055, 0.5681818181818182, 'squared_error = 0.0\\nsamples = 1\\nvalue = 1436.7'),\n",
              " Text(0.669010989010989, 0.5681818181818182, 'squared_error = 0.0\\nsamples = 1\\nvalue = 1385.0'),\n",
              " Text(0.7331868131868132, 0.7045454545454546, 'x[2] <= 25.65\\nsquared_error = 6703.636\\nsamples = 44\\nvalue = 1410.957'),\n",
              " Text(0.7053846153846154, 0.6590909090909091, 'x[8] <= 228.55\\nsquared_error = 2548.362\\nsamples = 30\\nvalue = 1368.967'),\n",
              " Text(0.6846153846153846, 0.6136363636363636, 'x[14] <= 1145.7\\nsquared_error = 1594.407\\nsamples = 16\\nvalue = 1337.712'),\n",
              " Text(0.6742857142857143, 0.5681818181818182, 'x[2] <= 24.1\\nsquared_error = 1019.556\\nsamples = 6\\nvalue = 1301.85'),\n",
              " Text(0.6725274725274726, 0.5227272727272727, 'x[0] <= 12.15\\nsquared_error = 355.142\\nsamples = 5\\nvalue = 1289.82'),\n",
              " Text(0.669010989010989, 0.4772727272727273, 'x[1] <= 11.9\\nsquared_error = 12.603\\nsamples = 2\\nvalue = 1268.45'),\n",
              " Text(0.6672527472527473, 0.4318181818181818, 'squared_error = 0.0\\nsamples = 1\\nvalue = 1272.0'),\n",
              " Text(0.6707692307692308, 0.4318181818181818, 'squared_error = 0.0\\nsamples = 1\\nvalue = 1264.9'),\n",
              " Text(0.6760439560439561, 0.4772727272727273, 'x[8] <= 202.7\\nsquared_error = 76.082\\nsamples = 3\\nvalue = 1304.067'),\n",
              " Text(0.6742857142857143, 0.4318181818181818, 'squared_error = 0.0\\nsamples = 1\\nvalue = 1292.7'),\n",
              " Text(0.6778021978021977, 0.4318181818181818, 'x[7] <= 354.2\\nsquared_error = 17.223\\nsamples = 2\\nvalue = 1309.75'),\n",
              " Text(0.6760439560439561, 0.38636363636363635, 'squared_error = 0.0\\nsamples = 1\\nvalue = 1305.6'),\n",
              " Text(0.6795604395604395, 0.38636363636363635, 'squared_error = 0.0\\nsamples = 1\\nvalue = 1313.9'),\n",
              " Text(0.6760439560439561, 0.5227272727272727, 'squared_error = 0.0\\nsamples = 1\\nvalue = 1362.0'),\n",
              " Text(0.694945054945055, 0.5681818181818182, 'x[7] <= 425.0\\nsquared_error = 704.644\\nsamples = 10\\nvalue = 1359.23'),\n",
              " Text(0.6892307692307692, 0.5227272727272727, 'x[2] <= 15.2\\nsquared_error = 338.567\\nsamples = 8\\nvalue = 1348.85'),\n",
              " Text(0.683076923076923, 0.4772727272727273, 'x[15] <= 60.05\\nsquared_error = 79.896\\nsamples = 3\\nvalue = 1328.133'),\n",
              " Text(0.6813186813186813, 0.4318181818181818, 'squared_error = 0.0\\nsamples = 1\\nvalue = 1315.8'),\n",
              " Text(0.6848351648351648, 0.4318181818181818, 'x[9] <= 43.95\\nsquared_error = 5.76\\nsamples = 2\\nvalue = 1334.3'),\n",
              " Text(0.683076923076923, 0.38636363636363635, 'squared_error = 0.0\\nsamples = 1\\nvalue = 1336.7'),\n",
              " Text(0.6865934065934066, 0.38636363636363635, 'squared_error = -0.0\\nsamples = 1\\nvalue = 1331.9'),\n",
              " Text(0.6953846153846154, 0.4772727272727273, 'x[1] <= 16.1\\nsquared_error = 81.758\\nsamples = 5\\nvalue = 1361.28'),\n",
              " Text(0.6918681318681319, 0.4318181818181818, 'x[12] <= 21.6\\nsquared_error = 14.762\\nsamples = 3\\nvalue = 1368.033'),\n",
              " Text(0.6901098901098901, 0.38636363636363635, 'squared_error = 0.0\\nsamples = 1\\nvalue = 1362.6'),\n",
              " Text(0.6936263736263736, 0.38636363636363635, 'x[1] <= 13.55\\nsquared_error = 0.002\\nsamples = 2\\nvalue = 1370.75'),\n",
              " Text(0.6918681318681319, 0.3409090909090909, 'squared_error = 0.0\\nsamples = 1\\nvalue = 1370.7'),\n",
              " Text(0.6953846153846154, 0.3409090909090909, 'squared_error = -0.0\\nsamples = 1\\nvalue = 1370.8'),\n",
              " Text(0.6989010989010989, 0.4318181818181818, 'x[12] <= 44.95\\nsquared_error = 11.223\\nsamples = 2\\nvalue = 1351.15'),\n",
              " Text(0.6971428571428572, 0.38636363636363635, 'squared_error = 0.0\\nsamples = 1\\nvalue = 1347.8'),\n",
              " Text(0.7006593406593407, 0.38636363636363635, 'squared_error = -0.0\\nsamples = 1\\nvalue = 1354.5'),\n",
              " Text(0.7006593406593407, 0.5227272727272727, 'x[2] <= 18.75\\nsquared_error = 14.062\\nsamples = 2\\nvalue = 1400.75'),\n",
              " Text(0.6989010989010989, 0.4772727272727273, 'squared_error = 0.0\\nsamples = 1\\nvalue = 1404.5'),\n",
              " Text(0.7024175824175825, 0.4772727272727273, 'squared_error = 0.0\\nsamples = 1\\nvalue = 1397.0'),\n",
              " Text(0.7261538461538461, 0.6136363636363636, 'x[10] <= 12.55\\nsquared_error = 1246.376\\nsamples = 14\\nvalue = 1404.686'),\n",
              " Text(0.7138461538461538, 0.5681818181818182, 'x[4] <= 48.95\\nsquared_error = 266.394\\nsamples = 8\\nvalue = 1383.788'),\n",
              " Text(0.7076923076923077, 0.5227272727272727, 'x[7] <= 358.0\\nsquared_error = 25.037\\nsamples = 4\\nvalue = 1395.725'),\n",
              " Text(0.7059340659340659, 0.4772727272727273, 'squared_error = 0.0\\nsamples = 1\\nvalue = 1403.2'),\n",
              " Text(0.7094505494505494, 0.4772727272727273, 'x[2] <= 13.85\\nsquared_error = 8.549\\nsamples = 3\\nvalue = 1393.233'),\n",
              " Text(0.7076923076923077, 0.4318181818181818, 'squared_error = 0.0\\nsamples = 1\\nvalue = 1389.1'),\n",
              " Text(0.7112087912087912, 0.4318181818181818, 'x[3] <= 16.2\\nsquared_error = 0.01\\nsamples = 2\\nvalue = 1395.3'),\n",
              " Text(0.7094505494505494, 0.38636363636363635, 'squared_error = 0.0\\nsamples = 1\\nvalue = 1395.4'),\n",
              " Text(0.712967032967033, 0.38636363636363635, 'squared_error = -0.0\\nsamples = 1\\nvalue = 1395.2'),\n",
              " Text(0.72, 0.5227272727272727, 'x[3] <= 25.2\\nsquared_error = 222.742\\nsamples = 4\\nvalue = 1371.85'),\n",
              " Text(0.7164835164835165, 0.4772727272727273, 'x[11] <= 5.8\\nsquared_error = 4.84\\nsamples = 2\\nvalue = 1357.4'),\n",
              " Text(0.7147252747252747, 0.4318181818181818, 'squared_error = 0.0\\nsamples = 1\\nvalue = 1359.6'),\n",
              " Text(0.7182417582417583, 0.4318181818181818, 'squared_error = -0.0\\nsamples = 1\\nvalue = 1355.2'),\n",
              " Text(0.7235164835164836, 0.4772727272727273, 'x[6] <= 327.9\\nsquared_error = 23.04\\nsamples = 2\\nvalue = 1386.3'),\n",
              " Text(0.7217582417582418, 0.4318181818181818, 'squared_error = 0.0\\nsamples = 1\\nvalue = 1381.5'),\n",
              " Text(0.7252747252747253, 0.4318181818181818, 'squared_error = 0.0\\nsamples = 1\\nvalue = 1391.1'),\n",
              " Text(0.7384615384615385, 0.5681818181818182, 'x[1] <= 20.55\\nsquared_error = 1194.286\\nsamples = 6\\nvalue = 1432.55'),\n",
              " Text(0.734065934065934, 0.5227272727272727, 'x[10] <= 13.3\\nsquared_error = 139.457\\nsamples = 4\\nvalue = 1409.125'),\n",
              " Text(0.7305494505494505, 0.4772727272727273, 'x[15] <= 106.25\\nsquared_error = 0.903\\nsamples = 2\\nvalue = 1420.35'),\n",
              " Text(0.7287912087912088, 0.4318181818181818, 'squared_error = 0.0\\nsamples = 1\\nvalue = 1421.3'),\n",
              " Text(0.7323076923076923, 0.4318181818181818, 'squared_error = 0.0\\nsamples = 1\\nvalue = 1419.4'),\n",
              " Text(0.7375824175824176, 0.4772727272727273, 'x[0] <= 9.1\\nsquared_error = 26.01\\nsamples = 2\\nvalue = 1397.9'),\n",
              " Text(0.7358241758241758, 0.4318181818181818, 'squared_error = 0.0\\nsamples = 1\\nvalue = 1403.0'),\n",
              " Text(0.7393406593406593, 0.4318181818181818, 'squared_error = -0.0\\nsamples = 1\\nvalue = 1392.8'),\n",
              " Text(0.7428571428571429, 0.5227272727272727, 'x[3] <= 16.85\\nsquared_error = 11.56\\nsamples = 2\\nvalue = 1479.4'),\n",
              " Text(0.7410989010989011, 0.4772727272727273, 'squared_error = 0.0\\nsamples = 1\\nvalue = 1476.0'),\n",
              " Text(0.7446153846153846, 0.4772727272727273, 'squared_error = -0.0\\nsamples = 1\\nvalue = 1482.8'),\n",
              " Text(0.760989010989011, 0.6590909090909091, 'x[13] <= 202.8\\nsquared_error = 3733.367\\nsamples = 14\\nvalue = 1500.936'),\n",
              " Text(0.7549450549450549, 0.6136363636363636, 'x[6] <= 299.05\\nsquared_error = 1892.695\\nsamples = 12\\nvalue = 1482.283'),\n",
              " Text(0.7481318681318682, 0.5681818181818182, 'x[15] <= 209.85\\nsquared_error = 557.262\\nsamples = 3\\nvalue = 1537.667'),\n",
              " Text(0.7463736263736264, 0.5227272727272727, 'squared_error = 0.0\\nsamples = 1\\nvalue = 1507.4'),\n",
              " Text(0.7498901098901098, 0.5227272727272727, 'x[13] <= 169.6\\nsquared_error = 148.84\\nsamples = 2\\nvalue = 1552.8'),\n",
              " Text(0.7481318681318682, 0.4772727272727273, 'squared_error = 0.0\\nsamples = 1\\nvalue = 1540.6'),\n",
              " Text(0.7516483516483516, 0.4772727272727273, 'squared_error = -0.0\\nsamples = 1\\nvalue = 1565.0'),\n",
              " Text(0.7617582417582418, 0.5681818181818182, 'x[14] <= 1083.45\\nsquared_error = 974.588\\nsamples = 9\\nvalue = 1463.822'),\n",
              " Text(0.7569230769230769, 0.5227272727272727, 'x[8] <= 201.45\\nsquared_error = 22.563\\nsamples = 2\\nvalue = 1423.45'),\n",
              " Text(0.7551648351648351, 0.4772727272727273, 'squared_error = 0.0\\nsamples = 1\\nvalue = 1428.2'),\n",
              " Text(0.7586813186813187, 0.4772727272727273, 'squared_error = 0.0\\nsamples = 1\\nvalue = 1418.7'),\n",
              " Text(0.7665934065934066, 0.5227272727272727, 'x[13] <= 143.65\\nsquared_error = 647.851\\nsamples = 7\\nvalue = 1475.357'),\n",
              " Text(0.7621978021978022, 0.4772727272727273, 'x[11] <= 4.35\\nsquared_error = 84.398\\nsamples = 5\\nvalue = 1460.18'),\n",
              " Text(0.7586813186813187, 0.4318181818181818, 'x[11] <= 3.45\\nsquared_error = 0.81\\nsamples = 2\\nvalue = 1449.2'),\n",
              " Text(0.7569230769230769, 0.38636363636363635, 'squared_error = 0.0\\nsamples = 1\\nvalue = 1450.1'),\n",
              " Text(0.7604395604395604, 0.38636363636363635, 'squared_error = 0.0\\nsamples = 1\\nvalue = 1448.3'),\n",
              " Text(0.7657142857142857, 0.4318181818181818, 'x[3] <= 25.15\\nsquared_error = 6.167\\nsamples = 3\\nvalue = 1467.5'),\n",
              " Text(0.763956043956044, 0.38636363636363635, 'squared_error = 0.0\\nsamples = 1\\nvalue = 1464.0'),\n",
              " Text(0.7674725274725275, 0.38636363636363635, 'x[2] <= 29.1\\nsquared_error = 0.062\\nsamples = 2\\nvalue = 1469.25'),\n",
              " Text(0.7657142857142857, 0.3409090909090909, 'squared_error = 0.0\\nsamples = 1\\nvalue = 1469.5'),\n",
              " Text(0.7692307692307693, 0.3409090909090909, 'squared_error = 0.0\\nsamples = 1\\nvalue = 1469.0'),\n",
              " Text(0.770989010989011, 0.4772727272727273, 'x[14] <= 1127.95\\nsquared_error = 40.96\\nsamples = 2\\nvalue = 1513.3'),\n",
              " Text(0.7692307692307693, 0.4318181818181818, 'squared_error = 0.0\\nsamples = 1\\nvalue = 1506.9'),\n",
              " Text(0.7727472527472528, 0.4318181818181818, 'squared_error = 0.0\\nsamples = 1\\nvalue = 1519.7'),\n",
              " Text(0.7670329670329671, 0.6136363636363636, 'x[7] <= 367.3\\nsquared_error = 165.123\\nsamples = 2\\nvalue = 1612.85'),\n",
              " Text(0.7652747252747253, 0.5681818181818182, 'squared_error = 0.0\\nsamples = 1\\nvalue = 1600.0'),\n",
              " Text(0.7687912087912088, 0.5681818181818182, 'squared_error = 0.0\\nsamples = 1\\nvalue = 1625.7'),\n",
              " Text(0.7894505494505495, 0.7954545454545454, 'x[11] <= 26.55\\nsquared_error = 41777.981\\nsamples = 17\\nvalue = 1653.1'),\n",
              " Text(0.7837362637362637, 0.75, 'x[3] <= 19.6\\nsquared_error = 7521.179\\nsamples = 14\\nvalue = 1566.779'),\n",
              " Text(0.7775824175824175, 0.7045454545454546, 'x[14] <= 1325.8\\nsquared_error = 3074.681\\nsamples = 6\\nvalue = 1487.983'),\n",
              " Text(0.7723076923076924, 0.6590909090909091, 'x[4] <= 12.55\\nsquared_error = 1130.96\\nsamples = 3\\nvalue = 1438.0'),\n",
              " Text(0.7705494505494506, 0.6136363636363636, 'squared_error = 0.0\\nsamples = 1\\nvalue = 1392.2'),\n",
              " Text(0.774065934065934, 0.6136363636363636, 'x[15] <= 83.3\\nsquared_error = 123.21\\nsamples = 2\\nvalue = 1460.9'),\n",
              " Text(0.7723076923076924, 0.5681818181818182, 'squared_error = 0.0\\nsamples = 1\\nvalue = 1472.0'),\n",
              " Text(0.7758241758241758, 0.5681818181818182, 'squared_error = -0.0\\nsamples = 1\\nvalue = 1449.8'),\n",
              " Text(0.7828571428571428, 0.6590909090909091, 'x[0] <= 15.85\\nsquared_error = 21.736\\nsamples = 3\\nvalue = 1537.967'),\n",
              " Text(0.7810989010989011, 0.6136363636363636, 'x[1] <= 9.95\\nsquared_error = 1.563\\nsamples = 2\\nvalue = 1534.75'),\n",
              " Text(0.7793406593406593, 0.5681818181818182, 'squared_error = 0.0\\nsamples = 1\\nvalue = 1536.0'),\n",
              " Text(0.7828571428571428, 0.5681818181818182, 'squared_error = 0.0\\nsamples = 1\\nvalue = 1533.5'),\n",
              " Text(0.7846153846153846, 0.6136363636363636, 'squared_error = 0.0\\nsamples = 1\\nvalue = 1544.4'),\n",
              " Text(0.7898901098901099, 0.7045454545454546, 'x[3] <= 22.4\\nsquared_error = 2707.147\\nsamples = 8\\nvalue = 1625.875'),\n",
              " Text(0.7881318681318681, 0.6590909090909091, 'squared_error = 0.0\\nsamples = 1\\nvalue = 1743.7'),\n",
              " Text(0.7916483516483517, 0.6590909090909091, 'x[13] <= 110.2\\nsquared_error = 827.314\\nsamples = 7\\nvalue = 1609.043'),\n",
              " Text(0.7881318681318681, 0.6136363636363636, 'x[12] <= 22.65\\nsquared_error = 0.04\\nsamples = 2\\nvalue = 1572.9'),\n",
              " Text(0.7863736263736264, 0.5681818181818182, 'squared_error = 0.0\\nsamples = 1\\nvalue = 1572.7'),\n",
              " Text(0.7898901098901099, 0.5681818181818182, 'squared_error = 0.0\\nsamples = 1\\nvalue = 1573.1'),\n",
              " Text(0.7951648351648352, 0.6136363636363636, 'x[7] <= 421.3\\nsquared_error = 426.692\\nsamples = 5\\nvalue = 1623.5'),\n",
              " Text(0.7934065934065934, 0.5681818181818182, 'x[7] <= 338.9\\nsquared_error = 105.553\\nsamples = 4\\nvalue = 1614.25'),\n",
              " Text(0.7916483516483517, 0.5227272727272727, 'squared_error = 0.0\\nsamples = 1\\nvalue = 1598.2'),\n",
              " Text(0.7951648351648352, 0.5227272727272727, 'x[2] <= 15.75\\nsquared_error = 26.247\\nsamples = 3\\nvalue = 1619.6'),\n",
              " Text(0.7934065934065934, 0.4772727272727273, 'squared_error = 0.0\\nsamples = 1\\nvalue = 1612.4'),\n",
              " Text(0.796923076923077, 0.4772727272727273, 'x[10] <= 20.05\\nsquared_error = 0.49\\nsamples = 2\\nvalue = 1623.2'),\n",
              " Text(0.7951648351648352, 0.4318181818181818, 'squared_error = 0.0\\nsamples = 1\\nvalue = 1623.9'),\n",
              " Text(0.7986813186813186, 0.4318181818181818, 'squared_error = 0.0\\nsamples = 1\\nvalue = 1622.5'),\n",
              " Text(0.796923076923077, 0.5681818181818182, 'squared_error = 0.0\\nsamples = 1\\nvalue = 1660.5'),\n",
              " Text(0.7951648351648352, 0.75, 'x[10] <= 14.75\\nsquared_error = 4595.216\\nsamples = 3\\nvalue = 2055.933'),\n",
              " Text(0.7934065934065934, 0.7045454545454546, 'squared_error = 0.0\\nsamples = 1\\nvalue = 2150.9'),\n",
              " Text(0.796923076923077, 0.7045454545454546, 'x[13] <= 197.4\\nsquared_error = 128.823\\nsamples = 2\\nvalue = 2008.45'),\n",
              " Text(0.7951648351648352, 0.6590909090909091, 'squared_error = 0.0\\nsamples = 1\\nvalue = 2019.8'),\n",
              " Text(0.7986813186813186, 0.6590909090909091, 'squared_error = 0.0\\nsamples = 1\\nvalue = 1997.1'),\n",
              " Text(0.8478571428571429, 0.8409090909090909, 'x[2] <= 62.15\\nsquared_error = 37534.178\\nsamples = 39\\nvalue = 1855.99'),\n",
              " Text(0.8341758241758241, 0.7954545454545454, 'x[7] <= 410.0\\nsquared_error = 28019.178\\nsamples = 28\\nvalue = 1783.261'),\n",
              " Text(0.8221978021978023, 0.75, 'x[3] <= 83.2\\nsquared_error = 14511.518\\nsamples = 22\\nvalue = 1718.582'),\n",
              " Text(0.8114285714285714, 0.7045454545454546, 'x[14] <= 1370.75\\nsquared_error = 6648.268\\nsamples = 13\\nvalue = 1646.377'),\n",
              " Text(0.8065934065934066, 0.6590909090909091, 'x[14] <= 1174.95\\nsquared_error = 3515.053\\nsamples = 10\\nvalue = 1615.45'),\n",
              " Text(0.8021978021978022, 0.6136363636363636, 'x[2] <= 21.05\\nsquared_error = 511.307\\nsamples = 4\\nvalue = 1562.525'),\n",
              " Text(0.8004395604395604, 0.5681818181818182, 'squared_error = 0.0\\nsamples = 1\\nvalue = 1600.0'),\n",
              " Text(0.8039560439560439, 0.5681818181818182, 'x[14] <= 1163.8\\nsquared_error = 57.576\\nsamples = 3\\nvalue = 1550.033'),\n",
              " Text(0.8021978021978022, 0.5227272727272727, 'x[0] <= 12.55\\nsquared_error = 14.822\\nsamples = 2\\nvalue = 1545.15'),\n",
              " Text(0.8004395604395604, 0.4772727272727273, 'squared_error = 0.0\\nsamples = 1\\nvalue = 1541.3'),\n",
              " Text(0.8039560439560439, 0.4772727272727273, 'squared_error = -0.0\\nsamples = 1\\nvalue = 1549.0'),\n",
              " Text(0.8057142857142857, 0.5227272727272727, 'squared_error = 0.0\\nsamples = 1\\nvalue = 1559.8'),\n",
              " Text(0.810989010989011, 0.6136363636363636, 'x[1] <= 7.05\\nsquared_error = 2405.266\\nsamples = 6\\nvalue = 1650.733'),\n",
              " Text(0.8092307692307692, 0.5681818181818182, 'squared_error = 0.0\\nsamples = 1\\nvalue = 1553.7'),\n",
              " Text(0.8127472527472528, 0.5681818181818182, 'x[12] <= 37.85\\nsquared_error = 626.606\\nsamples = 5\\nvalue = 1670.14'),\n",
              " Text(0.8092307692307692, 0.5227272727272727, 'x[12] <= 28.15\\nsquared_error = 254.469\\nsamples = 3\\nvalue = 1654.167'),\n",
              " Text(0.8074725274725275, 0.4772727272727273, 'squared_error = 0.0\\nsamples = 1\\nvalue = 1632.2'),\n",
              " Text(0.810989010989011, 0.4772727272727273, 'x[1] <= 22.0\\nsquared_error = 19.802\\nsamples = 2\\nvalue = 1665.15'),\n",
              " Text(0.8092307692307692, 0.4318181818181818, 'squared_error = 0.0\\nsamples = 1\\nvalue = 1669.6'),\n",
              " Text(0.8127472527472528, 0.4318181818181818, 'squared_error = 0.0\\nsamples = 1\\nvalue = 1660.7'),\n",
              " Text(0.8162637362637363, 0.5227272727272727, 'x[13] <= 209.25\\nsquared_error = 228.01\\nsamples = 2\\nvalue = 1694.1'),\n",
              " Text(0.8145054945054945, 0.4772727272727273, 'squared_error = 0.0\\nsamples = 1\\nvalue = 1709.2'),\n",
              " Text(0.8180219780219781, 0.4772727272727273, 'squared_error = 0.0\\nsamples = 1\\nvalue = 1679.0'),\n",
              " Text(0.8162637362637363, 0.6590909090909091, 'x[1] <= 1.2\\nsquared_error = 3276.576\\nsamples = 3\\nvalue = 1749.467'),\n",
              " Text(0.8145054945054945, 0.6136363636363636, 'squared_error = 0.0\\nsamples = 1\\nvalue = 1827.9'),\n",
              " Text(0.8180219780219781, 0.6136363636363636, 'x[8] <= 347.3\\nsquared_error = 301.023\\nsamples = 2\\nvalue = 1710.25'),\n",
              " Text(0.8162637362637363, 0.5681818181818182, 'squared_error = 0.0\\nsamples = 1\\nvalue = 1692.9'),\n",
              " Text(0.8197802197802198, 0.5681818181818182, 'squared_error = 0.0\\nsamples = 1\\nvalue = 1727.6'),\n",
              " Text(0.832967032967033, 0.7045454545454546, 'x[11] <= 11.7\\nsquared_error = 7461.22\\nsamples = 9\\nvalue = 1822.878'),\n",
              " Text(0.8285714285714286, 0.6590909090909091, 'x[11] <= 7.85\\nsquared_error = 3381.969\\nsamples = 7\\nvalue = 1786.4'),\n",
              " Text(0.825054945054945, 0.6136363636363636, 'x[10] <= 23.45\\nsquared_error = 31.19\\nsamples = 5\\nvalue = 1820.24'),\n",
              " Text(0.8232967032967033, 0.5681818181818182, 'squared_error = 0.0\\nsamples = 2\\nvalue = 1813.4'),\n",
              " Text(0.8268131868131868, 0.5681818181818182, 'squared_error = -0.0\\nsamples = 3\\nvalue = 1824.8'),\n",
              " Text(0.8320879120879121, 0.6136363636363636, 'x[8] <= 220.0\\nsquared_error = 1738.89\\nsamples = 2\\nvalue = 1701.8'),\n",
              " Text(0.8303296703296703, 0.5681818181818182, 'squared_error = 0.0\\nsamples = 1\\nvalue = 1660.1'),\n",
              " Text(0.8338461538461538, 0.5681818181818182, 'squared_error = 0.0\\nsamples = 1\\nvalue = 1743.5'),\n",
              " Text(0.8373626373626374, 0.6590909090909091, 'x[10] <= 38.95\\nsquared_error = 781.202\\nsamples = 2\\nvalue = 1950.55'),\n",
              " Text(0.8356043956043956, 0.6136363636363636, 'squared_error = 0.0\\nsamples = 1\\nvalue = 1978.5'),\n",
              " Text(0.8391208791208791, 0.6136363636363636, 'squared_error = 0.0\\nsamples = 1\\nvalue = 1922.6'),\n",
              " Text(0.8461538461538461, 0.75, 'x[15] <= 58.6\\nsquared_error = 5965.335\\nsamples = 6\\nvalue = 2020.417'),\n",
              " Text(0.8443956043956043, 0.7045454545454546, 'squared_error = 0.0\\nsamples = 1\\nvalue = 1866.4'),\n",
              " Text(0.8479120879120879, 0.7045454545454546, 'x[1] <= 0.9\\nsquared_error = 1465.33\\nsamples = 5\\nvalue = 2051.22'),\n",
              " Text(0.8443956043956043, 0.6590909090909091, 'x[12] <= 1.3\\nsquared_error = 208.803\\nsamples = 2\\nvalue = 2007.25'),\n",
              " Text(0.8426373626373627, 0.6136363636363636, 'squared_error = 0.0\\nsamples = 1\\nvalue = 2021.7'),\n",
              " Text(0.8461538461538461, 0.6136363636363636, 'squared_error = 0.0\\nsamples = 1\\nvalue = 1992.8'),\n",
              " Text(0.8514285714285714, 0.6590909090909091, 'x[7] <= 526.05\\nsquared_error = 154.836\\nsamples = 3\\nvalue = 2080.533'),\n",
              " Text(0.8496703296703296, 0.6136363636363636, 'x[10] <= 34.55\\nsquared_error = 1.69\\nsamples = 2\\nvalue = 2089.3'),\n",
              " Text(0.8479120879120879, 0.5681818181818182, 'squared_error = 0.0\\nsamples = 1\\nvalue = 2090.6'),\n",
              " Text(0.8514285714285714, 0.5681818181818182, 'squared_error = -0.0\\nsamples = 1\\nvalue = 2088.0'),\n",
              " Text(0.8531868131868132, 0.6136363636363636, 'squared_error = 0.0\\nsamples = 1\\nvalue = 2063.0'),\n",
              " Text(0.8615384615384616, 0.7954545454545454, 'x[11] <= 10.5\\nsquared_error = 14017.429\\nsamples = 11\\nvalue = 2041.118'),\n",
              " Text(0.8567032967032967, 0.75, 'x[8] <= 193.0\\nsquared_error = 190.44\\nsamples = 2\\nvalue = 1825.4'),\n",
              " Text(0.8549450549450549, 0.7045454545454546, 'squared_error = 0.0\\nsamples = 1\\nvalue = 1839.2'),\n",
              " Text(0.8584615384615385, 0.7045454545454546, 'squared_error = -0.0\\nsamples = 1\\nvalue = 1811.6'),\n",
              " Text(0.8663736263736264, 0.75, 'x[8] <= 279.7\\nsquared_error = 4451.138\\nsamples = 9\\nvalue = 2089.056'),\n",
              " Text(0.861978021978022, 0.7045454545454546, 'x[14] <= 1272.7\\nsquared_error = 1395.928\\nsamples = 7\\nvalue = 2058.771'),\n",
              " Text(0.8584615384615385, 0.6590909090909091, 'x[0] <= 32.85\\nsquared_error = 712.89\\nsamples = 2\\nvalue = 2004.2'),\n",
              " Text(0.8567032967032967, 0.6136363636363636, 'squared_error = 0.0\\nsamples = 1\\nvalue = 1977.5'),\n",
              " Text(0.8602197802197802, 0.6136363636363636, 'squared_error = 0.0\\nsamples = 1\\nvalue = 2030.9'),\n",
              " Text(0.8654945054945055, 0.6590909090909091, 'x[12] <= 54.7\\nsquared_error = 1.44\\nsamples = 5\\nvalue = 2080.6'),\n",
              " Text(0.8637362637362638, 0.6136363636363636, 'squared_error = 0.0\\nsamples = 4\\nvalue = 2080.0'),\n",
              " Text(0.8672527472527473, 0.6136363636363636, 'squared_error = 0.0\\nsamples = 1\\nvalue = 2083.0'),\n",
              " Text(0.8707692307692307, 0.7045454545454546, 'x[14] <= 1304.5\\nsquared_error = 699.603\\nsamples = 2\\nvalue = 2195.05'),\n",
              " Text(0.869010989010989, 0.6590909090909091, 'squared_error = 0.0\\nsamples = 1\\nvalue = 2221.5'),\n",
              " Text(0.8725274725274725, 0.6590909090909091, 'squared_error = -0.0\\nsamples = 1\\nvalue = 2168.6'),\n",
              " Text(0.9529395604395604, 0.9318181818181818, 'x[14] <= 4190.75\\nsquared_error = 676943.311\\nsamples = 71\\nvalue = 3034.03'),\n",
              " Text(0.9348901098901099, 0.8863636363636364, 'x[5] <= 612.3\\nsquared_error = 288039.147\\nsamples = 69\\nvalue = 2927.836'),\n",
              " Text(0.904065934065934, 0.8409090909090909, 'x[0] <= 27.15\\nsquared_error = 102197.164\\nsamples = 42\\nvalue = 2598.174'),\n",
              " Text(0.8898901098901099, 0.7954545454545454, 'x[6] <= 370.85\\nsquared_error = 55819.434\\nsamples = 30\\nvalue = 2473.983'),\n",
              " Text(0.8881318681318682, 0.75, 'squared_error = 0.0\\nsamples = 2\\nvalue = 1957.8'),\n",
              " Text(0.8916483516483517, 0.75, 'x[9] <= 178.75\\nsquared_error = 39415.32\\nsamples = 28\\nvalue = 2510.854'),\n",
              " Text(0.8808791208791209, 0.7045454545454546, 'x[4] <= 386.15\\nsquared_error = 21501.903\\nsamples = 19\\nvalue = 2434.784'),\n",
              " Text(0.876043956043956, 0.6590909090909091, 'x[8] <= 197.7\\nsquared_error = 15541.495\\nsamples = 16\\nvalue = 2396.088'),\n",
              " Text(0.8742857142857143, 0.6136363636363636, 'squared_error = 0.0\\nsamples = 1\\nvalue = 2077.5'),\n",
              " Text(0.8778021978021978, 0.6136363636363636, 'x[5] <= 535.05\\nsquared_error = 9359.959\\nsamples = 15\\nvalue = 2417.327'),\n",
              " Text(0.8734065934065934, 0.5681818181818182, 'x[14] <= 1589.2\\nsquared_error = 6130.427\\nsamples = 12\\nvalue = 2449.025'),\n",
              " Text(0.8698901098901098, 0.5227272727272727, 'x[13] <= 562.1\\nsquared_error = 642.622\\nsamples = 2\\nvalue = 2312.05'),\n",
              " Text(0.8681318681318682, 0.4772727272727273, 'squared_error = 0.0\\nsamples = 1\\nvalue = 2337.4'),\n",
              " Text(0.8716483516483516, 0.4772727272727273, 'squared_error = -0.0\\nsamples = 1\\nvalue = 2286.7'),\n",
              " Text(0.8769230769230769, 0.5227272727272727, 'x[9] <= 61.55\\nsquared_error = 2725.072\\nsamples = 10\\nvalue = 2476.42'),\n",
              " Text(0.8751648351648351, 0.4772727272727273, 'squared_error = 0.0\\nsamples = 1\\nvalue = 2374.1'),\n",
              " Text(0.8786813186813187, 0.4772727272727273, 'x[0] <= 6.2\\nsquared_error = 1735.341\\nsamples = 9\\nvalue = 2487.789'),\n",
              " Text(0.8751648351648351, 0.4318181818181818, 'x[10] <= 24.1\\nsquared_error = 37.822\\nsamples = 2\\nvalue = 2548.25'),\n",
              " Text(0.8734065934065934, 0.38636363636363635, 'squared_error = 0.0\\nsamples = 1\\nvalue = 2542.1'),\n",
              " Text(0.8769230769230769, 0.38636363636363635, 'squared_error = 0.0\\nsamples = 1\\nvalue = 2554.4'),\n",
              " Text(0.8821978021978022, 0.4318181818181818, 'x[13] <= 517.55\\nsquared_error = 877.493\\nsamples = 7\\nvalue = 2470.514'),\n",
              " Text(0.8804395604395604, 0.38636363636363635, 'squared_error = 0.0\\nsamples = 1\\nvalue = 2409.8'),\n",
              " Text(0.883956043956044, 0.38636363636363635, 'x[4] <= 330.3\\nsquared_error = 306.976\\nsamples = 6\\nvalue = 2480.633'),\n",
              " Text(0.8804395604395604, 0.3409090909090909, 'x[2] <= 117.4\\nsquared_error = 71.069\\nsamples = 3\\nvalue = 2496.267'),\n",
              " Text(0.8786813186813187, 0.29545454545454547, 'x[2] <= 100.15\\nsquared_error = 16.402\\nsamples = 2\\nvalue = 2501.75'),\n",
              " Text(0.8769230769230769, 0.25, 'squared_error = 0.0\\nsamples = 1\\nvalue = 2497.7'),\n",
              " Text(0.8804395604395604, 0.25, 'squared_error = 0.0\\nsamples = 1\\nvalue = 2505.8'),\n",
              " Text(0.8821978021978022, 0.29545454545454547, 'squared_error = -0.0\\nsamples = 1\\nvalue = 2485.3'),\n",
              " Text(0.8874725274725275, 0.3409090909090909, 'x[12] <= 28.1\\nsquared_error = 54.08\\nsamples = 3\\nvalue = 2465.0'),\n",
              " Text(0.8857142857142857, 0.29545454545454547, 'squared_error = 0.0\\nsamples = 2\\nvalue = 2459.8'),\n",
              " Text(0.8892307692307693, 0.29545454545454547, 'squared_error = -0.0\\nsamples = 1\\nvalue = 2475.4'),\n",
              " Text(0.8821978021978022, 0.5681818181818182, 'x[12] <= 17.75\\nsquared_error = 2182.402\\nsamples = 3\\nvalue = 2290.533'),\n",
              " Text(0.8804395604395604, 0.5227272727272727, 'squared_error = 0.0\\nsamples = 2\\nvalue = 2257.5'),\n",
              " Text(0.883956043956044, 0.5227272727272727, 'squared_error = -0.0\\nsamples = 1\\nvalue = 2356.6'),\n",
              " Text(0.8857142857142857, 0.6590909090909091, 'x[7] <= 370.75\\nsquared_error = 2710.709\\nsamples = 3\\nvalue = 2641.167'),\n",
              " Text(0.883956043956044, 0.6136363636363636, 'squared_error = 0.0\\nsamples = 1\\nvalue = 2575.3'),\n",
              " Text(0.8874725274725275, 0.6136363636363636, 'x[12] <= 35.65\\nsquared_error = 812.25\\nsamples = 2\\nvalue = 2674.1'),\n",
              " Text(0.8857142857142857, 0.5681818181818182, 'squared_error = 0.0\\nsamples = 1\\nvalue = 2702.6'),\n",
              " Text(0.8892307692307693, 0.5681818181818182, 'squared_error = 0.0\\nsamples = 1\\nvalue = 2645.6'),\n",
              " Text(0.9024175824175824, 0.7045454545454546, 'x[14] <= 1725.8\\nsquared_error = 39227.058\\nsamples = 9\\nvalue = 2671.444'),\n",
              " Text(0.8962637362637362, 0.6590909090909091, 'x[5] <= 461.0\\nsquared_error = 18271.632\\nsamples = 4\\nvalue = 2499.825'),\n",
              " Text(0.8945054945054945, 0.6136363636363636, 'x[15] <= 294.65\\nsquared_error = 4794.829\\nsamples = 3\\nvalue = 2569.767'),\n",
              " Text(0.8927472527472528, 0.5681818181818182, 'squared_error = 0.0\\nsamples = 1\\nvalue = 2660.0'),\n",
              " Text(0.8962637362637362, 0.5681818181818182, 'x[11] <= 31.85\\nsquared_error = 1085.703\\nsamples = 2\\nvalue = 2524.65'),\n",
              " Text(0.8945054945054945, 0.5227272727272727, 'squared_error = 0.0\\nsamples = 1\\nvalue = 2557.6'),\n",
              " Text(0.898021978021978, 0.5227272727272727, 'squared_error = 0.0\\nsamples = 1\\nvalue = 2491.7'),\n",
              " Text(0.898021978021978, 0.6136363636363636, 'squared_error = 0.0\\nsamples = 1\\nvalue = 2290.0'),\n",
              " Text(0.9085714285714286, 0.6590909090909091, 'x[2] <= 138.1\\nsquared_error = 13578.742\\nsamples = 5\\nvalue = 2808.74'),\n",
              " Text(0.9068131868131868, 0.6136363636363636, 'x[3] <= 111.9\\nsquared_error = 5637.487\\nsamples = 4\\nvalue = 2761.125'),\n",
              " Text(0.9032967032967033, 0.5681818181818182, 'x[14] <= 2094.5\\nsquared_error = 2204.303\\nsamples = 2\\nvalue = 2694.45'),\n",
              " Text(0.9015384615384615, 0.5227272727272727, 'squared_error = 0.0\\nsamples = 1\\nvalue = 2647.5'),\n",
              " Text(0.9050549450549451, 0.5227272727272727, 'squared_error = 0.0\\nsamples = 1\\nvalue = 2741.4'),\n",
              " Text(0.9103296703296704, 0.5681818181818182, 'x[8] <= 333.85\\nsquared_error = 179.56\\nsamples = 2\\nvalue = 2827.8'),\n",
              " Text(0.9085714285714286, 0.5227272727272727, 'squared_error = 0.0\\nsamples = 1\\nvalue = 2841.2'),\n",
              " Text(0.9120879120879121, 0.5227272727272727, 'squared_error = -0.0\\nsamples = 1\\nvalue = 2814.4'),\n",
              " Text(0.9103296703296704, 0.6136363636363636, 'squared_error = -0.0\\nsamples = 1\\nvalue = 2999.2'),\n",
              " Text(0.9182417582417582, 0.7954545454545454, 'x[4] <= 299.05\\nsquared_error = 83187.838\\nsamples = 12\\nvalue = 2908.65'),\n",
              " Text(0.9120879120879121, 0.75, 'x[9] <= 136.8\\nsquared_error = 48699.132\\nsamples = 5\\nvalue = 2677.9'),\n",
              " Text(0.9103296703296704, 0.7045454545454546, 'squared_error = 0.0\\nsamples = 1\\nvalue = 3118.5'),\n",
              " Text(0.9138461538461539, 0.7045454545454546, 'x[2] <= 182.6\\nsquared_error = 208.803\\nsamples = 4\\nvalue = 2567.75'),\n",
              " Text(0.9120879120879121, 0.6590909090909091, 'squared_error = 0.0\\nsamples = 2\\nvalue = 2582.2'),\n",
              " Text(0.9156043956043955, 0.6590909090909091, 'squared_error = 0.0\\nsamples = 2\\nvalue = 2553.3'),\n",
              " Text(0.9243956043956044, 0.75, 'x[2] <= 283.7\\nsquared_error = 42623.979\\nsamples = 7\\nvalue = 3073.471'),\n",
              " Text(0.9226373626373626, 0.7045454545454546, 'x[0] <= 37.45\\nsquared_error = 6696.829\\nsamples = 6\\nvalue = 2995.067'),\n",
              " Text(0.9191208791208791, 0.6590909090909091, 'x[11] <= 60.2\\nsquared_error = 729.0\\nsamples = 2\\nvalue = 2886.3'),\n",
              " Text(0.9173626373626373, 0.6136363636363636, 'squared_error = 0.0\\nsamples = 1\\nvalue = 2859.3'),\n",
              " Text(0.9208791208791208, 0.6136363636363636, 'squared_error = 0.0\\nsamples = 1\\nvalue = 2913.3'),\n",
              " Text(0.9261538461538461, 0.6590909090909091, 'x[7] <= 428.0\\nsquared_error = 808.103\\nsamples = 4\\nvalue = 3049.45'),\n",
              " Text(0.9243956043956044, 0.6136363636363636, 'x[3] <= 224.5\\nsquared_error = 175.469\\nsamples = 3\\nvalue = 3034.433'),\n",
              " Text(0.9226373626373626, 0.5681818181818182, 'squared_error = 0.0\\nsamples = 1\\nvalue = 3015.7'),\n",
              " Text(0.9261538461538461, 0.5681818181818182, 'squared_error = 0.0\\nsamples = 2\\nvalue = 3043.8'),\n",
              " Text(0.9279120879120879, 0.6136363636363636, 'squared_error = 0.0\\nsamples = 1\\nvalue = 3094.5'),\n",
              " Text(0.9261538461538461, 0.7045454545454546, 'squared_error = -0.0\\nsamples = 1\\nvalue = 3543.9'),\n",
              " Text(0.9657142857142857, 0.8409090909090909, 'x[8] <= 309.5\\nsquared_error = 145100.817\\nsamples = 27\\nvalue = 3440.644'),\n",
              " Text(0.9485714285714286, 0.7954545454545454, 'x[5] <= 881.1\\nsquared_error = 49169.502\\nsamples = 12\\nvalue = 3194.433'),\n",
              " Text(0.9410989010989012, 0.75, 'x[6] <= 1054.4\\nsquared_error = 21502.932\\nsamples = 8\\nvalue = 3073.362'),\n",
              " Text(0.9367032967032967, 0.7045454545454546, 'x[5] <= 678.65\\nsquared_error = 8193.246\\nsamples = 6\\nvalue = 3002.45'),\n",
              " Text(0.9331868131868132, 0.6590909090909091, 'x[12] <= 21.75\\nsquared_error = 2275.29\\nsamples = 2\\nvalue = 2882.8'),\n",
              " Text(0.9314285714285714, 0.6136363636363636, 'squared_error = 0.0\\nsamples = 1\\nvalue = 2835.1'),\n",
              " Text(0.934945054945055, 0.6136363636363636, 'squared_error = -0.0\\nsamples = 1\\nvalue = 2930.5'),\n",
              " Text(0.9402197802197803, 0.6590909090909091, 'x[15] <= 479.35\\nsquared_error = 415.132\\nsamples = 4\\nvalue = 3062.275'),\n",
              " Text(0.9384615384615385, 0.6136363636363636, 'x[14] <= 2763.9\\nsquared_error = 87.669\\nsamples = 3\\nvalue = 3073.067'),\n",
              " Text(0.9367032967032967, 0.5681818181818182, 'x[4] <= 201.55\\nsquared_error = 13.69\\nsamples = 2\\nvalue = 3066.8'),\n",
              " Text(0.934945054945055, 0.5227272727272727, 'squared_error = 0.0\\nsamples = 1\\nvalue = 3070.5'),\n",
              " Text(0.9384615384615385, 0.5227272727272727, 'squared_error = -0.0\\nsamples = 1\\nvalue = 3063.1'),\n",
              " Text(0.9402197802197803, 0.5681818181818182, 'squared_error = -0.0\\nsamples = 1\\nvalue = 3085.6'),\n",
              " Text(0.9419780219780219, 0.6136363636363636, 'squared_error = 0.0\\nsamples = 1\\nvalue = 3029.9'),\n",
              " Text(0.9454945054945055, 0.7045454545454546, 'x[5] <= 775.25\\nsquared_error = 1089.0\\nsamples = 2\\nvalue = 3286.1'),\n",
              " Text(0.9437362637362637, 0.6590909090909091, 'squared_error = 0.0\\nsamples = 1\\nvalue = 3253.1'),\n",
              " Text(0.9472527472527472, 0.6590909090909091, 'squared_error = 0.0\\nsamples = 1\\nvalue = 3319.1'),\n",
              " Text(0.9560439560439561, 0.75, 'x[5] <= 929.65\\nsquared_error = 16553.762\\nsamples = 4\\nvalue = 3436.575'),\n",
              " Text(0.9525274725274725, 0.7045454545454546, 'x[11] <= 20.0\\nsquared_error = 3300.502\\nsamples = 2\\nvalue = 3326.65'),\n",
              " Text(0.9507692307692308, 0.6590909090909091, 'squared_error = 0.0\\nsamples = 1\\nvalue = 3269.2'),\n",
              " Text(0.9542857142857143, 0.6590909090909091, 'squared_error = 0.0\\nsamples = 1\\nvalue = 3384.1'),\n",
              " Text(0.9595604395604396, 0.7045454545454546, 'x[13] <= 188.45\\nsquared_error = 5640.01\\nsamples = 2\\nvalue = 3546.5'),\n",
              " Text(0.9578021978021978, 0.6590909090909091, 'squared_error = 0.0\\nsamples = 1\\nvalue = 3471.4'),\n",
              " Text(0.9613186813186814, 0.6590909090909091, 'squared_error = 0.0\\nsamples = 1\\nvalue = 3621.6'),\n",
              " Text(0.9828571428571429, 0.7954545454545454, 'x[5] <= 716.3\\nsquared_error = 134553.196\\nsamples = 15\\nvalue = 3637.613'),\n",
              " Text(0.9745054945054945, 0.75, 'x[10] <= 26.25\\nsquared_error = 23095.284\\nsamples = 10\\nvalue = 3413.34'),\n",
              " Text(0.9683516483516483, 0.7045454545454546, 'x[8] <= 466.5\\nsquared_error = 5720.589\\nsamples = 6\\nvalue = 3311.45'),\n",
              " Text(0.9648351648351648, 0.6590909090909091, 'x[7] <= 507.05\\nsquared_error = 619.415\\nsamples = 4\\nvalue = 3261.7'),\n",
              " Text(0.963076923076923, 0.6136363636363636, 'squared_error = 0.0\\nsamples = 1\\nvalue = 3218.7'),\n",
              " Text(0.9665934065934066, 0.6136363636363636, 'x[3] <= 88.75\\nsquared_error = 4.109\\nsamples = 3\\nvalue = 3276.033'),\n",
              " Text(0.9648351648351648, 0.5681818181818182, 'squared_error = 0.0\\nsamples = 1\\nvalue = 3278.9'),\n",
              " Text(0.9683516483516483, 0.5681818181818182, 'squared_error = -0.0\\nsamples = 2\\nvalue = 3274.6'),\n",
              " Text(0.9718681318681318, 0.6590909090909091, 'x[11] <= 9.8\\nsquared_error = 1072.562\\nsamples = 2\\nvalue = 3410.95'),\n",
              " Text(0.9701098901098901, 0.6136363636363636, 'squared_error = 0.0\\nsamples = 1\\nvalue = 3443.7'),\n",
              " Text(0.9736263736263736, 0.6136363636363636, 'squared_error = 0.0\\nsamples = 1\\nvalue = 3378.2'),\n",
              " Text(0.9806593406593407, 0.7045454545454546, 'x[5] <= 658.4\\nsquared_error = 10226.432\\nsamples = 4\\nvalue = 3566.175'),\n",
              " Text(0.9789010989010989, 0.6590909090909091, 'x[5] <= 629.95\\nsquared_error = 1273.509\\nsamples = 3\\nvalue = 3621.767'),\n",
              " Text(0.9771428571428571, 0.6136363636363636, 'squared_error = 0.0\\nsamples = 1\\nvalue = 3571.5'),\n",
              " Text(0.9806593406593407, 0.6136363636363636, 'x[4] <= 478.15\\nsquared_error = 15.21\\nsamples = 2\\nvalue = 3646.9'),\n",
              " Text(0.9789010989010989, 0.5681818181818182, 'squared_error = 0.0\\nsamples = 1\\nvalue = 3643.0'),\n",
              " Text(0.9824175824175824, 0.5681818181818182, 'squared_error = 0.0\\nsamples = 1\\nvalue = 3650.8'),\n",
              " Text(0.9824175824175824, 0.6590909090909091, 'squared_error = 0.0\\nsamples = 1\\nvalue = 3399.4'),\n",
              " Text(0.9912087912087912, 0.75, 'x[11] <= 17.2\\nsquared_error = 55677.85\\nsamples = 5\\nvalue = 4086.16'),\n",
              " Text(0.9876923076923076, 0.7045454545454546, 'x[5] <= 899.7\\nsquared_error = 5155.24\\nsamples = 2\\nvalue = 3844.0'),\n",
              " Text(0.985934065934066, 0.6590909090909091, 'squared_error = 0.0\\nsamples = 1\\nvalue = 3772.2'),\n",
              " Text(0.9894505494505494, 0.6590909090909091, 'squared_error = -0.0\\nsamples = 1\\nvalue = 3915.8'),\n",
              " Text(0.9947252747252747, 0.7045454545454546, 'x[10] <= 52.05\\nsquared_error = 24202.407\\nsamples = 3\\nvalue = 4247.6'),\n",
              " Text(0.9929670329670329, 0.6590909090909091, 'squared_error = 0.0\\nsamples = 1\\nvalue = 4034.7'),\n",
              " Text(0.9964835164835165, 0.6590909090909091, 'x[4] <= 301.25\\nsquared_error = 2308.803\\nsamples = 2\\nvalue = 4354.05'),\n",
              " Text(0.9947252747252747, 0.6136363636363636, 'squared_error = 0.0\\nsamples = 1\\nvalue = 4306.0'),\n",
              " Text(0.9982417582417582, 0.6136363636363636, 'squared_error = 0.0\\nsamples = 1\\nvalue = 4402.1'),\n",
              " Text(0.970989010989011, 0.8863636363636364, 'x[7] <= 1270.75\\nsquared_error = 282598.56\\nsamples = 2\\nvalue = 6697.7'),\n",
              " Text(0.9692307692307692, 0.8409090909090909, 'squared_error = 0.0\\nsamples = 1\\nvalue = 6166.1'),\n",
              " Text(0.9727472527472527, 0.8409090909090909, 'squared_error = -0.0\\nsamples = 1\\nvalue = 7229.3')]"
            ]
          },
          "metadata": {},
          "execution_count": 32
        },
        {
          "output_type": "display_data",
          "data": {
            "text/plain": [
              "<Figure size 640x480 with 1 Axes>"
            ],
            "image/png": "[encoded data removed]"
          },
          "metadata": {}
        }
      ]
    },
    {
      "cell_type": "code",
      "source": [
        "print(yp)"
      ],
      "metadata": {
        "colab": {
          "base_uri": "https://localhost:8080/"
        },
        "id": "36J5PI7W6wwe",
        "outputId": "2a00e48d-418d-408b-992a-46b296b3715b"
      },
      "execution_count": 33,
      "outputs": [
        {
          "output_type": "stream",
          "name": "stdout",
          "text": [
            "[1146.8 1176.5 1273.8 1083.1 2575.3  779.3  982.8 1112.5  554.5 1121.3\n",
            "  959.3 3772.2 1164.6  268.6 2290.   394.1 2814.4 2150.9 1095.9  624.1\n",
            " 2497.7 1997.1 1084.8 2859.3 1293.1 3443.7  887.4  949.6 1313.9 1600.\n",
            " 3094.5 1013.3  850.7  415.6  747.1  554.5 1335.5  820.1  554.5 3218.7\n",
            "  815.4 2557.6  791.7 1336.5  509.1 1533.5 6166.1  975.4  870.  1084.8\n",
            " 2582.2  641.2 1144.4  722.1 1197.4 1977.5 1544.4  731.1  763.4 1957.8\n",
            "  959.3  747.1 1336.5  394.1  903.6 2221.5 1436.7  779.3 1273.8  921.2\n",
            "  968.1  747.1 1472.   644.2  415.6  671.7 2814.4 2030.9  861.9 1660.5\n",
            " 1536.   820.1 1139.6 2150.9 2930.5  554.5 1146.8 1404.5 1148.6 1143.9\n",
            " 2374.1  830.4 1743.5  902.1  885.9 2168.6  933.1  401.4  722.1 1482.8\n",
            " 1448.3  930.7 1191.8 1058.3  805.9  836.4  968.1  415.6 1192.4 1196.\n",
            " 2814.4 1013.3  949.6  274.   816.3 1292.7 1116.2  274.  1088.1 3399.4\n",
            "  975.4 1393.3 1977.5 1338.3 1632.2 1304.5  752.7 2582.2 1173.3]\n"
          ]
        }
      ]
    },
    {
      "cell_type": "code",
      "source": [
        "print(mean_squared_error(y_test,yp))"
      ],
      "metadata": {
        "colab": {
          "base_uri": "https://localhost:8080/"
        },
        "id": "xyvD23Nr60gG",
        "outputId": "29bef46e-decc-44a8-e5e6-f1a36c7c6ffa"
      },
      "execution_count": 34,
      "outputs": [
        {
          "output_type": "stream",
          "name": "stdout",
          "text": [
            "25725.340852713176\n"
          ]
        }
      ]
    },
    {
      "cell_type": "code",
      "source": [
        "import pandas as pd\n",
        "from sklearn.svm import SVR\n",
        "from sklearn.model_selection import train_test_split\n",
        "from sklearn.metrics import accuracy_score"
      ],
      "metadata": {
        "id": "j0vwCWRQ65Fk"
      },
      "execution_count": 35,
      "outputs": []
    },
    {
      "cell_type": "code",
      "source": [
        "model = SVR(kernel='linear')"
      ],
      "metadata": {
        "id": "q_P2Qdt66--H"
      },
      "execution_count": 36,
      "outputs": []
    },
    {
      "cell_type": "markdown",
      "source": [],
      "metadata": {
        "id": "FXgqUrQO7CHU"
      }
    },
    {
      "cell_type": "code",
      "source": [
        "model.fit(x_train,y_train)"
      ],
      "metadata": {
        "colab": {
          "base_uri": "https://localhost:8080/",
          "height": 74
        },
        "id": "JPyCyqyE7CoW",
        "outputId": "9ad6feb7-cbff-4e9d-b519-12d8f9d39458"
      },
      "execution_count": 37,
      "outputs": [
        {
          "output_type": "execute_result",
          "data": {
            "text/plain": [
              "SVR(kernel='linear')"
            ],
            "text/html": [
              "<style>#sk-container-id-2 {color: black;background-color: white;}#sk-container-id-2 pre{padding: 0;}#sk-container-id-2 div.sk-toggleable {background-color: white;}#sk-container-id-2 label.sk-toggleable__label {cursor: pointer;display: block;width: 100%;margin-bottom: 0;padding: 0.3em;box-sizing: border-box;text-align: center;}#sk-container-id-2 label.sk-toggleable__label-arrow:before {content: \"▸\";float: left;margin-right: 0.25em;color: #696969;}#sk-container-id-2 label.sk-toggleable__label-arrow:hover:before {color: black;}#sk-container-id-2 div.sk-estimator:hover label.sk-toggleable__label-arrow:before {color: black;}#sk-container-id-2 div.sk-toggleable__content {max-height: 0;max-width: 0;overflow: hidden;text-align: left;background-color: #f0f8ff;}#sk-container-id-2 div.sk-toggleable__content pre {margin: 0.2em;color: black;border-radius: 0.25em;background-color: #f0f8ff;}#sk-container-id-2 input.sk-toggleable__control:checked~div.sk-toggleable__content {max-height: 200px;max-width: 100%;overflow: auto;}#sk-container-id-2 input.sk-toggleable__control:checked~label.sk-toggleable__label-arrow:before {content: \"▾\";}#sk-container-id-2 div.sk-estimator input.sk-toggleable__control:checked~label.sk-toggleable__label {background-color: #d4ebff;}#sk-container-id-2 div.sk-label input.sk-toggleable__control:checked~label.sk-toggleable__label {background-color: #d4ebff;}#sk-container-id-2 input.sk-hidden--visually {border: 0;clip: rect(1px 1px 1px 1px);clip: rect(1px, 1px, 1px, 1px);height: 1px;margin: -1px;overflow: hidden;padding: 0;position: absolute;width: 1px;}#sk-container-id-2 div.sk-estimator {font-family: monospace;background-color: #f0f8ff;border: 1px dotted black;border-radius: 0.25em;box-sizing: border-box;margin-bottom: 0.5em;}#sk-container-id-2 div.sk-estimator:hover {background-color: #d4ebff;}#sk-container-id-2 div.sk-parallel-item::after {content: \"\";width: 100%;border-bottom: 1px solid gray;flex-grow: 1;}#sk-container-id-2 div.sk-label:hover label.sk-toggleable__label {background-color: #d4ebff;}#sk-container-id-2 div.sk-serial::before {content: \"\";position: absolute;border-left: 1px solid gray;box-sizing: border-box;top: 0;bottom: 0;left: 50%;z-index: 0;}#sk-container-id-2 div.sk-serial {display: flex;flex-direction: column;align-items: center;background-color: white;padding-right: 0.2em;padding-left: 0.2em;position: relative;}#sk-container-id-2 div.sk-item {position: relative;z-index: 1;}#sk-container-id-2 div.sk-parallel {display: flex;align-items: stretch;justify-content: center;background-color: white;position: relative;}#sk-container-id-2 div.sk-item::before, #sk-container-id-2 div.sk-parallel-item::before {content: \"\";position: absolute;border-left: 1px solid gray;box-sizing: border-box;top: 0;bottom: 0;left: 50%;z-index: -1;}#sk-container-id-2 div.sk-parallel-item {display: flex;flex-direction: column;z-index: 1;position: relative;background-color: white;}#sk-container-id-2 div.sk-parallel-item:first-child::after {align-self: flex-end;width: 50%;}#sk-container-id-2 div.sk-parallel-item:last-child::after {align-self: flex-start;width: 50%;}#sk-container-id-2 div.sk-parallel-item:only-child::after {width: 0;}#sk-container-id-2 div.sk-dashed-wrapped {border: 1px dashed gray;margin: 0 0.4em 0.5em 0.4em;box-sizing: border-box;padding-bottom: 0.4em;background-color: white;}#sk-container-id-2 div.sk-label label {font-family: monospace;font-weight: bold;display: inline-block;line-height: 1.2em;}#sk-container-id-2 div.sk-label-container {text-align: center;}#sk-container-id-2 div.sk-container {/* jupyter's `normalize.less` sets `[hidden] { display: none; }` but bootstrap.min.css set `[hidden] { display: none !important; }` so we also need the `!important` here to be able to override the default hidden behavior on the sphinx rendered scikit-learn.org. See: https://github.com/scikit-learn/scikit-learn/issues/21755 */display: inline-block !important;position: relative;}#sk-container-id-2 div.sk-text-repr-fallback {display: none;}</style><div id=\"sk-container-id-2\" class=\"sk-top-container\"><div class=\"sk-text-repr-fallback\"><pre>SVR(kernel=&#x27;linear&#x27;)</pre><b>In a Jupyter environment, please rerun this cell to show the HTML representation or trust the notebook. <br />On GitHub, the HTML representation is unable to render, please try loading this page with nbviewer.org.</b></div><div class=\"sk-container\" hidden><div class=\"sk-item\"><div class=\"sk-estimator sk-toggleable\"><input class=\"sk-toggleable__control sk-hidden--visually\" id=\"sk-estimator-id-2\" type=\"checkbox\" checked><label for=\"sk-estimator-id-2\" class=\"sk-toggleable__label sk-toggleable__label-arrow\">SVR</label><div class=\"sk-toggleable__content\"><pre>SVR(kernel=&#x27;linear&#x27;)</pre></div></div></div></div></div>"
            ]
          },
          "metadata": {},
          "execution_count": 37
        }
      ]
    },
    {
      "cell_type": "code",
      "source": [
        "y_pred=model.predict(x_test)"
      ],
      "metadata": {
        "id": "ut0HzwU07LeY"
      },
      "execution_count": 38,
      "outputs": []
    },
    {
      "cell_type": "code",
      "source": [
        "mae = mean_absolute_error(y_test, y_pred)\n",
        "print(\"Mean Absolute Error:\", mae)"
      ],
      "metadata": {
        "colab": {
          "base_uri": "https://localhost:8080/"
        },
        "id": "AAGSPM3q7Q5b",
        "outputId": "cb477270-80d7-46ec-f04b-423bb98a1de1"
      },
      "execution_count": 39,
      "outputs": [
        {
          "output_type": "stream",
          "name": "stdout",
          "text": [
            "Mean Absolute Error: 0.04753588620007877\n"
          ]
        }
      ]
    },
    {
      "cell_type": "code",
      "source": [
        "mse = mean_squared_error(y_test, y_pred)\n",
        "print(\"Mean Squared Error:\", mse)"
      ],
      "metadata": {
        "colab": {
          "base_uri": "https://localhost:8080/"
        },
        "id": "f4zPywVm7Uhr",
        "outputId": "7c7f685d-b8f9-4c54-cbc9-21960a32d972"
      },
      "execution_count": 40,
      "outputs": [
        {
          "output_type": "stream",
          "name": "stdout",
          "text": [
            "Mean Squared Error: 0.003450724484773055\n"
          ]
        }
      ]
    },
    {
      "cell_type": "code",
      "source": [
        "from sklearn.metrics import mean_squared_error\n",
        "print(mean_squared_error(yp,y_test))"
      ],
      "metadata": {
        "colab": {
          "base_uri": "https://localhost:8080/"
        },
        "id": "vJk5RMJ47X-n",
        "outputId": "737e911d-5e9c-4240-8edc-24af9de913b5"
      },
      "execution_count": 41,
      "outputs": [
        {
          "output_type": "stream",
          "name": "stdout",
          "text": [
            "25725.340852713176\n"
          ]
        }
      ]
    },
    {
      "cell_type": "code",
      "source": [
        "from sklearn.metrics import mean_absolute_error\n",
        "print(mean_absolute_error(yp,y_test))"
      ],
      "metadata": {
        "colab": {
          "base_uri": "https://localhost:8080/"
        },
        "id": "YoPEoLLR7bIf",
        "outputId": "405670ce-fb3d-4185-c6d4-be915f6a696b"
      },
      "execution_count": 42,
      "outputs": [
        {
          "output_type": "stream",
          "name": "stdout",
          "text": [
            "83.98372093023256\n"
          ]
        }
      ]
    },
    {
      "cell_type": "code",
      "source": [
        "import pandas as pd\n",
        "from sklearn.neighbors import KNeighborsRegressor\n",
        "from sklearn.model_selection import train_test_split\n",
        "from sklearn.metrics import mean_absolute_error"
      ],
      "metadata": {
        "id": "grc2NBFZ7hlT"
      },
      "execution_count": 43,
      "outputs": []
    },
    {
      "cell_type": "code",
      "source": [
        "knn = KNeighborsRegressor(n_neighbors=3)"
      ],
      "metadata": {
        "id": "gheBEV0z7lV_"
      },
      "execution_count": 44,
      "outputs": []
    },
    {
      "cell_type": "code",
      "source": [
        "knn.fit(x_train, y_train)"
      ],
      "metadata": {
        "colab": {
          "base_uri": "https://localhost:8080/",
          "height": 74
        },
        "id": "fTOibL-D7qTT",
        "outputId": "38db6601-36e9-47ee-f6b1-296100181678"
      },
      "execution_count": 45,
      "outputs": [
        {
          "output_type": "execute_result",
          "data": {
            "text/plain": [
              "KNeighborsRegressor(n_neighbors=3)"
            ],
            "text/html": [
              "<style>#sk-container-id-3 {color: black;background-color: white;}#sk-container-id-3 pre{padding: 0;}#sk-container-id-3 div.sk-toggleable {background-color: white;}#sk-container-id-3 label.sk-toggleable__label {cursor: pointer;display: block;width: 100%;margin-bottom: 0;padding: 0.3em;box-sizing: border-box;text-align: center;}#sk-container-id-3 label.sk-toggleable__label-arrow:before {content: \"▸\";float: left;margin-right: 0.25em;color: #696969;}#sk-container-id-3 label.sk-toggleable__label-arrow:hover:before {color: black;}#sk-container-id-3 div.sk-estimator:hover label.sk-toggleable__label-arrow:before {color: black;}#sk-container-id-3 div.sk-toggleable__content {max-height: 0;max-width: 0;overflow: hidden;text-align: left;background-color: #f0f8ff;}#sk-container-id-3 div.sk-toggleable__content pre {margin: 0.2em;color: black;border-radius: 0.25em;background-color: #f0f8ff;}#sk-container-id-3 input.sk-toggleable__control:checked~div.sk-toggleable__content {max-height: 200px;max-width: 100%;overflow: auto;}#sk-container-id-3 input.sk-toggleable__control:checked~label.sk-toggleable__label-arrow:before {content: \"▾\";}#sk-container-id-3 div.sk-estimator input.sk-toggleable__control:checked~label.sk-toggleable__label {background-color: #d4ebff;}#sk-container-id-3 div.sk-label input.sk-toggleable__control:checked~label.sk-toggleable__label {background-color: #d4ebff;}#sk-container-id-3 input.sk-hidden--visually {border: 0;clip: rect(1px 1px 1px 1px);clip: rect(1px, 1px, 1px, 1px);height: 1px;margin: -1px;overflow: hidden;padding: 0;position: absolute;width: 1px;}#sk-container-id-3 div.sk-estimator {font-family: monospace;background-color: #f0f8ff;border: 1px dotted black;border-radius: 0.25em;box-sizing: border-box;margin-bottom: 0.5em;}#sk-container-id-3 div.sk-estimator:hover {background-color: #d4ebff;}#sk-container-id-3 div.sk-parallel-item::after {content: \"\";width: 100%;border-bottom: 1px solid gray;flex-grow: 1;}#sk-container-id-3 div.sk-label:hover label.sk-toggleable__label {background-color: #d4ebff;}#sk-container-id-3 div.sk-serial::before {content: \"\";position: absolute;border-left: 1px solid gray;box-sizing: border-box;top: 0;bottom: 0;left: 50%;z-index: 0;}#sk-container-id-3 div.sk-serial {display: flex;flex-direction: column;align-items: center;background-color: white;padding-right: 0.2em;padding-left: 0.2em;position: relative;}#sk-container-id-3 div.sk-item {position: relative;z-index: 1;}#sk-container-id-3 div.sk-parallel {display: flex;align-items: stretch;justify-content: center;background-color: white;position: relative;}#sk-container-id-3 div.sk-item::before, #sk-container-id-3 div.sk-parallel-item::before {content: \"\";position: absolute;border-left: 1px solid gray;box-sizing: border-box;top: 0;bottom: 0;left: 50%;z-index: -1;}#sk-container-id-3 div.sk-parallel-item {display: flex;flex-direction: column;z-index: 1;position: relative;background-color: white;}#sk-container-id-3 div.sk-parallel-item:first-child::after {align-self: flex-end;width: 50%;}#sk-container-id-3 div.sk-parallel-item:last-child::after {align-self: flex-start;width: 50%;}#sk-container-id-3 div.sk-parallel-item:only-child::after {width: 0;}#sk-container-id-3 div.sk-dashed-wrapped {border: 1px dashed gray;margin: 0 0.4em 0.5em 0.4em;box-sizing: border-box;padding-bottom: 0.4em;background-color: white;}#sk-container-id-3 div.sk-label label {font-family: monospace;font-weight: bold;display: inline-block;line-height: 1.2em;}#sk-container-id-3 div.sk-label-container {text-align: center;}#sk-container-id-3 div.sk-container {/* jupyter's `normalize.less` sets `[hidden] { display: none; }` but bootstrap.min.css set `[hidden] { display: none !important; }` so we also need the `!important` here to be able to override the default hidden behavior on the sphinx rendered scikit-learn.org. See: https://github.com/scikit-learn/scikit-learn/issues/21755 */display: inline-block !important;position: relative;}#sk-container-id-3 div.sk-text-repr-fallback {display: none;}</style><div id=\"sk-container-id-3\" class=\"sk-top-container\"><div class=\"sk-text-repr-fallback\"><pre>KNeighborsRegressor(n_neighbors=3)</pre><b>In a Jupyter environment, please rerun this cell to show the HTML representation or trust the notebook. <br />On GitHub, the HTML representation is unable to render, please try loading this page with nbviewer.org.</b></div><div class=\"sk-container\" hidden><div class=\"sk-item\"><div class=\"sk-estimator sk-toggleable\"><input class=\"sk-toggleable__control sk-hidden--visually\" id=\"sk-estimator-id-3\" type=\"checkbox\" checked><label for=\"sk-estimator-id-3\" class=\"sk-toggleable__label sk-toggleable__label-arrow\">KNeighborsRegressor</label><div class=\"sk-toggleable__content\"><pre>KNeighborsRegressor(n_neighbors=3)</pre></div></div></div></div></div>"
            ]
          },
          "metadata": {},
          "execution_count": 45
        }
      ]
    },
    {
      "cell_type": "code",
      "source": [
        "y_pred = knn.predict(x_test)"
      ],
      "metadata": {
        "id": "92hatZWO7vGq"
      },
      "execution_count": 46,
      "outputs": []
    },
    {
      "cell_type": "code",
      "source": [
        "mae = mean_absolute_error(y_test, y_pred)\n",
        "print(\"Mean Absolute Error:\", mae)"
      ],
      "metadata": {
        "colab": {
          "base_uri": "https://localhost:8080/"
        },
        "id": "k9eknvho7y6b",
        "outputId": "a402ab39-df80-45d1-b5e5-b2288e53a411"
      },
      "execution_count": 47,
      "outputs": [
        {
          "output_type": "stream",
          "name": "stdout",
          "text": [
            "Mean Absolute Error: 50.94470284237724\n"
          ]
        }
      ]
    },
    {
      "cell_type": "code",
      "source": [
        "mse = mean_squared_error(y_test, y_pred)\n",
        "print(\"Mean Squared Error:\", mse)"
      ],
      "metadata": {
        "colab": {
          "base_uri": "https://localhost:8080/"
        },
        "id": "sYQeVvZs72Ym",
        "outputId": "0e3c1c19-dac2-49f1-c059-0bd1dbb9d231"
      },
      "execution_count": 48,
      "outputs": [
        {
          "output_type": "stream",
          "name": "stdout",
          "text": [
            "Mean Squared Error: 7804.861584840647\n"
          ]
        }
      ]
    },
    {
      "cell_type": "code",
      "source": [
        "from sklearn.metrics import mean_squared_error\n",
        "print(mean_squared_error(yp,y_test))"
      ],
      "metadata": {
        "colab": {
          "base_uri": "https://localhost:8080/"
        },
        "id": "VkDblB-d76Ek",
        "outputId": "0a74f275-62cd-4fca-8579-fb33ce0aa471"
      },
      "execution_count": 49,
      "outputs": [
        {
          "output_type": "stream",
          "name": "stdout",
          "text": [
            "25725.340852713176\n"
          ]
        }
      ]
    },
    {
      "cell_type": "code",
      "source": [
        "from sklearn.metrics import mean_absolute_error\n",
        "print(mean_absolute_error(yp,y_test))"
      ],
      "metadata": {
        "colab": {
          "base_uri": "https://localhost:8080/"
        },
        "id": "_FpC4BK87-KX",
        "outputId": "0e0490d4-ff2a-4d37-f588-efc54048612f"
      },
      "execution_count": 50,
      "outputs": [
        {
          "output_type": "stream",
          "name": "stdout",
          "text": [
            "83.98372093023256\n"
          ]
        }
      ]
    },
    {
      "cell_type": "markdown",
      "source": [
        "RANDOM FOREST"
      ],
      "metadata": {
        "id": "DVPkscFk8CWB"
      }
    },
    {
      "cell_type": "code",
      "source": [
        "# Import necessary libraries\n",
        "import pandas as pd\n",
        "from sklearn.model_selection import train_test_split\n",
        "from sklearn.ensemble import RandomForestRegressor\n",
        "from sklearn.metrics import mean_squared_error, r2_score\n",
        "\n",
        "# Load your rainfall dataset (replace with your actual data)\n",
        "# For example, you can use the Austin, Texas weather dataset from Kaggle\n",
        "# Read the data into a Pandas DataFrame\n",
        "data = pd.read_csv('district.csv')\n",
        "\n",
        "print(f\"Random Forest Model Performance:\")\n",
        "print(f\"MSE: {mse:.2f}\")\n",
        "print(f\"MAE: {mae:.2f}\")\n"
      ],
      "metadata": {
        "colab": {
          "base_uri": "https://localhost:8080/"
        },
        "id": "Nvf8aFM18EeV",
        "outputId": "0ff24187-4087-4b3f-e30e-75057f1e9585"
      },
      "execution_count": 51,
      "outputs": [
        {
          "output_type": "stream",
          "name": "stdout",
          "text": [
            "Random Forest Model Performance:\n",
            "MSE: 7804.86\n",
            "MAE: 50.94\n"
          ]
        }
      ]
    }
  ]
}